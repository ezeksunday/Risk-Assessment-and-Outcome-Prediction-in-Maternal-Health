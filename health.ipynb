{
 "cells": [
  {
   "cell_type": "markdown",
   "id": "ca939004",
   "metadata": {
    "id": "ca939004"
   },
   "source": [
    "# importing Neccesary Libraries"
   ]
  },
  {
   "cell_type": "code",
   "execution_count": 1,
   "id": "debccdfb",
   "metadata": {
    "id": "debccdfb"
   },
   "outputs": [],
   "source": [
    "import numpy as np\n",
    "import pandas as pd\n",
    "import seaborn as sns\n",
    "import matplotlib.pyplot as plt\n",
    "import plotly.graph_objects as go\n",
    "from sklearn.linear_model import LogisticRegression\n",
    "from sklearn.model_selection import train_test_split,cross_val_score,StratifiedKFold\n",
    "from sklearn.metrics import classification_report\n",
    "from sklearn.ensemble import RandomForestClassifier\n",
    "import plotly.express as px\n",
    "from sklearn.tree import DecisionTreeClassifier\n",
    "from sklearn.linear_model import LogisticRegression\n",
    "from sklearn.svm import SVC\n",
    "from sklearn.preprocessing import StandardScaler\n",
    "import warnings\n",
    "warnings.filterwarnings(\"ignore\")"
   ]
  },
  {
   "cell_type": "markdown",
   "id": "355c8d40",
   "metadata": {
    "id": "355c8d40"
   },
   "source": [
    "# Loading the dataset"
   ]
  },
  {
   "cell_type": "code",
   "execution_count": 2,
   "id": "3292c851",
   "metadata": {
    "id": "3292c851"
   },
   "outputs": [],
   "source": [
    "data=pd.read_csv('health_data.csv')\n"
   ]
  },
  {
   "cell_type": "code",
   "execution_count": null,
   "id": "d07cba36",
   "metadata": {
    "id": "d07cba36"
   },
   "outputs": [],
   "source": []
  },
  {
   "cell_type": "markdown",
   "id": "bcda0bc8",
   "metadata": {
    "id": "bcda0bc8"
   },
   "source": [
    "# Data Analysis"
   ]
  },
  {
   "cell_type": "code",
   "execution_count": 3,
   "id": "f656d47f",
   "metadata": {
    "colab": {
     "base_uri": "https://localhost:8080/",
     "height": 206
    },
    "id": "f656d47f",
    "outputId": "e44657ec-251c-449c-ff12-e4708b9460bc"
   },
   "outputs": [
    {
     "data": {
      "text/html": [
       "<div>\n",
       "<style scoped>\n",
       "    .dataframe tbody tr th:only-of-type {\n",
       "        vertical-align: middle;\n",
       "    }\n",
       "\n",
       "    .dataframe tbody tr th {\n",
       "        vertical-align: top;\n",
       "    }\n",
       "\n",
       "    .dataframe thead th {\n",
       "        text-align: right;\n",
       "    }\n",
       "</style>\n",
       "<table border=\"1\" class=\"dataframe\">\n",
       "  <thead>\n",
       "    <tr style=\"text-align: right;\">\n",
       "      <th></th>\n",
       "      <th>Record_Date</th>\n",
       "      <th>Patient_ID</th>\n",
       "      <th>Age</th>\n",
       "      <th>Gender</th>\n",
       "      <th>Admission_Date</th>\n",
       "      <th>Discharge_Date</th>\n",
       "      <th>Blood_Pressure</th>\n",
       "      <th>Gestational_Diabetes</th>\n",
       "      <th>Total_Billing_Amount</th>\n",
       "      <th>Payment_Status</th>\n",
       "      <th>Payment_Date</th>\n",
       "      <th>Staff_ID</th>\n",
       "      <th>Staff_Role</th>\n",
       "      <th>Staff_Satisfaction</th>\n",
       "      <th>IV_Fluids_Stock</th>\n",
       "      <th>Medications_Stock</th>\n",
       "      <th>Bed_Availability</th>\n",
       "      <th>Patient_Satisfaction</th>\n",
       "      <th>Readmission_Within_30_Days</th>\n",
       "      <th>Maternal_Outcome</th>\n",
       "    </tr>\n",
       "  </thead>\n",
       "  <tbody>\n",
       "    <tr>\n",
       "      <th>0</th>\n",
       "      <td>31/12/2019</td>\n",
       "      <td>1</td>\n",
       "      <td>29</td>\n",
       "      <td>Male</td>\n",
       "      <td>01/01/2018</td>\n",
       "      <td>10/01/2018</td>\n",
       "      <td>126</td>\n",
       "      <td>1</td>\n",
       "      <td>87568</td>\n",
       "      <td>Paid</td>\n",
       "      <td>15/01/2018</td>\n",
       "      <td>1039</td>\n",
       "      <td>Doctor</td>\n",
       "      <td>1</td>\n",
       "      <td>299</td>\n",
       "      <td>601</td>\n",
       "      <td>1</td>\n",
       "      <td>4</td>\n",
       "      <td>1</td>\n",
       "      <td>Healthy</td>\n",
       "    </tr>\n",
       "    <tr>\n",
       "      <th>1</th>\n",
       "      <td>31/01/2020</td>\n",
       "      <td>2</td>\n",
       "      <td>28</td>\n",
       "      <td>Male</td>\n",
       "      <td>02/01/2018</td>\n",
       "      <td>04/01/2018</td>\n",
       "      <td>92</td>\n",
       "      <td>0</td>\n",
       "      <td>77041</td>\n",
       "      <td>Unpaid</td>\n",
       "      <td>05/01/2018</td>\n",
       "      <td>1041</td>\n",
       "      <td>Nurse</td>\n",
       "      <td>2</td>\n",
       "      <td>107</td>\n",
       "      <td>476</td>\n",
       "      <td>7</td>\n",
       "      <td>5</td>\n",
       "      <td>1</td>\n",
       "      <td>Healthy</td>\n",
       "    </tr>\n",
       "    <tr>\n",
       "      <th>2</th>\n",
       "      <td>29/02/2020</td>\n",
       "      <td>3</td>\n",
       "      <td>21</td>\n",
       "      <td>Female</td>\n",
       "      <td>03/01/2018</td>\n",
       "      <td>17/01/2018</td>\n",
       "      <td>148</td>\n",
       "      <td>1</td>\n",
       "      <td>19448</td>\n",
       "      <td>Unpaid</td>\n",
       "      <td>21/01/2018</td>\n",
       "      <td>1034</td>\n",
       "      <td>Admin</td>\n",
       "      <td>2</td>\n",
       "      <td>382</td>\n",
       "      <td>211</td>\n",
       "      <td>5</td>\n",
       "      <td>4</td>\n",
       "      <td>1</td>\n",
       "      <td>Healthy</td>\n",
       "    </tr>\n",
       "    <tr>\n",
       "      <th>3</th>\n",
       "      <td>31/03/2020</td>\n",
       "      <td>4</td>\n",
       "      <td>26</td>\n",
       "      <td>Male</td>\n",
       "      <td>04/01/2018</td>\n",
       "      <td>11/01/2018</td>\n",
       "      <td>116</td>\n",
       "      <td>1</td>\n",
       "      <td>88776</td>\n",
       "      <td>Unpaid</td>\n",
       "      <td>25/01/2018</td>\n",
       "      <td>1039</td>\n",
       "      <td>Admin</td>\n",
       "      <td>1</td>\n",
       "      <td>212</td>\n",
       "      <td>677</td>\n",
       "      <td>1</td>\n",
       "      <td>5</td>\n",
       "      <td>1</td>\n",
       "      <td>Healthy</td>\n",
       "    </tr>\n",
       "    <tr>\n",
       "      <th>4</th>\n",
       "      <td>30/04/2020</td>\n",
       "      <td>5</td>\n",
       "      <td>78</td>\n",
       "      <td>Male</td>\n",
       "      <td>05/01/2018</td>\n",
       "      <td>08/01/2018</td>\n",
       "      <td>121</td>\n",
       "      <td>1</td>\n",
       "      <td>69606</td>\n",
       "      <td>Paid</td>\n",
       "      <td>08/01/2018</td>\n",
       "      <td>1032</td>\n",
       "      <td>Admin</td>\n",
       "      <td>1</td>\n",
       "      <td>66</td>\n",
       "      <td>721</td>\n",
       "      <td>1</td>\n",
       "      <td>2</td>\n",
       "      <td>0</td>\n",
       "      <td>Healthy</td>\n",
       "    </tr>\n",
       "  </tbody>\n",
       "</table>\n",
       "</div>"
      ],
      "text/plain": [
       "  Record_Date  Patient_ID  Age  Gender Admission_Date Discharge_Date  \\\n",
       "0  31/12/2019           1   29    Male     01/01/2018     10/01/2018   \n",
       "1  31/01/2020           2   28    Male     02/01/2018     04/01/2018   \n",
       "2  29/02/2020           3   21  Female     03/01/2018     17/01/2018   \n",
       "3  31/03/2020           4   26    Male     04/01/2018     11/01/2018   \n",
       "4  30/04/2020           5   78    Male     05/01/2018     08/01/2018   \n",
       "\n",
       "   Blood_Pressure  Gestational_Diabetes  Total_Billing_Amount Payment_Status  \\\n",
       "0             126                     1                 87568           Paid   \n",
       "1              92                     0                 77041         Unpaid   \n",
       "2             148                     1                 19448         Unpaid   \n",
       "3             116                     1                 88776         Unpaid   \n",
       "4             121                     1                 69606           Paid   \n",
       "\n",
       "  Payment_Date  Staff_ID Staff_Role  Staff_Satisfaction  IV_Fluids_Stock  \\\n",
       "0   15/01/2018      1039     Doctor                   1              299   \n",
       "1   05/01/2018      1041      Nurse                   2              107   \n",
       "2   21/01/2018      1034      Admin                   2              382   \n",
       "3   25/01/2018      1039      Admin                   1              212   \n",
       "4   08/01/2018      1032      Admin                   1               66   \n",
       "\n",
       "   Medications_Stock  Bed_Availability  Patient_Satisfaction  \\\n",
       "0                601                 1                     4   \n",
       "1                476                 7                     5   \n",
       "2                211                 5                     4   \n",
       "3                677                 1                     5   \n",
       "4                721                 1                     2   \n",
       "\n",
       "   Readmission_Within_30_Days Maternal_Outcome  \n",
       "0                           1          Healthy  \n",
       "1                           1          Healthy  \n",
       "2                           1          Healthy  \n",
       "3                           1          Healthy  \n",
       "4                           0          Healthy  "
      ]
     },
     "execution_count": 3,
     "metadata": {},
     "output_type": "execute_result"
    }
   ],
   "source": [
    "data.head(5)\n",
    "\n"
   ]
  },
  {
   "cell_type": "code",
   "execution_count": 4,
   "id": "7f274b4f",
   "metadata": {
    "colab": {
     "base_uri": "https://localhost:8080/"
    },
    "id": "7f274b4f",
    "outputId": "49b73d63-2bda-4cce-c7cb-a6e6330ef7dd"
   },
   "outputs": [
    {
     "name": "stdout",
     "output_type": "stream",
     "text": [
      "<class 'pandas.core.frame.DataFrame'>\n",
      "RangeIndex: 1000 entries, 0 to 999\n",
      "Data columns (total 20 columns):\n",
      " #   Column                      Non-Null Count  Dtype \n",
      "---  ------                      --------------  ----- \n",
      " 0   Record_Date                 1000 non-null   object\n",
      " 1   Patient_ID                  1000 non-null   int64 \n",
      " 2   Age                         1000 non-null   int64 \n",
      " 3   Gender                      1000 non-null   object\n",
      " 4   Admission_Date              1000 non-null   object\n",
      " 5   Discharge_Date              1000 non-null   object\n",
      " 6   Blood_Pressure              1000 non-null   int64 \n",
      " 7   Gestational_Diabetes        1000 non-null   int64 \n",
      " 8   Total_Billing_Amount        1000 non-null   int64 \n",
      " 9   Payment_Status              1000 non-null   object\n",
      " 10  Payment_Date                1000 non-null   object\n",
      " 11  Staff_ID                    1000 non-null   int64 \n",
      " 12  Staff_Role                  1000 non-null   object\n",
      " 13  Staff_Satisfaction          1000 non-null   int64 \n",
      " 14  IV_Fluids_Stock             1000 non-null   int64 \n",
      " 15  Medications_Stock           1000 non-null   int64 \n",
      " 16  Bed_Availability            1000 non-null   int64 \n",
      " 17  Patient_Satisfaction        1000 non-null   int64 \n",
      " 18  Readmission_Within_30_Days  1000 non-null   int64 \n",
      " 19  Maternal_Outcome            1000 non-null   object\n",
      "dtypes: int64(12), object(8)\n",
      "memory usage: 156.4+ KB\n"
     ]
    }
   ],
   "source": [
    "data.info()\n"
   ]
  },
  {
   "cell_type": "code",
   "execution_count": 5,
   "id": "fd062353",
   "metadata": {},
   "outputs": [
    {
     "data": {
      "text/plain": [
       "array(['Healthy', 'Critical', 'Deceased'], dtype=object)"
      ]
     },
     "execution_count": 5,
     "metadata": {},
     "output_type": "execute_result"
    }
   ],
   "source": [
    "data['Maternal_Outcome'].unique()"
   ]
  },
  {
   "cell_type": "code",
   "execution_count": 6,
   "id": "4dba8028",
   "metadata": {
    "colab": {
     "base_uri": "https://localhost:8080/",
     "height": 143
    },
    "id": "4dba8028",
    "outputId": "662057c1-5af6-4057-c701-a7bac40bf0f8"
   },
   "outputs": [
    {
     "data": {
      "text/html": [
       "<div>\n",
       "<style scoped>\n",
       "    .dataframe tbody tr th:only-of-type {\n",
       "        vertical-align: middle;\n",
       "    }\n",
       "\n",
       "    .dataframe tbody tr th {\n",
       "        vertical-align: top;\n",
       "    }\n",
       "\n",
       "    .dataframe thead th {\n",
       "        text-align: right;\n",
       "    }\n",
       "</style>\n",
       "<table border=\"1\" class=\"dataframe\">\n",
       "  <thead>\n",
       "    <tr style=\"text-align: right;\">\n",
       "      <th></th>\n",
       "      <th>Patient_ID</th>\n",
       "      <th>Age</th>\n",
       "      <th>Blood_Pressure</th>\n",
       "      <th>Gestational_Diabetes</th>\n",
       "      <th>Total_Billing_Amount</th>\n",
       "      <th>Staff_ID</th>\n",
       "      <th>Staff_Satisfaction</th>\n",
       "      <th>IV_Fluids_Stock</th>\n",
       "      <th>Medications_Stock</th>\n",
       "      <th>Bed_Availability</th>\n",
       "      <th>Patient_Satisfaction</th>\n",
       "      <th>Readmission_Within_30_Days</th>\n",
       "    </tr>\n",
       "  </thead>\n",
       "  <tbody>\n",
       "    <tr>\n",
       "      <th>Patient_ID</th>\n",
       "      <td>1.000000</td>\n",
       "      <td>0.051171</td>\n",
       "      <td>-0.031209</td>\n",
       "      <td>-0.047425</td>\n",
       "      <td>0.002903</td>\n",
       "      <td>0.004552</td>\n",
       "      <td>0.003506</td>\n",
       "      <td>-0.034631</td>\n",
       "      <td>-0.029631</td>\n",
       "      <td>-0.005815</td>\n",
       "      <td>0.004252</td>\n",
       "      <td>0.009247</td>\n",
       "    </tr>\n",
       "    <tr>\n",
       "      <th>Age</th>\n",
       "      <td>0.051171</td>\n",
       "      <td>1.000000</td>\n",
       "      <td>-0.029650</td>\n",
       "      <td>0.013863</td>\n",
       "      <td>-0.054306</td>\n",
       "      <td>-0.001057</td>\n",
       "      <td>-0.024548</td>\n",
       "      <td>-0.054836</td>\n",
       "      <td>-0.042695</td>\n",
       "      <td>0.003298</td>\n",
       "      <td>0.005430</td>\n",
       "      <td>-0.024176</td>\n",
       "    </tr>\n",
       "    <tr>\n",
       "      <th>Blood_Pressure</th>\n",
       "      <td>-0.031209</td>\n",
       "      <td>-0.029650</td>\n",
       "      <td>1.000000</td>\n",
       "      <td>-0.011369</td>\n",
       "      <td>-0.013273</td>\n",
       "      <td>0.057764</td>\n",
       "      <td>0.016012</td>\n",
       "      <td>0.019964</td>\n",
       "      <td>-0.034898</td>\n",
       "      <td>0.037328</td>\n",
       "      <td>-0.014913</td>\n",
       "      <td>-0.008013</td>\n",
       "    </tr>\n",
       "    <tr>\n",
       "      <th>Gestational_Diabetes</th>\n",
       "      <td>-0.047425</td>\n",
       "      <td>0.013863</td>\n",
       "      <td>-0.011369</td>\n",
       "      <td>1.000000</td>\n",
       "      <td>0.022273</td>\n",
       "      <td>0.008381</td>\n",
       "      <td>-0.004685</td>\n",
       "      <td>-0.033279</td>\n",
       "      <td>-0.056214</td>\n",
       "      <td>-0.018845</td>\n",
       "      <td>-0.007764</td>\n",
       "      <td>0.014147</td>\n",
       "    </tr>\n",
       "    <tr>\n",
       "      <th>Total_Billing_Amount</th>\n",
       "      <td>0.002903</td>\n",
       "      <td>-0.054306</td>\n",
       "      <td>-0.013273</td>\n",
       "      <td>0.022273</td>\n",
       "      <td>1.000000</td>\n",
       "      <td>0.004774</td>\n",
       "      <td>0.011229</td>\n",
       "      <td>0.007505</td>\n",
       "      <td>0.000801</td>\n",
       "      <td>-0.033828</td>\n",
       "      <td>-0.034805</td>\n",
       "      <td>-0.016082</td>\n",
       "    </tr>\n",
       "    <tr>\n",
       "      <th>Staff_ID</th>\n",
       "      <td>0.004552</td>\n",
       "      <td>-0.001057</td>\n",
       "      <td>0.057764</td>\n",
       "      <td>0.008381</td>\n",
       "      <td>0.004774</td>\n",
       "      <td>1.000000</td>\n",
       "      <td>-0.050473</td>\n",
       "      <td>0.011225</td>\n",
       "      <td>0.045883</td>\n",
       "      <td>-0.017620</td>\n",
       "      <td>0.024982</td>\n",
       "      <td>0.043538</td>\n",
       "    </tr>\n",
       "    <tr>\n",
       "      <th>Staff_Satisfaction</th>\n",
       "      <td>0.003506</td>\n",
       "      <td>-0.024548</td>\n",
       "      <td>0.016012</td>\n",
       "      <td>-0.004685</td>\n",
       "      <td>0.011229</td>\n",
       "      <td>-0.050473</td>\n",
       "      <td>1.000000</td>\n",
       "      <td>-0.013545</td>\n",
       "      <td>-0.028319</td>\n",
       "      <td>0.004531</td>\n",
       "      <td>-0.019146</td>\n",
       "      <td>-0.007715</td>\n",
       "    </tr>\n",
       "    <tr>\n",
       "      <th>IV_Fluids_Stock</th>\n",
       "      <td>-0.034631</td>\n",
       "      <td>-0.054836</td>\n",
       "      <td>0.019964</td>\n",
       "      <td>-0.033279</td>\n",
       "      <td>0.007505</td>\n",
       "      <td>0.011225</td>\n",
       "      <td>-0.013545</td>\n",
       "      <td>1.000000</td>\n",
       "      <td>0.010591</td>\n",
       "      <td>-0.007197</td>\n",
       "      <td>-0.014094</td>\n",
       "      <td>0.025245</td>\n",
       "    </tr>\n",
       "    <tr>\n",
       "      <th>Medications_Stock</th>\n",
       "      <td>-0.029631</td>\n",
       "      <td>-0.042695</td>\n",
       "      <td>-0.034898</td>\n",
       "      <td>-0.056214</td>\n",
       "      <td>0.000801</td>\n",
       "      <td>0.045883</td>\n",
       "      <td>-0.028319</td>\n",
       "      <td>0.010591</td>\n",
       "      <td>1.000000</td>\n",
       "      <td>-0.006734</td>\n",
       "      <td>-0.021898</td>\n",
       "      <td>-0.022661</td>\n",
       "    </tr>\n",
       "    <tr>\n",
       "      <th>Bed_Availability</th>\n",
       "      <td>-0.005815</td>\n",
       "      <td>0.003298</td>\n",
       "      <td>0.037328</td>\n",
       "      <td>-0.018845</td>\n",
       "      <td>-0.033828</td>\n",
       "      <td>-0.017620</td>\n",
       "      <td>0.004531</td>\n",
       "      <td>-0.007197</td>\n",
       "      <td>-0.006734</td>\n",
       "      <td>1.000000</td>\n",
       "      <td>0.068503</td>\n",
       "      <td>-0.038098</td>\n",
       "    </tr>\n",
       "    <tr>\n",
       "      <th>Patient_Satisfaction</th>\n",
       "      <td>0.004252</td>\n",
       "      <td>0.005430</td>\n",
       "      <td>-0.014913</td>\n",
       "      <td>-0.007764</td>\n",
       "      <td>-0.034805</td>\n",
       "      <td>0.024982</td>\n",
       "      <td>-0.019146</td>\n",
       "      <td>-0.014094</td>\n",
       "      <td>-0.021898</td>\n",
       "      <td>0.068503</td>\n",
       "      <td>1.000000</td>\n",
       "      <td>-0.024280</td>\n",
       "    </tr>\n",
       "    <tr>\n",
       "      <th>Readmission_Within_30_Days</th>\n",
       "      <td>0.009247</td>\n",
       "      <td>-0.024176</td>\n",
       "      <td>-0.008013</td>\n",
       "      <td>0.014147</td>\n",
       "      <td>-0.016082</td>\n",
       "      <td>0.043538</td>\n",
       "      <td>-0.007715</td>\n",
       "      <td>0.025245</td>\n",
       "      <td>-0.022661</td>\n",
       "      <td>-0.038098</td>\n",
       "      <td>-0.024280</td>\n",
       "      <td>1.000000</td>\n",
       "    </tr>\n",
       "  </tbody>\n",
       "</table>\n",
       "</div>"
      ],
      "text/plain": [
       "                            Patient_ID       Age  Blood_Pressure  \\\n",
       "Patient_ID                    1.000000  0.051171       -0.031209   \n",
       "Age                           0.051171  1.000000       -0.029650   \n",
       "Blood_Pressure               -0.031209 -0.029650        1.000000   \n",
       "Gestational_Diabetes         -0.047425  0.013863       -0.011369   \n",
       "Total_Billing_Amount          0.002903 -0.054306       -0.013273   \n",
       "Staff_ID                      0.004552 -0.001057        0.057764   \n",
       "Staff_Satisfaction            0.003506 -0.024548        0.016012   \n",
       "IV_Fluids_Stock              -0.034631 -0.054836        0.019964   \n",
       "Medications_Stock            -0.029631 -0.042695       -0.034898   \n",
       "Bed_Availability             -0.005815  0.003298        0.037328   \n",
       "Patient_Satisfaction          0.004252  0.005430       -0.014913   \n",
       "Readmission_Within_30_Days    0.009247 -0.024176       -0.008013   \n",
       "\n",
       "                            Gestational_Diabetes  Total_Billing_Amount  \\\n",
       "Patient_ID                             -0.047425              0.002903   \n",
       "Age                                     0.013863             -0.054306   \n",
       "Blood_Pressure                         -0.011369             -0.013273   \n",
       "Gestational_Diabetes                    1.000000              0.022273   \n",
       "Total_Billing_Amount                    0.022273              1.000000   \n",
       "Staff_ID                                0.008381              0.004774   \n",
       "Staff_Satisfaction                     -0.004685              0.011229   \n",
       "IV_Fluids_Stock                        -0.033279              0.007505   \n",
       "Medications_Stock                      -0.056214              0.000801   \n",
       "Bed_Availability                       -0.018845             -0.033828   \n",
       "Patient_Satisfaction                   -0.007764             -0.034805   \n",
       "Readmission_Within_30_Days              0.014147             -0.016082   \n",
       "\n",
       "                            Staff_ID  Staff_Satisfaction  IV_Fluids_Stock  \\\n",
       "Patient_ID                  0.004552            0.003506        -0.034631   \n",
       "Age                        -0.001057           -0.024548        -0.054836   \n",
       "Blood_Pressure              0.057764            0.016012         0.019964   \n",
       "Gestational_Diabetes        0.008381           -0.004685        -0.033279   \n",
       "Total_Billing_Amount        0.004774            0.011229         0.007505   \n",
       "Staff_ID                    1.000000           -0.050473         0.011225   \n",
       "Staff_Satisfaction         -0.050473            1.000000        -0.013545   \n",
       "IV_Fluids_Stock             0.011225           -0.013545         1.000000   \n",
       "Medications_Stock           0.045883           -0.028319         0.010591   \n",
       "Bed_Availability           -0.017620            0.004531        -0.007197   \n",
       "Patient_Satisfaction        0.024982           -0.019146        -0.014094   \n",
       "Readmission_Within_30_Days  0.043538           -0.007715         0.025245   \n",
       "\n",
       "                            Medications_Stock  Bed_Availability  \\\n",
       "Patient_ID                          -0.029631         -0.005815   \n",
       "Age                                 -0.042695          0.003298   \n",
       "Blood_Pressure                      -0.034898          0.037328   \n",
       "Gestational_Diabetes                -0.056214         -0.018845   \n",
       "Total_Billing_Amount                 0.000801         -0.033828   \n",
       "Staff_ID                             0.045883         -0.017620   \n",
       "Staff_Satisfaction                  -0.028319          0.004531   \n",
       "IV_Fluids_Stock                      0.010591         -0.007197   \n",
       "Medications_Stock                    1.000000         -0.006734   \n",
       "Bed_Availability                    -0.006734          1.000000   \n",
       "Patient_Satisfaction                -0.021898          0.068503   \n",
       "Readmission_Within_30_Days          -0.022661         -0.038098   \n",
       "\n",
       "                            Patient_Satisfaction  Readmission_Within_30_Days  \n",
       "Patient_ID                              0.004252                    0.009247  \n",
       "Age                                     0.005430                   -0.024176  \n",
       "Blood_Pressure                         -0.014913                   -0.008013  \n",
       "Gestational_Diabetes                   -0.007764                    0.014147  \n",
       "Total_Billing_Amount                   -0.034805                   -0.016082  \n",
       "Staff_ID                                0.024982                    0.043538  \n",
       "Staff_Satisfaction                     -0.019146                   -0.007715  \n",
       "IV_Fluids_Stock                        -0.014094                    0.025245  \n",
       "Medications_Stock                      -0.021898                   -0.022661  \n",
       "Bed_Availability                        0.068503                   -0.038098  \n",
       "Patient_Satisfaction                    1.000000                   -0.024280  \n",
       "Readmission_Within_30_Days             -0.024280                    1.000000  "
      ]
     },
     "execution_count": 6,
     "metadata": {},
     "output_type": "execute_result"
    }
   ],
   "source": [
    "data.select_dtypes(include=['number']).corr()"
   ]
  },
  {
   "cell_type": "code",
   "execution_count": 7,
   "id": "1e103c0c",
   "metadata": {
    "colab": {
     "base_uri": "https://localhost:8080/",
     "height": 300
    },
    "id": "1e103c0c",
    "outputId": "3f98a9a4-40a0-45ad-848b-292a073bd212"
   },
   "outputs": [],
   "source": [
    "data=data.drop(['Patient_ID', 'Staff_ID'], axis=1)\n"
   ]
  },
  {
   "cell_type": "code",
   "execution_count": null,
   "id": "5c9b880c",
   "metadata": {},
   "outputs": [],
   "source": []
  },
  {
   "cell_type": "code",
   "execution_count": 8,
   "id": "809b87a9",
   "metadata": {},
   "outputs": [
    {
     "data": {
      "text/plain": [
       "Record_Date                   0\n",
       "Age                           0\n",
       "Gender                        0\n",
       "Admission_Date                0\n",
       "Discharge_Date                0\n",
       "Blood_Pressure                0\n",
       "Gestational_Diabetes          0\n",
       "Total_Billing_Amount          0\n",
       "Payment_Status                0\n",
       "Payment_Date                  0\n",
       "Staff_Role                    0\n",
       "Staff_Satisfaction            0\n",
       "IV_Fluids_Stock               0\n",
       "Medications_Stock             0\n",
       "Bed_Availability              0\n",
       "Patient_Satisfaction          0\n",
       "Readmission_Within_30_Days    0\n",
       "Maternal_Outcome              0\n",
       "dtype: int64"
      ]
     },
     "execution_count": 8,
     "metadata": {},
     "output_type": "execute_result"
    }
   ],
   "source": [
    "data.isnull().sum()"
   ]
  },
  {
   "cell_type": "code",
   "execution_count": null,
   "id": "38f2a500",
   "metadata": {},
   "outputs": [],
   "source": []
  },
  {
   "cell_type": "code",
   "execution_count": null,
   "id": "aa17255c",
   "metadata": {},
   "outputs": [],
   "source": []
  },
  {
   "cell_type": "code",
   "execution_count": 9,
   "id": "0048e9b9",
   "metadata": {
    "colab": {
     "base_uri": "https://localhost:8080/",
     "height": 335
    },
    "id": "0048e9b9",
    "outputId": "d75a9a1b-8edc-4bc6-e47b-891e3faca632"
   },
   "outputs": [
    {
     "data": {
      "text/plain": [
       "Healthy     761\n",
       "Critical    176\n",
       "Deceased     63\n",
       "Name: Maternal_Outcome, dtype: int64"
      ]
     },
     "execution_count": 9,
     "metadata": {},
     "output_type": "execute_result"
    }
   ],
   "source": [
    "data['Maternal_Outcome'].value_counts()"
   ]
  },
  {
   "cell_type": "markdown",
   "id": "8c1528a3",
   "metadata": {
    "id": "8c1528a3"
   },
   "source": [
    "# performing visualization of the dataset"
   ]
  },
  {
   "cell_type": "code",
   "execution_count": 10,
   "id": "dbd71e45",
   "metadata": {
    "id": "dbd71e45"
   },
   "outputs": [
    {
     "data": {
      "application/vnd.plotly.v1+json": {
       "config": {
        "plotlyServerURL": "https://plot.ly"
       },
       "data": [
        {
         "alignmentgroup": "True",
         "bingroup": "x",
         "hovertemplate": "Maternal_Outcome=%{x}<br>count=%{y}<extra></extra>",
         "legendgroup": "",
         "marker": {
          "color": "#636efa",
          "pattern": {
           "shape": ""
          }
         },
         "name": "",
         "offsetgroup": "",
         "orientation": "v",
         "showlegend": false,
         "type": "histogram",
         "x": [
          "Healthy",
          "Healthy",
          "Healthy",
          "Healthy",
          "Healthy",
          "Healthy",
          "Healthy",
          "Healthy",
          "Healthy",
          "Healthy",
          "Critical",
          "Healthy",
          "Healthy",
          "Healthy",
          "Healthy",
          "Healthy",
          "Healthy",
          "Healthy",
          "Healthy",
          "Healthy",
          "Healthy",
          "Healthy",
          "Healthy",
          "Critical",
          "Healthy",
          "Critical",
          "Deceased",
          "Healthy",
          "Healthy",
          "Healthy",
          "Critical",
          "Healthy",
          "Healthy",
          "Healthy",
          "Deceased",
          "Healthy",
          "Healthy",
          "Healthy",
          "Healthy",
          "Critical",
          "Healthy",
          "Healthy",
          "Healthy",
          "Healthy",
          "Critical",
          "Deceased",
          "Healthy",
          "Healthy",
          "Healthy",
          "Healthy",
          "Healthy",
          "Healthy",
          "Healthy",
          "Healthy",
          "Critical",
          "Critical",
          "Healthy",
          "Healthy",
          "Healthy",
          "Critical",
          "Critical",
          "Healthy",
          "Healthy",
          "Critical",
          "Healthy",
          "Healthy",
          "Critical",
          "Critical",
          "Healthy",
          "Healthy",
          "Critical",
          "Healthy",
          "Critical",
          "Healthy",
          "Healthy",
          "Healthy",
          "Critical",
          "Healthy",
          "Healthy",
          "Deceased",
          "Healthy",
          "Deceased",
          "Deceased",
          "Deceased",
          "Healthy",
          "Healthy",
          "Critical",
          "Healthy",
          "Critical",
          "Healthy",
          "Healthy",
          "Healthy",
          "Healthy",
          "Healthy",
          "Healthy",
          "Healthy",
          "Critical",
          "Healthy",
          "Healthy",
          "Healthy",
          "Healthy",
          "Critical",
          "Healthy",
          "Healthy",
          "Healthy",
          "Healthy",
          "Deceased",
          "Critical",
          "Healthy",
          "Healthy",
          "Critical",
          "Healthy",
          "Healthy",
          "Healthy",
          "Healthy",
          "Healthy",
          "Healthy",
          "Healthy",
          "Healthy",
          "Healthy",
          "Critical",
          "Healthy",
          "Healthy",
          "Healthy",
          "Healthy",
          "Healthy",
          "Healthy",
          "Healthy",
          "Healthy",
          "Healthy",
          "Healthy",
          "Healthy",
          "Deceased",
          "Healthy",
          "Healthy",
          "Healthy",
          "Critical",
          "Healthy",
          "Healthy",
          "Critical",
          "Healthy",
          "Healthy",
          "Healthy",
          "Healthy",
          "Healthy",
          "Healthy",
          "Healthy",
          "Healthy",
          "Healthy",
          "Healthy",
          "Healthy",
          "Healthy",
          "Healthy",
          "Healthy",
          "Healthy",
          "Healthy",
          "Healthy",
          "Healthy",
          "Critical",
          "Healthy",
          "Healthy",
          "Healthy",
          "Healthy",
          "Deceased",
          "Healthy",
          "Deceased",
          "Healthy",
          "Healthy",
          "Critical",
          "Healthy",
          "Healthy",
          "Healthy",
          "Healthy",
          "Healthy",
          "Critical",
          "Healthy",
          "Healthy",
          "Healthy",
          "Healthy",
          "Healthy",
          "Healthy",
          "Healthy",
          "Healthy",
          "Deceased",
          "Critical",
          "Healthy",
          "Healthy",
          "Healthy",
          "Healthy",
          "Healthy",
          "Healthy",
          "Healthy",
          "Healthy",
          "Healthy",
          "Healthy",
          "Healthy",
          "Healthy",
          "Deceased",
          "Critical",
          "Healthy",
          "Healthy",
          "Healthy",
          "Healthy",
          "Healthy",
          "Deceased",
          "Healthy",
          "Healthy",
          "Healthy",
          "Healthy",
          "Critical",
          "Critical",
          "Healthy",
          "Healthy",
          "Healthy",
          "Healthy",
          "Critical",
          "Healthy",
          "Healthy",
          "Critical",
          "Healthy",
          "Healthy",
          "Critical",
          "Healthy",
          "Healthy",
          "Healthy",
          "Healthy",
          "Healthy",
          "Healthy",
          "Healthy",
          "Healthy",
          "Healthy",
          "Healthy",
          "Healthy",
          "Healthy",
          "Healthy",
          "Critical",
          "Healthy",
          "Critical",
          "Healthy",
          "Healthy",
          "Healthy",
          "Healthy",
          "Healthy",
          "Healthy",
          "Critical",
          "Healthy",
          "Deceased",
          "Critical",
          "Healthy",
          "Healthy",
          "Healthy",
          "Deceased",
          "Deceased",
          "Healthy",
          "Healthy",
          "Healthy",
          "Critical",
          "Healthy",
          "Healthy",
          "Healthy",
          "Critical",
          "Critical",
          "Healthy",
          "Healthy",
          "Healthy",
          "Critical",
          "Healthy",
          "Healthy",
          "Healthy",
          "Healthy",
          "Healthy",
          "Healthy",
          "Healthy",
          "Healthy",
          "Healthy",
          "Critical",
          "Healthy",
          "Critical",
          "Healthy",
          "Healthy",
          "Critical",
          "Critical",
          "Healthy",
          "Healthy",
          "Healthy",
          "Healthy",
          "Healthy",
          "Healthy",
          "Healthy",
          "Critical",
          "Healthy",
          "Healthy",
          "Critical",
          "Healthy",
          "Critical",
          "Healthy",
          "Critical",
          "Healthy",
          "Critical",
          "Critical",
          "Healthy",
          "Healthy",
          "Healthy",
          "Deceased",
          "Healthy",
          "Healthy",
          "Healthy",
          "Critical",
          "Deceased",
          "Critical",
          "Critical",
          "Healthy",
          "Critical",
          "Healthy",
          "Critical",
          "Healthy",
          "Healthy",
          "Healthy",
          "Critical",
          "Critical",
          "Healthy",
          "Critical",
          "Healthy",
          "Healthy",
          "Healthy",
          "Healthy",
          "Deceased",
          "Critical",
          "Critical",
          "Healthy",
          "Healthy",
          "Healthy",
          "Healthy",
          "Healthy",
          "Healthy",
          "Healthy",
          "Healthy",
          "Healthy",
          "Deceased",
          "Healthy",
          "Healthy",
          "Healthy",
          "Healthy",
          "Healthy",
          "Healthy",
          "Healthy",
          "Critical",
          "Healthy",
          "Healthy",
          "Deceased",
          "Healthy",
          "Critical",
          "Healthy",
          "Healthy",
          "Healthy",
          "Healthy",
          "Healthy",
          "Healthy",
          "Healthy",
          "Healthy",
          "Healthy",
          "Critical",
          "Healthy",
          "Critical",
          "Healthy",
          "Healthy",
          "Healthy",
          "Healthy",
          "Healthy",
          "Healthy",
          "Critical",
          "Critical",
          "Healthy",
          "Healthy",
          "Healthy",
          "Healthy",
          "Healthy",
          "Healthy",
          "Deceased",
          "Healthy",
          "Healthy",
          "Healthy",
          "Critical",
          "Healthy",
          "Healthy",
          "Healthy",
          "Healthy",
          "Healthy",
          "Healthy",
          "Deceased",
          "Healthy",
          "Healthy",
          "Healthy",
          "Healthy",
          "Healthy",
          "Healthy",
          "Healthy",
          "Deceased",
          "Healthy",
          "Healthy",
          "Healthy",
          "Healthy",
          "Healthy",
          "Deceased",
          "Deceased",
          "Deceased",
          "Healthy",
          "Healthy",
          "Healthy",
          "Healthy",
          "Healthy",
          "Critical",
          "Healthy",
          "Deceased",
          "Healthy",
          "Deceased",
          "Healthy",
          "Healthy",
          "Healthy",
          "Healthy",
          "Healthy",
          "Healthy",
          "Healthy",
          "Healthy",
          "Healthy",
          "Critical",
          "Healthy",
          "Healthy",
          "Healthy",
          "Critical",
          "Healthy",
          "Healthy",
          "Critical",
          "Healthy",
          "Healthy",
          "Deceased",
          "Critical",
          "Healthy",
          "Healthy",
          "Critical",
          "Healthy",
          "Healthy",
          "Healthy",
          "Healthy",
          "Healthy",
          "Critical",
          "Healthy",
          "Healthy",
          "Healthy",
          "Healthy",
          "Healthy",
          "Critical",
          "Healthy",
          "Healthy",
          "Healthy",
          "Deceased",
          "Healthy",
          "Healthy",
          "Healthy",
          "Deceased",
          "Healthy",
          "Healthy",
          "Critical",
          "Healthy",
          "Healthy",
          "Healthy",
          "Healthy",
          "Healthy",
          "Healthy",
          "Healthy",
          "Healthy",
          "Healthy",
          "Healthy",
          "Healthy",
          "Healthy",
          "Healthy",
          "Healthy",
          "Healthy",
          "Healthy",
          "Critical",
          "Healthy",
          "Healthy",
          "Healthy",
          "Healthy",
          "Healthy",
          "Healthy",
          "Critical",
          "Healthy",
          "Healthy",
          "Healthy",
          "Healthy",
          "Healthy",
          "Deceased",
          "Critical",
          "Healthy",
          "Healthy",
          "Healthy",
          "Healthy",
          "Healthy",
          "Critical",
          "Healthy",
          "Healthy",
          "Healthy",
          "Healthy",
          "Healthy",
          "Healthy",
          "Healthy",
          "Healthy",
          "Healthy",
          "Healthy",
          "Healthy",
          "Healthy",
          "Healthy",
          "Critical",
          "Healthy",
          "Deceased",
          "Healthy",
          "Healthy",
          "Healthy",
          "Healthy",
          "Healthy",
          "Critical",
          "Critical",
          "Healthy",
          "Healthy",
          "Healthy",
          "Healthy",
          "Critical",
          "Critical",
          "Critical",
          "Healthy",
          "Healthy",
          "Healthy",
          "Healthy",
          "Critical",
          "Deceased",
          "Healthy",
          "Healthy",
          "Healthy",
          "Healthy",
          "Healthy",
          "Deceased",
          "Critical",
          "Critical",
          "Healthy",
          "Healthy",
          "Healthy",
          "Healthy",
          "Critical",
          "Critical",
          "Healthy",
          "Healthy",
          "Healthy",
          "Healthy",
          "Critical",
          "Healthy",
          "Healthy",
          "Healthy",
          "Healthy",
          "Critical",
          "Healthy",
          "Healthy",
          "Healthy",
          "Healthy",
          "Healthy",
          "Healthy",
          "Healthy",
          "Healthy",
          "Healthy",
          "Healthy",
          "Critical",
          "Healthy",
          "Healthy",
          "Healthy",
          "Healthy",
          "Healthy",
          "Healthy",
          "Healthy",
          "Critical",
          "Healthy",
          "Healthy",
          "Healthy",
          "Healthy",
          "Critical",
          "Critical",
          "Healthy",
          "Healthy",
          "Healthy",
          "Healthy",
          "Critical",
          "Critical",
          "Healthy",
          "Healthy",
          "Healthy",
          "Healthy",
          "Critical",
          "Healthy",
          "Deceased",
          "Healthy",
          "Critical",
          "Healthy",
          "Critical",
          "Healthy",
          "Healthy",
          "Critical",
          "Healthy",
          "Healthy",
          "Healthy",
          "Healthy",
          "Healthy",
          "Healthy",
          "Healthy",
          "Healthy",
          "Healthy",
          "Healthy",
          "Healthy",
          "Healthy",
          "Critical",
          "Healthy",
          "Deceased",
          "Healthy",
          "Critical",
          "Healthy",
          "Healthy",
          "Healthy",
          "Healthy",
          "Critical",
          "Healthy",
          "Healthy",
          "Healthy",
          "Healthy",
          "Healthy",
          "Deceased",
          "Healthy",
          "Healthy",
          "Critical",
          "Critical",
          "Healthy",
          "Healthy",
          "Healthy",
          "Healthy",
          "Healthy",
          "Healthy",
          "Critical",
          "Critical",
          "Healthy",
          "Deceased",
          "Healthy",
          "Healthy",
          "Critical",
          "Critical",
          "Healthy",
          "Critical",
          "Healthy",
          "Healthy",
          "Deceased",
          "Healthy",
          "Healthy",
          "Healthy",
          "Healthy",
          "Critical",
          "Healthy",
          "Critical",
          "Healthy",
          "Healthy",
          "Deceased",
          "Healthy",
          "Healthy",
          "Critical",
          "Healthy",
          "Healthy",
          "Healthy",
          "Healthy",
          "Healthy",
          "Healthy",
          "Healthy",
          "Healthy",
          "Healthy",
          "Critical",
          "Critical",
          "Deceased",
          "Healthy",
          "Healthy",
          "Healthy",
          "Healthy",
          "Healthy",
          "Healthy",
          "Critical",
          "Healthy",
          "Critical",
          "Healthy",
          "Healthy",
          "Critical",
          "Healthy",
          "Healthy",
          "Healthy",
          "Healthy",
          "Critical",
          "Healthy",
          "Healthy",
          "Healthy",
          "Healthy",
          "Healthy",
          "Healthy",
          "Deceased",
          "Healthy",
          "Healthy",
          "Healthy",
          "Healthy",
          "Healthy",
          "Healthy",
          "Healthy",
          "Healthy",
          "Critical",
          "Critical",
          "Healthy",
          "Critical",
          "Healthy",
          "Healthy",
          "Healthy",
          "Healthy",
          "Critical",
          "Healthy",
          "Healthy",
          "Healthy",
          "Healthy",
          "Healthy",
          "Healthy",
          "Healthy",
          "Healthy",
          "Healthy",
          "Healthy",
          "Healthy",
          "Healthy",
          "Healthy",
          "Healthy",
          "Healthy",
          "Critical",
          "Healthy",
          "Healthy",
          "Critical",
          "Critical",
          "Deceased",
          "Healthy",
          "Healthy",
          "Healthy",
          "Healthy",
          "Healthy",
          "Healthy",
          "Healthy",
          "Healthy",
          "Healthy",
          "Healthy",
          "Critical",
          "Healthy",
          "Healthy",
          "Healthy",
          "Healthy",
          "Healthy",
          "Healthy",
          "Healthy",
          "Critical",
          "Healthy",
          "Healthy",
          "Critical",
          "Healthy",
          "Healthy",
          "Critical",
          "Healthy",
          "Healthy",
          "Healthy",
          "Healthy",
          "Healthy",
          "Healthy",
          "Healthy",
          "Healthy",
          "Healthy",
          "Healthy",
          "Healthy",
          "Healthy",
          "Deceased",
          "Healthy",
          "Healthy",
          "Healthy",
          "Healthy",
          "Healthy",
          "Healthy",
          "Critical",
          "Healthy",
          "Healthy",
          "Healthy",
          "Healthy",
          "Healthy",
          "Healthy",
          "Deceased",
          "Healthy",
          "Healthy",
          "Healthy",
          "Healthy",
          "Healthy",
          "Critical",
          "Healthy",
          "Healthy",
          "Healthy",
          "Healthy",
          "Healthy",
          "Deceased",
          "Healthy",
          "Healthy",
          "Healthy",
          "Critical",
          "Critical",
          "Deceased",
          "Healthy",
          "Healthy",
          "Healthy",
          "Critical",
          "Deceased",
          "Healthy",
          "Healthy",
          "Critical",
          "Healthy",
          "Critical",
          "Critical",
          "Deceased",
          "Healthy",
          "Critical",
          "Healthy",
          "Healthy",
          "Deceased",
          "Healthy",
          "Healthy",
          "Healthy",
          "Healthy",
          "Healthy",
          "Healthy",
          "Healthy",
          "Critical",
          "Healthy",
          "Healthy",
          "Healthy",
          "Healthy",
          "Healthy",
          "Healthy",
          "Healthy",
          "Healthy",
          "Healthy",
          "Healthy",
          "Healthy",
          "Critical",
          "Healthy",
          "Healthy",
          "Healthy",
          "Healthy",
          "Healthy",
          "Healthy",
          "Healthy",
          "Healthy",
          "Healthy",
          "Critical",
          "Healthy",
          "Healthy",
          "Healthy",
          "Deceased",
          "Healthy",
          "Critical",
          "Critical",
          "Critical",
          "Healthy",
          "Healthy",
          "Healthy",
          "Healthy",
          "Healthy",
          "Healthy",
          "Healthy",
          "Healthy",
          "Healthy",
          "Healthy",
          "Deceased",
          "Critical",
          "Healthy",
          "Healthy",
          "Healthy",
          "Critical",
          "Critical",
          "Healthy",
          "Healthy",
          "Healthy",
          "Healthy",
          "Healthy",
          "Deceased",
          "Healthy",
          "Critical",
          "Critical",
          "Healthy",
          "Healthy",
          "Healthy",
          "Deceased",
          "Healthy",
          "Critical",
          "Healthy",
          "Critical",
          "Critical",
          "Healthy",
          "Healthy",
          "Healthy",
          "Healthy",
          "Healthy",
          "Healthy",
          "Healthy",
          "Healthy",
          "Healthy",
          "Healthy",
          "Healthy",
          "Critical",
          "Healthy",
          "Healthy",
          "Critical",
          "Healthy",
          "Healthy",
          "Healthy",
          "Healthy",
          "Healthy",
          "Healthy",
          "Critical",
          "Healthy",
          "Deceased",
          "Healthy",
          "Healthy",
          "Healthy",
          "Healthy",
          "Healthy",
          "Healthy",
          "Healthy",
          "Healthy",
          "Healthy",
          "Critical",
          "Healthy",
          "Critical",
          "Healthy",
          "Healthy",
          "Critical",
          "Deceased",
          "Healthy",
          "Healthy",
          "Healthy",
          "Healthy",
          "Critical",
          "Healthy",
          "Healthy",
          "Healthy",
          "Healthy",
          "Healthy",
          "Healthy",
          "Healthy",
          "Deceased",
          "Healthy",
          "Healthy",
          "Healthy",
          "Critical",
          "Healthy",
          "Healthy",
          "Healthy",
          "Healthy",
          "Healthy",
          "Healthy",
          "Healthy",
          "Healthy",
          "Healthy",
          "Healthy",
          "Healthy",
          "Healthy",
          "Healthy",
          "Critical",
          "Critical",
          "Healthy",
          "Healthy",
          "Critical",
          "Critical",
          "Healthy",
          "Healthy",
          "Deceased",
          "Healthy",
          "Healthy",
          "Healthy",
          "Critical",
          "Critical",
          "Healthy",
          "Healthy",
          "Critical",
          "Healthy",
          "Healthy",
          "Healthy",
          "Healthy",
          "Deceased",
          "Critical",
          "Healthy",
          "Deceased",
          "Critical",
          "Healthy"
         ],
         "xaxis": "x",
         "yaxis": "y"
        }
       ],
       "layout": {
        "bargap": 0.1,
        "barmode": "relative",
        "height": 500,
        "legend": {
         "tracegroupgap": 0
        },
        "template": {
         "data": {
          "bar": [
           {
            "error_x": {
             "color": "#2a3f5f"
            },
            "error_y": {
             "color": "#2a3f5f"
            },
            "marker": {
             "line": {
              "color": "#E5ECF6",
              "width": 0.5
             },
             "pattern": {
              "fillmode": "overlay",
              "size": 10,
              "solidity": 0.2
             }
            },
            "type": "bar"
           }
          ],
          "barpolar": [
           {
            "marker": {
             "line": {
              "color": "#E5ECF6",
              "width": 0.5
             },
             "pattern": {
              "fillmode": "overlay",
              "size": 10,
              "solidity": 0.2
             }
            },
            "type": "barpolar"
           }
          ],
          "carpet": [
           {
            "aaxis": {
             "endlinecolor": "#2a3f5f",
             "gridcolor": "white",
             "linecolor": "white",
             "minorgridcolor": "white",
             "startlinecolor": "#2a3f5f"
            },
            "baxis": {
             "endlinecolor": "#2a3f5f",
             "gridcolor": "white",
             "linecolor": "white",
             "minorgridcolor": "white",
             "startlinecolor": "#2a3f5f"
            },
            "type": "carpet"
           }
          ],
          "choropleth": [
           {
            "colorbar": {
             "outlinewidth": 0,
             "ticks": ""
            },
            "type": "choropleth"
           }
          ],
          "contour": [
           {
            "colorbar": {
             "outlinewidth": 0,
             "ticks": ""
            },
            "colorscale": [
             [
              0,
              "#0d0887"
             ],
             [
              0.1111111111111111,
              "#46039f"
             ],
             [
              0.2222222222222222,
              "#7201a8"
             ],
             [
              0.3333333333333333,
              "#9c179e"
             ],
             [
              0.4444444444444444,
              "#bd3786"
             ],
             [
              0.5555555555555556,
              "#d8576b"
             ],
             [
              0.6666666666666666,
              "#ed7953"
             ],
             [
              0.7777777777777778,
              "#fb9f3a"
             ],
             [
              0.8888888888888888,
              "#fdca26"
             ],
             [
              1,
              "#f0f921"
             ]
            ],
            "type": "contour"
           }
          ],
          "contourcarpet": [
           {
            "colorbar": {
             "outlinewidth": 0,
             "ticks": ""
            },
            "type": "contourcarpet"
           }
          ],
          "heatmap": [
           {
            "colorbar": {
             "outlinewidth": 0,
             "ticks": ""
            },
            "colorscale": [
             [
              0,
              "#0d0887"
             ],
             [
              0.1111111111111111,
              "#46039f"
             ],
             [
              0.2222222222222222,
              "#7201a8"
             ],
             [
              0.3333333333333333,
              "#9c179e"
             ],
             [
              0.4444444444444444,
              "#bd3786"
             ],
             [
              0.5555555555555556,
              "#d8576b"
             ],
             [
              0.6666666666666666,
              "#ed7953"
             ],
             [
              0.7777777777777778,
              "#fb9f3a"
             ],
             [
              0.8888888888888888,
              "#fdca26"
             ],
             [
              1,
              "#f0f921"
             ]
            ],
            "type": "heatmap"
           }
          ],
          "heatmapgl": [
           {
            "colorbar": {
             "outlinewidth": 0,
             "ticks": ""
            },
            "colorscale": [
             [
              0,
              "#0d0887"
             ],
             [
              0.1111111111111111,
              "#46039f"
             ],
             [
              0.2222222222222222,
              "#7201a8"
             ],
             [
              0.3333333333333333,
              "#9c179e"
             ],
             [
              0.4444444444444444,
              "#bd3786"
             ],
             [
              0.5555555555555556,
              "#d8576b"
             ],
             [
              0.6666666666666666,
              "#ed7953"
             ],
             [
              0.7777777777777778,
              "#fb9f3a"
             ],
             [
              0.8888888888888888,
              "#fdca26"
             ],
             [
              1,
              "#f0f921"
             ]
            ],
            "type": "heatmapgl"
           }
          ],
          "histogram": [
           {
            "marker": {
             "pattern": {
              "fillmode": "overlay",
              "size": 10,
              "solidity": 0.2
             }
            },
            "type": "histogram"
           }
          ],
          "histogram2d": [
           {
            "colorbar": {
             "outlinewidth": 0,
             "ticks": ""
            },
            "colorscale": [
             [
              0,
              "#0d0887"
             ],
             [
              0.1111111111111111,
              "#46039f"
             ],
             [
              0.2222222222222222,
              "#7201a8"
             ],
             [
              0.3333333333333333,
              "#9c179e"
             ],
             [
              0.4444444444444444,
              "#bd3786"
             ],
             [
              0.5555555555555556,
              "#d8576b"
             ],
             [
              0.6666666666666666,
              "#ed7953"
             ],
             [
              0.7777777777777778,
              "#fb9f3a"
             ],
             [
              0.8888888888888888,
              "#fdca26"
             ],
             [
              1,
              "#f0f921"
             ]
            ],
            "type": "histogram2d"
           }
          ],
          "histogram2dcontour": [
           {
            "colorbar": {
             "outlinewidth": 0,
             "ticks": ""
            },
            "colorscale": [
             [
              0,
              "#0d0887"
             ],
             [
              0.1111111111111111,
              "#46039f"
             ],
             [
              0.2222222222222222,
              "#7201a8"
             ],
             [
              0.3333333333333333,
              "#9c179e"
             ],
             [
              0.4444444444444444,
              "#bd3786"
             ],
             [
              0.5555555555555556,
              "#d8576b"
             ],
             [
              0.6666666666666666,
              "#ed7953"
             ],
             [
              0.7777777777777778,
              "#fb9f3a"
             ],
             [
              0.8888888888888888,
              "#fdca26"
             ],
             [
              1,
              "#f0f921"
             ]
            ],
            "type": "histogram2dcontour"
           }
          ],
          "mesh3d": [
           {
            "colorbar": {
             "outlinewidth": 0,
             "ticks": ""
            },
            "type": "mesh3d"
           }
          ],
          "parcoords": [
           {
            "line": {
             "colorbar": {
              "outlinewidth": 0,
              "ticks": ""
             }
            },
            "type": "parcoords"
           }
          ],
          "pie": [
           {
            "automargin": true,
            "type": "pie"
           }
          ],
          "scatter": [
           {
            "fillpattern": {
             "fillmode": "overlay",
             "size": 10,
             "solidity": 0.2
            },
            "type": "scatter"
           }
          ],
          "scatter3d": [
           {
            "line": {
             "colorbar": {
              "outlinewidth": 0,
              "ticks": ""
             }
            },
            "marker": {
             "colorbar": {
              "outlinewidth": 0,
              "ticks": ""
             }
            },
            "type": "scatter3d"
           }
          ],
          "scattercarpet": [
           {
            "marker": {
             "colorbar": {
              "outlinewidth": 0,
              "ticks": ""
             }
            },
            "type": "scattercarpet"
           }
          ],
          "scattergeo": [
           {
            "marker": {
             "colorbar": {
              "outlinewidth": 0,
              "ticks": ""
             }
            },
            "type": "scattergeo"
           }
          ],
          "scattergl": [
           {
            "marker": {
             "colorbar": {
              "outlinewidth": 0,
              "ticks": ""
             }
            },
            "type": "scattergl"
           }
          ],
          "scattermapbox": [
           {
            "marker": {
             "colorbar": {
              "outlinewidth": 0,
              "ticks": ""
             }
            },
            "type": "scattermapbox"
           }
          ],
          "scatterpolar": [
           {
            "marker": {
             "colorbar": {
              "outlinewidth": 0,
              "ticks": ""
             }
            },
            "type": "scatterpolar"
           }
          ],
          "scatterpolargl": [
           {
            "marker": {
             "colorbar": {
              "outlinewidth": 0,
              "ticks": ""
             }
            },
            "type": "scatterpolargl"
           }
          ],
          "scatterternary": [
           {
            "marker": {
             "colorbar": {
              "outlinewidth": 0,
              "ticks": ""
             }
            },
            "type": "scatterternary"
           }
          ],
          "surface": [
           {
            "colorbar": {
             "outlinewidth": 0,
             "ticks": ""
            },
            "colorscale": [
             [
              0,
              "#0d0887"
             ],
             [
              0.1111111111111111,
              "#46039f"
             ],
             [
              0.2222222222222222,
              "#7201a8"
             ],
             [
              0.3333333333333333,
              "#9c179e"
             ],
             [
              0.4444444444444444,
              "#bd3786"
             ],
             [
              0.5555555555555556,
              "#d8576b"
             ],
             [
              0.6666666666666666,
              "#ed7953"
             ],
             [
              0.7777777777777778,
              "#fb9f3a"
             ],
             [
              0.8888888888888888,
              "#fdca26"
             ],
             [
              1,
              "#f0f921"
             ]
            ],
            "type": "surface"
           }
          ],
          "table": [
           {
            "cells": {
             "fill": {
              "color": "#EBF0F8"
             },
             "line": {
              "color": "white"
             }
            },
            "header": {
             "fill": {
              "color": "#C8D4E3"
             },
             "line": {
              "color": "white"
             }
            },
            "type": "table"
           }
          ]
         },
         "layout": {
          "annotationdefaults": {
           "arrowcolor": "#2a3f5f",
           "arrowhead": 0,
           "arrowwidth": 1
          },
          "autotypenumbers": "strict",
          "coloraxis": {
           "colorbar": {
            "outlinewidth": 0,
            "ticks": ""
           }
          },
          "colorscale": {
           "diverging": [
            [
             0,
             "#8e0152"
            ],
            [
             0.1,
             "#c51b7d"
            ],
            [
             0.2,
             "#de77ae"
            ],
            [
             0.3,
             "#f1b6da"
            ],
            [
             0.4,
             "#fde0ef"
            ],
            [
             0.5,
             "#f7f7f7"
            ],
            [
             0.6,
             "#e6f5d0"
            ],
            [
             0.7,
             "#b8e186"
            ],
            [
             0.8,
             "#7fbc41"
            ],
            [
             0.9,
             "#4d9221"
            ],
            [
             1,
             "#276419"
            ]
           ],
           "sequential": [
            [
             0,
             "#0d0887"
            ],
            [
             0.1111111111111111,
             "#46039f"
            ],
            [
             0.2222222222222222,
             "#7201a8"
            ],
            [
             0.3333333333333333,
             "#9c179e"
            ],
            [
             0.4444444444444444,
             "#bd3786"
            ],
            [
             0.5555555555555556,
             "#d8576b"
            ],
            [
             0.6666666666666666,
             "#ed7953"
            ],
            [
             0.7777777777777778,
             "#fb9f3a"
            ],
            [
             0.8888888888888888,
             "#fdca26"
            ],
            [
             1,
             "#f0f921"
            ]
           ],
           "sequentialminus": [
            [
             0,
             "#0d0887"
            ],
            [
             0.1111111111111111,
             "#46039f"
            ],
            [
             0.2222222222222222,
             "#7201a8"
            ],
            [
             0.3333333333333333,
             "#9c179e"
            ],
            [
             0.4444444444444444,
             "#bd3786"
            ],
            [
             0.5555555555555556,
             "#d8576b"
            ],
            [
             0.6666666666666666,
             "#ed7953"
            ],
            [
             0.7777777777777778,
             "#fb9f3a"
            ],
            [
             0.8888888888888888,
             "#fdca26"
            ],
            [
             1,
             "#f0f921"
            ]
           ]
          },
          "colorway": [
           "#636efa",
           "#EF553B",
           "#00cc96",
           "#ab63fa",
           "#FFA15A",
           "#19d3f3",
           "#FF6692",
           "#B6E880",
           "#FF97FF",
           "#FECB52"
          ],
          "font": {
           "color": "#2a3f5f"
          },
          "geo": {
           "bgcolor": "white",
           "lakecolor": "white",
           "landcolor": "#E5ECF6",
           "showlakes": true,
           "showland": true,
           "subunitcolor": "white"
          },
          "hoverlabel": {
           "align": "left"
          },
          "hovermode": "closest",
          "mapbox": {
           "style": "light"
          },
          "paper_bgcolor": "white",
          "plot_bgcolor": "#E5ECF6",
          "polar": {
           "angularaxis": {
            "gridcolor": "white",
            "linecolor": "white",
            "ticks": ""
           },
           "bgcolor": "#E5ECF6",
           "radialaxis": {
            "gridcolor": "white",
            "linecolor": "white",
            "ticks": ""
           }
          },
          "scene": {
           "xaxis": {
            "backgroundcolor": "#E5ECF6",
            "gridcolor": "white",
            "gridwidth": 2,
            "linecolor": "white",
            "showbackground": true,
            "ticks": "",
            "zerolinecolor": "white"
           },
           "yaxis": {
            "backgroundcolor": "#E5ECF6",
            "gridcolor": "white",
            "gridwidth": 2,
            "linecolor": "white",
            "showbackground": true,
            "ticks": "",
            "zerolinecolor": "white"
           },
           "zaxis": {
            "backgroundcolor": "#E5ECF6",
            "gridcolor": "white",
            "gridwidth": 2,
            "linecolor": "white",
            "showbackground": true,
            "ticks": "",
            "zerolinecolor": "white"
           }
          },
          "shapedefaults": {
           "line": {
            "color": "#2a3f5f"
           }
          },
          "ternary": {
           "aaxis": {
            "gridcolor": "white",
            "linecolor": "white",
            "ticks": ""
           },
           "baxis": {
            "gridcolor": "white",
            "linecolor": "white",
            "ticks": ""
           },
           "bgcolor": "#E5ECF6",
           "caxis": {
            "gridcolor": "white",
            "linecolor": "white",
            "ticks": ""
           }
          },
          "title": {
           "x": 0.05
          },
          "xaxis": {
           "automargin": true,
           "gridcolor": "white",
           "linecolor": "white",
           "ticks": "",
           "title": {
            "standoff": 15
           },
           "zerolinecolor": "white",
           "zerolinewidth": 2
          },
          "yaxis": {
           "automargin": true,
           "gridcolor": "white",
           "linecolor": "white",
           "ticks": "",
           "title": {
            "standoff": 15
           },
           "zerolinecolor": "white",
           "zerolinewidth": 2
          }
         }
        },
        "title": {
         "text": "<b>Maternal Outcome</b>"
        },
        "width": 700,
        "xaxis": {
         "anchor": "y",
         "domain": [
          0,
          1
         ],
         "title": {
          "text": "Maternal_Outcome"
         }
        },
        "yaxis": {
         "anchor": "x",
         "domain": [
          0,
          1
         ],
         "title": {
          "text": "count"
         }
        }
       }
      }
     },
     "metadata": {},
     "output_type": "display_data"
    }
   ],
   "source": [
    "fig = px.histogram(data, x=\"Maternal_Outcome\",   title=\"<b>Maternal Outcome</b>\")\n",
    "fig.update_layout(width=700, height=500, bargap=0.1)\n",
    "fig.show()"
   ]
  },
  {
   "cell_type": "code",
   "execution_count": 11,
   "id": "8db5daa0",
   "metadata": {},
   "outputs": [
    {
     "data": {
      "application/vnd.plotly.v1+json": {
       "config": {
        "plotlyServerURL": "https://plot.ly"
       },
       "data": [
        {
         "hole": 0.3,
         "labels": [
          "Healthy",
          "Critical",
          "Deceased"
         ],
         "type": "pie",
         "values": [
          761,
          176,
          63
         ]
        }
       ],
       "layout": {
        "template": {
         "data": {
          "bar": [
           {
            "error_x": {
             "color": "#2a3f5f"
            },
            "error_y": {
             "color": "#2a3f5f"
            },
            "marker": {
             "line": {
              "color": "#E5ECF6",
              "width": 0.5
             },
             "pattern": {
              "fillmode": "overlay",
              "size": 10,
              "solidity": 0.2
             }
            },
            "type": "bar"
           }
          ],
          "barpolar": [
           {
            "marker": {
             "line": {
              "color": "#E5ECF6",
              "width": 0.5
             },
             "pattern": {
              "fillmode": "overlay",
              "size": 10,
              "solidity": 0.2
             }
            },
            "type": "barpolar"
           }
          ],
          "carpet": [
           {
            "aaxis": {
             "endlinecolor": "#2a3f5f",
             "gridcolor": "white",
             "linecolor": "white",
             "minorgridcolor": "white",
             "startlinecolor": "#2a3f5f"
            },
            "baxis": {
             "endlinecolor": "#2a3f5f",
             "gridcolor": "white",
             "linecolor": "white",
             "minorgridcolor": "white",
             "startlinecolor": "#2a3f5f"
            },
            "type": "carpet"
           }
          ],
          "choropleth": [
           {
            "colorbar": {
             "outlinewidth": 0,
             "ticks": ""
            },
            "type": "choropleth"
           }
          ],
          "contour": [
           {
            "colorbar": {
             "outlinewidth": 0,
             "ticks": ""
            },
            "colorscale": [
             [
              0,
              "#0d0887"
             ],
             [
              0.1111111111111111,
              "#46039f"
             ],
             [
              0.2222222222222222,
              "#7201a8"
             ],
             [
              0.3333333333333333,
              "#9c179e"
             ],
             [
              0.4444444444444444,
              "#bd3786"
             ],
             [
              0.5555555555555556,
              "#d8576b"
             ],
             [
              0.6666666666666666,
              "#ed7953"
             ],
             [
              0.7777777777777778,
              "#fb9f3a"
             ],
             [
              0.8888888888888888,
              "#fdca26"
             ],
             [
              1,
              "#f0f921"
             ]
            ],
            "type": "contour"
           }
          ],
          "contourcarpet": [
           {
            "colorbar": {
             "outlinewidth": 0,
             "ticks": ""
            },
            "type": "contourcarpet"
           }
          ],
          "heatmap": [
           {
            "colorbar": {
             "outlinewidth": 0,
             "ticks": ""
            },
            "colorscale": [
             [
              0,
              "#0d0887"
             ],
             [
              0.1111111111111111,
              "#46039f"
             ],
             [
              0.2222222222222222,
              "#7201a8"
             ],
             [
              0.3333333333333333,
              "#9c179e"
             ],
             [
              0.4444444444444444,
              "#bd3786"
             ],
             [
              0.5555555555555556,
              "#d8576b"
             ],
             [
              0.6666666666666666,
              "#ed7953"
             ],
             [
              0.7777777777777778,
              "#fb9f3a"
             ],
             [
              0.8888888888888888,
              "#fdca26"
             ],
             [
              1,
              "#f0f921"
             ]
            ],
            "type": "heatmap"
           }
          ],
          "heatmapgl": [
           {
            "colorbar": {
             "outlinewidth": 0,
             "ticks": ""
            },
            "colorscale": [
             [
              0,
              "#0d0887"
             ],
             [
              0.1111111111111111,
              "#46039f"
             ],
             [
              0.2222222222222222,
              "#7201a8"
             ],
             [
              0.3333333333333333,
              "#9c179e"
             ],
             [
              0.4444444444444444,
              "#bd3786"
             ],
             [
              0.5555555555555556,
              "#d8576b"
             ],
             [
              0.6666666666666666,
              "#ed7953"
             ],
             [
              0.7777777777777778,
              "#fb9f3a"
             ],
             [
              0.8888888888888888,
              "#fdca26"
             ],
             [
              1,
              "#f0f921"
             ]
            ],
            "type": "heatmapgl"
           }
          ],
          "histogram": [
           {
            "marker": {
             "pattern": {
              "fillmode": "overlay",
              "size": 10,
              "solidity": 0.2
             }
            },
            "type": "histogram"
           }
          ],
          "histogram2d": [
           {
            "colorbar": {
             "outlinewidth": 0,
             "ticks": ""
            },
            "colorscale": [
             [
              0,
              "#0d0887"
             ],
             [
              0.1111111111111111,
              "#46039f"
             ],
             [
              0.2222222222222222,
              "#7201a8"
             ],
             [
              0.3333333333333333,
              "#9c179e"
             ],
             [
              0.4444444444444444,
              "#bd3786"
             ],
             [
              0.5555555555555556,
              "#d8576b"
             ],
             [
              0.6666666666666666,
              "#ed7953"
             ],
             [
              0.7777777777777778,
              "#fb9f3a"
             ],
             [
              0.8888888888888888,
              "#fdca26"
             ],
             [
              1,
              "#f0f921"
             ]
            ],
            "type": "histogram2d"
           }
          ],
          "histogram2dcontour": [
           {
            "colorbar": {
             "outlinewidth": 0,
             "ticks": ""
            },
            "colorscale": [
             [
              0,
              "#0d0887"
             ],
             [
              0.1111111111111111,
              "#46039f"
             ],
             [
              0.2222222222222222,
              "#7201a8"
             ],
             [
              0.3333333333333333,
              "#9c179e"
             ],
             [
              0.4444444444444444,
              "#bd3786"
             ],
             [
              0.5555555555555556,
              "#d8576b"
             ],
             [
              0.6666666666666666,
              "#ed7953"
             ],
             [
              0.7777777777777778,
              "#fb9f3a"
             ],
             [
              0.8888888888888888,
              "#fdca26"
             ],
             [
              1,
              "#f0f921"
             ]
            ],
            "type": "histogram2dcontour"
           }
          ],
          "mesh3d": [
           {
            "colorbar": {
             "outlinewidth": 0,
             "ticks": ""
            },
            "type": "mesh3d"
           }
          ],
          "parcoords": [
           {
            "line": {
             "colorbar": {
              "outlinewidth": 0,
              "ticks": ""
             }
            },
            "type": "parcoords"
           }
          ],
          "pie": [
           {
            "automargin": true,
            "type": "pie"
           }
          ],
          "scatter": [
           {
            "fillpattern": {
             "fillmode": "overlay",
             "size": 10,
             "solidity": 0.2
            },
            "type": "scatter"
           }
          ],
          "scatter3d": [
           {
            "line": {
             "colorbar": {
              "outlinewidth": 0,
              "ticks": ""
             }
            },
            "marker": {
             "colorbar": {
              "outlinewidth": 0,
              "ticks": ""
             }
            },
            "type": "scatter3d"
           }
          ],
          "scattercarpet": [
           {
            "marker": {
             "colorbar": {
              "outlinewidth": 0,
              "ticks": ""
             }
            },
            "type": "scattercarpet"
           }
          ],
          "scattergeo": [
           {
            "marker": {
             "colorbar": {
              "outlinewidth": 0,
              "ticks": ""
             }
            },
            "type": "scattergeo"
           }
          ],
          "scattergl": [
           {
            "marker": {
             "colorbar": {
              "outlinewidth": 0,
              "ticks": ""
             }
            },
            "type": "scattergl"
           }
          ],
          "scattermapbox": [
           {
            "marker": {
             "colorbar": {
              "outlinewidth": 0,
              "ticks": ""
             }
            },
            "type": "scattermapbox"
           }
          ],
          "scatterpolar": [
           {
            "marker": {
             "colorbar": {
              "outlinewidth": 0,
              "ticks": ""
             }
            },
            "type": "scatterpolar"
           }
          ],
          "scatterpolargl": [
           {
            "marker": {
             "colorbar": {
              "outlinewidth": 0,
              "ticks": ""
             }
            },
            "type": "scatterpolargl"
           }
          ],
          "scatterternary": [
           {
            "marker": {
             "colorbar": {
              "outlinewidth": 0,
              "ticks": ""
             }
            },
            "type": "scatterternary"
           }
          ],
          "surface": [
           {
            "colorbar": {
             "outlinewidth": 0,
             "ticks": ""
            },
            "colorscale": [
             [
              0,
              "#0d0887"
             ],
             [
              0.1111111111111111,
              "#46039f"
             ],
             [
              0.2222222222222222,
              "#7201a8"
             ],
             [
              0.3333333333333333,
              "#9c179e"
             ],
             [
              0.4444444444444444,
              "#bd3786"
             ],
             [
              0.5555555555555556,
              "#d8576b"
             ],
             [
              0.6666666666666666,
              "#ed7953"
             ],
             [
              0.7777777777777778,
              "#fb9f3a"
             ],
             [
              0.8888888888888888,
              "#fdca26"
             ],
             [
              1,
              "#f0f921"
             ]
            ],
            "type": "surface"
           }
          ],
          "table": [
           {
            "cells": {
             "fill": {
              "color": "#EBF0F8"
             },
             "line": {
              "color": "white"
             }
            },
            "header": {
             "fill": {
              "color": "#C8D4E3"
             },
             "line": {
              "color": "white"
             }
            },
            "type": "table"
           }
          ]
         },
         "layout": {
          "annotationdefaults": {
           "arrowcolor": "#2a3f5f",
           "arrowhead": 0,
           "arrowwidth": 1
          },
          "autotypenumbers": "strict",
          "coloraxis": {
           "colorbar": {
            "outlinewidth": 0,
            "ticks": ""
           }
          },
          "colorscale": {
           "diverging": [
            [
             0,
             "#8e0152"
            ],
            [
             0.1,
             "#c51b7d"
            ],
            [
             0.2,
             "#de77ae"
            ],
            [
             0.3,
             "#f1b6da"
            ],
            [
             0.4,
             "#fde0ef"
            ],
            [
             0.5,
             "#f7f7f7"
            ],
            [
             0.6,
             "#e6f5d0"
            ],
            [
             0.7,
             "#b8e186"
            ],
            [
             0.8,
             "#7fbc41"
            ],
            [
             0.9,
             "#4d9221"
            ],
            [
             1,
             "#276419"
            ]
           ],
           "sequential": [
            [
             0,
             "#0d0887"
            ],
            [
             0.1111111111111111,
             "#46039f"
            ],
            [
             0.2222222222222222,
             "#7201a8"
            ],
            [
             0.3333333333333333,
             "#9c179e"
            ],
            [
             0.4444444444444444,
             "#bd3786"
            ],
            [
             0.5555555555555556,
             "#d8576b"
            ],
            [
             0.6666666666666666,
             "#ed7953"
            ],
            [
             0.7777777777777778,
             "#fb9f3a"
            ],
            [
             0.8888888888888888,
             "#fdca26"
            ],
            [
             1,
             "#f0f921"
            ]
           ],
           "sequentialminus": [
            [
             0,
             "#0d0887"
            ],
            [
             0.1111111111111111,
             "#46039f"
            ],
            [
             0.2222222222222222,
             "#7201a8"
            ],
            [
             0.3333333333333333,
             "#9c179e"
            ],
            [
             0.4444444444444444,
             "#bd3786"
            ],
            [
             0.5555555555555556,
             "#d8576b"
            ],
            [
             0.6666666666666666,
             "#ed7953"
            ],
            [
             0.7777777777777778,
             "#fb9f3a"
            ],
            [
             0.8888888888888888,
             "#fdca26"
            ],
            [
             1,
             "#f0f921"
            ]
           ]
          },
          "colorway": [
           "#636efa",
           "#EF553B",
           "#00cc96",
           "#ab63fa",
           "#FFA15A",
           "#19d3f3",
           "#FF6692",
           "#B6E880",
           "#FF97FF",
           "#FECB52"
          ],
          "font": {
           "color": "#2a3f5f"
          },
          "geo": {
           "bgcolor": "white",
           "lakecolor": "white",
           "landcolor": "#E5ECF6",
           "showlakes": true,
           "showland": true,
           "subunitcolor": "white"
          },
          "hoverlabel": {
           "align": "left"
          },
          "hovermode": "closest",
          "mapbox": {
           "style": "light"
          },
          "paper_bgcolor": "white",
          "plot_bgcolor": "#E5ECF6",
          "polar": {
           "angularaxis": {
            "gridcolor": "white",
            "linecolor": "white",
            "ticks": ""
           },
           "bgcolor": "#E5ECF6",
           "radialaxis": {
            "gridcolor": "white",
            "linecolor": "white",
            "ticks": ""
           }
          },
          "scene": {
           "xaxis": {
            "backgroundcolor": "#E5ECF6",
            "gridcolor": "white",
            "gridwidth": 2,
            "linecolor": "white",
            "showbackground": true,
            "ticks": "",
            "zerolinecolor": "white"
           },
           "yaxis": {
            "backgroundcolor": "#E5ECF6",
            "gridcolor": "white",
            "gridwidth": 2,
            "linecolor": "white",
            "showbackground": true,
            "ticks": "",
            "zerolinecolor": "white"
           },
           "zaxis": {
            "backgroundcolor": "#E5ECF6",
            "gridcolor": "white",
            "gridwidth": 2,
            "linecolor": "white",
            "showbackground": true,
            "ticks": "",
            "zerolinecolor": "white"
           }
          },
          "shapedefaults": {
           "line": {
            "color": "#2a3f5f"
           }
          },
          "ternary": {
           "aaxis": {
            "gridcolor": "white",
            "linecolor": "white",
            "ticks": ""
           },
           "baxis": {
            "gridcolor": "white",
            "linecolor": "white",
            "ticks": ""
           },
           "bgcolor": "#E5ECF6",
           "caxis": {
            "gridcolor": "white",
            "linecolor": "white",
            "ticks": ""
           }
          },
          "title": {
           "x": 0.05
          },
          "xaxis": {
           "automargin": true,
           "gridcolor": "white",
           "linecolor": "white",
           "ticks": "",
           "title": {
            "standoff": 15
           },
           "zerolinecolor": "white",
           "zerolinewidth": 2
          },
          "yaxis": {
           "automargin": true,
           "gridcolor": "white",
           "linecolor": "white",
           "ticks": "",
           "title": {
            "standoff": 15
           },
           "zerolinecolor": "white",
           "zerolinewidth": 2
          }
         }
        },
        "title": {
         "text": "<b>Maternal Outcome Distribution</b>"
        }
       }
      }
     },
     "metadata": {},
     "output_type": "display_data"
    }
   ],
   "source": [
    "labels = data['Maternal_Outcome'].unique()\n",
    "values = data['Maternal_Outcome'].value_counts()\n",
    "fig = go.Figure(data=[go.Pie(labels=labels, values=values, hole=.3)])\n",
    "fig.update_layout(title_text=\"<b>Maternal Outcome Distribution</b>\")\n",
    "fig.show()"
   ]
  },
  {
   "cell_type": "code",
   "execution_count": 12,
   "id": "cabaf7ee",
   "metadata": {
    "colab": {
     "base_uri": "https://localhost:8080/",
     "height": 466
    },
    "id": "cabaf7ee",
    "outputId": "e9d619e1-e098-4322-ef88-82396a59cabd"
   },
   "outputs": [
    {
     "data": {
      "application/vnd.plotly.v1+json": {
       "config": {
        "plotlyServerURL": "https://plot.ly"
       },
       "data": [
        {
         "alignmentgroup": "True",
         "bingroup": "x",
         "histfunc": "sum",
         "hovertemplate": "Maternal_Outcome=Healthy<br>Payment_Status=%{x}<br>sum of Total_Billing_Amount=%{y}<extra></extra>",
         "legendgroup": "Healthy",
         "marker": {
          "color": "#636efa",
          "pattern": {
           "shape": ""
          }
         },
         "name": "Healthy",
         "offsetgroup": "Healthy",
         "orientation": "v",
         "showlegend": true,
         "type": "histogram",
         "x": [
          "Paid",
          "Unpaid",
          "Unpaid",
          "Unpaid",
          "Paid",
          "Unpaid",
          "Paid",
          "Unpaid",
          "Paid",
          "Paid",
          "Unpaid",
          "Unpaid",
          "Unpaid",
          "Paid",
          "Unpaid",
          "Paid",
          "Paid",
          "Unpaid",
          "Paid",
          "Unpaid",
          "Unpaid",
          "Unpaid",
          "Unpaid",
          "Unpaid",
          "Unpaid",
          "Paid",
          "Paid",
          "Paid",
          "Paid",
          "Paid",
          "Paid",
          "Paid",
          "Paid",
          "Unpaid",
          "Unpaid",
          "Unpaid",
          "Paid",
          "Unpaid",
          "Unpaid",
          "Unpaid",
          "Paid",
          "Paid",
          "Unpaid",
          "Unpaid",
          "Paid",
          "Paid",
          "Unpaid",
          "Paid",
          "Unpaid",
          "Paid",
          "Paid",
          "Unpaid",
          "Paid",
          "Unpaid",
          "Unpaid",
          "Paid",
          "Paid",
          "Paid",
          "Paid",
          "Paid",
          "Unpaid",
          "Paid",
          "Unpaid",
          "Paid",
          "Unpaid",
          "Unpaid",
          "Paid",
          "Paid",
          "Paid",
          "Unpaid",
          "Paid",
          "Unpaid",
          "Paid",
          "Paid",
          "Paid",
          "Paid",
          "Paid",
          "Paid",
          "Unpaid",
          "Paid",
          "Unpaid",
          "Paid",
          "Paid",
          "Paid",
          "Unpaid",
          "Paid",
          "Paid",
          "Unpaid",
          "Unpaid",
          "Unpaid",
          "Unpaid",
          "Unpaid",
          "Unpaid",
          "Unpaid",
          "Paid",
          "Paid",
          "Unpaid",
          "Unpaid",
          "Unpaid",
          "Unpaid",
          "Unpaid",
          "Unpaid",
          "Unpaid",
          "Paid",
          "Unpaid",
          "Paid",
          "Unpaid",
          "Unpaid",
          "Paid",
          "Unpaid",
          "Unpaid",
          "Paid",
          "Paid",
          "Unpaid",
          "Unpaid",
          "Unpaid",
          "Unpaid",
          "Unpaid",
          "Unpaid",
          "Unpaid",
          "Paid",
          "Paid",
          "Unpaid",
          "Paid",
          "Unpaid",
          "Unpaid",
          "Unpaid",
          "Paid",
          "Unpaid",
          "Unpaid",
          "Paid",
          "Paid",
          "Paid",
          "Unpaid",
          "Unpaid",
          "Unpaid",
          "Paid",
          "Unpaid",
          "Unpaid",
          "Paid",
          "Unpaid",
          "Paid",
          "Paid",
          "Paid",
          "Unpaid",
          "Paid",
          "Unpaid",
          "Paid",
          "Unpaid",
          "Paid",
          "Unpaid",
          "Unpaid",
          "Paid",
          "Unpaid",
          "Paid",
          "Unpaid",
          "Unpaid",
          "Paid",
          "Paid",
          "Unpaid",
          "Unpaid",
          "Paid",
          "Paid",
          "Paid",
          "Unpaid",
          "Unpaid",
          "Unpaid",
          "Unpaid",
          "Paid",
          "Paid",
          "Paid",
          "Paid",
          "Unpaid",
          "Paid",
          "Unpaid",
          "Paid",
          "Paid",
          "Unpaid",
          "Paid",
          "Unpaid",
          "Unpaid",
          "Unpaid",
          "Unpaid",
          "Unpaid",
          "Paid",
          "Unpaid",
          "Unpaid",
          "Unpaid",
          "Paid",
          "Paid",
          "Unpaid",
          "Paid",
          "Unpaid",
          "Unpaid",
          "Unpaid",
          "Paid",
          "Unpaid",
          "Unpaid",
          "Paid",
          "Unpaid",
          "Paid",
          "Paid",
          "Unpaid",
          "Unpaid",
          "Unpaid",
          "Paid",
          "Unpaid",
          "Unpaid",
          "Unpaid",
          "Unpaid",
          "Unpaid",
          "Unpaid",
          "Paid",
          "Unpaid",
          "Unpaid",
          "Unpaid",
          "Paid",
          "Unpaid",
          "Paid",
          "Paid",
          "Paid",
          "Unpaid",
          "Paid",
          "Unpaid",
          "Unpaid",
          "Unpaid",
          "Unpaid",
          "Paid",
          "Unpaid",
          "Unpaid",
          "Paid",
          "Paid",
          "Paid",
          "Unpaid",
          "Unpaid",
          "Unpaid",
          "Unpaid",
          "Unpaid",
          "Unpaid",
          "Paid",
          "Unpaid",
          "Unpaid",
          "Paid",
          "Paid",
          "Paid",
          "Unpaid",
          "Unpaid",
          "Unpaid",
          "Paid",
          "Unpaid",
          "Unpaid",
          "Paid",
          "Unpaid",
          "Paid",
          "Paid",
          "Unpaid",
          "Unpaid",
          "Paid",
          "Unpaid",
          "Paid",
          "Paid",
          "Paid",
          "Unpaid",
          "Unpaid",
          "Paid",
          "Unpaid",
          "Paid",
          "Paid",
          "Paid",
          "Paid",
          "Unpaid",
          "Unpaid",
          "Paid",
          "Paid",
          "Paid",
          "Unpaid",
          "Unpaid",
          "Unpaid",
          "Paid",
          "Paid",
          "Unpaid",
          "Paid",
          "Paid",
          "Unpaid",
          "Unpaid",
          "Paid",
          "Unpaid",
          "Unpaid",
          "Paid",
          "Paid",
          "Paid",
          "Unpaid",
          "Unpaid",
          "Paid",
          "Unpaid",
          "Unpaid",
          "Unpaid",
          "Unpaid",
          "Unpaid",
          "Paid",
          "Unpaid",
          "Paid",
          "Paid",
          "Paid",
          "Paid",
          "Unpaid",
          "Unpaid",
          "Paid",
          "Paid",
          "Paid",
          "Paid",
          "Unpaid",
          "Unpaid",
          "Paid",
          "Unpaid",
          "Paid",
          "Paid",
          "Unpaid",
          "Paid",
          "Unpaid",
          "Unpaid",
          "Paid",
          "Unpaid",
          "Paid",
          "Unpaid",
          "Paid",
          "Unpaid",
          "Paid",
          "Unpaid",
          "Paid",
          "Unpaid",
          "Unpaid",
          "Unpaid",
          "Unpaid",
          "Paid",
          "Unpaid",
          "Paid",
          "Paid",
          "Unpaid",
          "Unpaid",
          "Paid",
          "Paid",
          "Unpaid",
          "Paid",
          "Unpaid",
          "Unpaid",
          "Unpaid",
          "Paid",
          "Paid",
          "Unpaid",
          "Unpaid",
          "Paid",
          "Paid",
          "Unpaid",
          "Paid",
          "Paid",
          "Paid",
          "Unpaid",
          "Paid",
          "Unpaid",
          "Unpaid",
          "Paid",
          "Paid",
          "Paid",
          "Unpaid",
          "Unpaid",
          "Unpaid",
          "Paid",
          "Paid",
          "Unpaid",
          "Unpaid",
          "Unpaid",
          "Unpaid",
          "Unpaid",
          "Unpaid",
          "Unpaid",
          "Paid",
          "Paid",
          "Paid",
          "Paid",
          "Unpaid",
          "Unpaid",
          "Unpaid",
          "Unpaid",
          "Paid",
          "Unpaid",
          "Unpaid",
          "Paid",
          "Unpaid",
          "Paid",
          "Unpaid",
          "Unpaid",
          "Unpaid",
          "Paid",
          "Unpaid",
          "Paid",
          "Paid",
          "Unpaid",
          "Unpaid",
          "Unpaid",
          "Unpaid",
          "Paid",
          "Paid",
          "Paid",
          "Paid",
          "Unpaid",
          "Paid",
          "Unpaid",
          "Paid",
          "Unpaid",
          "Paid",
          "Unpaid",
          "Paid",
          "Paid",
          "Paid",
          "Unpaid",
          "Unpaid",
          "Paid",
          "Unpaid",
          "Paid",
          "Paid",
          "Unpaid",
          "Unpaid",
          "Paid",
          "Paid",
          "Paid",
          "Unpaid",
          "Paid",
          "Paid",
          "Unpaid",
          "Unpaid",
          "Paid",
          "Unpaid",
          "Unpaid",
          "Unpaid",
          "Unpaid",
          "Unpaid",
          "Unpaid",
          "Unpaid",
          "Unpaid",
          "Paid",
          "Paid",
          "Unpaid",
          "Unpaid",
          "Unpaid",
          "Paid",
          "Unpaid",
          "Paid",
          "Paid",
          "Paid",
          "Paid",
          "Unpaid",
          "Unpaid",
          "Paid",
          "Unpaid",
          "Paid",
          "Unpaid",
          "Unpaid",
          "Unpaid",
          "Unpaid",
          "Unpaid",
          "Paid",
          "Paid",
          "Unpaid",
          "Paid",
          "Paid",
          "Unpaid",
          "Unpaid",
          "Paid",
          "Unpaid",
          "Unpaid",
          "Unpaid",
          "Paid",
          "Paid",
          "Paid",
          "Unpaid",
          "Unpaid",
          "Paid",
          "Paid",
          "Paid",
          "Unpaid",
          "Unpaid",
          "Paid",
          "Paid",
          "Paid",
          "Paid",
          "Paid",
          "Paid",
          "Paid",
          "Unpaid",
          "Paid",
          "Unpaid",
          "Unpaid",
          "Unpaid",
          "Paid",
          "Paid",
          "Unpaid",
          "Unpaid",
          "Unpaid",
          "Paid",
          "Unpaid",
          "Unpaid",
          "Paid",
          "Paid",
          "Paid",
          "Unpaid",
          "Paid",
          "Unpaid",
          "Unpaid",
          "Paid",
          "Unpaid",
          "Paid",
          "Paid",
          "Paid",
          "Paid",
          "Unpaid",
          "Paid",
          "Unpaid",
          "Unpaid",
          "Unpaid",
          "Paid",
          "Unpaid",
          "Paid",
          "Paid",
          "Unpaid",
          "Unpaid",
          "Paid",
          "Unpaid",
          "Paid",
          "Paid",
          "Paid",
          "Paid",
          "Paid",
          "Unpaid",
          "Paid",
          "Unpaid",
          "Unpaid",
          "Paid",
          "Paid",
          "Paid",
          "Unpaid",
          "Paid",
          "Paid",
          "Unpaid",
          "Unpaid",
          "Paid",
          "Paid",
          "Unpaid",
          "Paid",
          "Paid",
          "Unpaid",
          "Unpaid",
          "Unpaid",
          "Paid",
          "Unpaid",
          "Paid",
          "Unpaid",
          "Paid",
          "Unpaid",
          "Paid",
          "Paid",
          "Paid",
          "Paid",
          "Paid",
          "Unpaid",
          "Paid",
          "Unpaid",
          "Paid",
          "Paid",
          "Unpaid",
          "Unpaid",
          "Unpaid",
          "Unpaid",
          "Unpaid",
          "Unpaid",
          "Paid",
          "Paid",
          "Paid",
          "Paid",
          "Unpaid",
          "Paid",
          "Paid",
          "Paid",
          "Unpaid",
          "Unpaid",
          "Unpaid",
          "Unpaid",
          "Paid",
          "Unpaid",
          "Unpaid",
          "Unpaid",
          "Paid",
          "Paid",
          "Paid",
          "Paid",
          "Unpaid",
          "Paid",
          "Unpaid",
          "Unpaid",
          "Unpaid",
          "Unpaid",
          "Unpaid",
          "Unpaid",
          "Unpaid",
          "Unpaid",
          "Unpaid",
          "Paid",
          "Unpaid",
          "Paid",
          "Paid",
          "Unpaid",
          "Unpaid",
          "Unpaid",
          "Paid",
          "Paid",
          "Paid",
          "Unpaid",
          "Unpaid",
          "Unpaid",
          "Paid",
          "Paid",
          "Unpaid",
          "Paid",
          "Unpaid",
          "Unpaid",
          "Unpaid",
          "Unpaid",
          "Unpaid",
          "Paid",
          "Unpaid",
          "Unpaid",
          "Paid",
          "Paid",
          "Paid",
          "Unpaid",
          "Unpaid",
          "Paid",
          "Unpaid",
          "Unpaid",
          "Paid",
          "Unpaid",
          "Unpaid",
          "Unpaid",
          "Unpaid",
          "Paid",
          "Paid",
          "Paid",
          "Paid",
          "Unpaid",
          "Paid",
          "Unpaid",
          "Unpaid",
          "Paid",
          "Unpaid",
          "Paid",
          "Unpaid",
          "Unpaid",
          "Paid",
          "Unpaid",
          "Paid",
          "Paid",
          "Unpaid",
          "Paid",
          "Paid",
          "Unpaid",
          "Paid",
          "Unpaid",
          "Unpaid",
          "Paid",
          "Unpaid",
          "Unpaid",
          "Paid",
          "Unpaid",
          "Paid",
          "Unpaid",
          "Paid",
          "Paid",
          "Paid",
          "Unpaid",
          "Paid",
          "Paid",
          "Unpaid",
          "Unpaid",
          "Unpaid",
          "Paid",
          "Unpaid",
          "Paid",
          "Unpaid",
          "Paid",
          "Paid",
          "Paid",
          "Paid",
          "Unpaid",
          "Unpaid",
          "Unpaid",
          "Unpaid",
          "Unpaid",
          "Unpaid",
          "Unpaid",
          "Unpaid",
          "Unpaid",
          "Unpaid",
          "Paid",
          "Paid",
          "Paid",
          "Paid",
          "Unpaid",
          "Paid",
          "Unpaid",
          "Paid",
          "Paid",
          "Unpaid",
          "Unpaid",
          "Unpaid",
          "Paid",
          "Paid",
          "Unpaid",
          "Paid",
          "Paid",
          "Unpaid",
          "Unpaid",
          "Unpaid",
          "Paid",
          "Paid",
          "Unpaid",
          "Unpaid",
          "Paid",
          "Paid",
          "Unpaid",
          "Paid",
          "Paid",
          "Unpaid",
          "Unpaid",
          "Unpaid",
          "Paid",
          "Paid",
          "Unpaid",
          "Unpaid",
          "Unpaid",
          "Paid",
          "Unpaid",
          "Paid",
          "Paid",
          "Unpaid",
          "Paid",
          "Unpaid",
          "Paid",
          "Unpaid",
          "Paid",
          "Unpaid",
          "Paid",
          "Unpaid",
          "Unpaid",
          "Paid",
          "Unpaid",
          "Paid",
          "Unpaid",
          "Unpaid",
          "Unpaid",
          "Unpaid",
          "Unpaid"
         ],
         "xaxis": "x",
         "y": [
          87568,
          77041,
          19448,
          88776,
          69606,
          50177,
          42977,
          30177,
          63673,
          29431,
          10177,
          20226,
          22231,
          59426,
          89552,
          89670,
          62147,
          24082,
          83311,
          26175,
          24133,
          72877,
          67832,
          20748,
          77089,
          70029,
          71445,
          12469,
          59067,
          58554,
          41109,
          32861,
          43105,
          81500,
          45596,
          82008,
          95893,
          11336,
          53316,
          57917,
          90717,
          44435,
          76748,
          12768,
          74077,
          59596,
          85125,
          63533,
          82621,
          28211,
          95139,
          64711,
          93992,
          98690,
          94250,
          43452,
          57769,
          18532,
          73246,
          43501,
          25154,
          47403,
          93652,
          37289,
          33109,
          53439,
          34415,
          93339,
          20181,
          80246,
          38395,
          44209,
          45158,
          76920,
          28540,
          11391,
          66574,
          26652,
          95837,
          18669,
          79807,
          90764,
          89792,
          33386,
          34152,
          97803,
          88315,
          24434,
          39000,
          37973,
          16438,
          22729,
          36407,
          98094,
          52711,
          97365,
          88191,
          96501,
          65850,
          91852,
          83895,
          79078,
          25529,
          83590,
          83805,
          86626,
          68235,
          96676,
          76760,
          22876,
          66680,
          25097,
          84292,
          12859,
          34877,
          24628,
          88117,
          18300,
          12412,
          89341,
          13338,
          69484,
          15804,
          63675,
          22392,
          85984,
          30029,
          75263,
          72524,
          32993,
          72088,
          95065,
          27258,
          17303,
          80186,
          22177,
          98717,
          31823,
          89718,
          88812,
          85307,
          21963,
          34928,
          90385,
          77926,
          13438,
          45151,
          46135,
          16167,
          23172,
          61303,
          92493,
          40360,
          76310,
          70709,
          75478,
          57445,
          99941,
          46698,
          37256,
          96880,
          84441,
          35151,
          98259,
          64236,
          59221,
          88666,
          57350,
          36952,
          51702,
          49496,
          33794,
          68720,
          29391,
          67295,
          82406,
          97054,
          31993,
          52639,
          39720,
          99698,
          19906,
          73820,
          93117,
          73238,
          61489,
          86944,
          50986,
          70481,
          15220,
          29357,
          49299,
          29549,
          67593,
          30694,
          26863,
          12690,
          31320,
          77963,
          35419,
          45983,
          32365,
          13911,
          64688,
          36469,
          91039,
          97498,
          50884,
          27677,
          70390,
          95178,
          78249,
          72635,
          84131,
          89315,
          22164,
          77082,
          45374,
          66792,
          33318,
          24627,
          81614,
          46091,
          83902,
          24444,
          27747,
          19229,
          99871,
          67804,
          42368,
          42916,
          30817,
          80634,
          66707,
          38670,
          65162,
          38755,
          74771,
          51972,
          78642,
          46704,
          83997,
          98469,
          52491,
          18495,
          75181,
          41110,
          58543,
          61084,
          50702,
          72348,
          34717,
          65941,
          92867,
          71295,
          59917,
          31399,
          12496,
          40985,
          95482,
          31434,
          48178,
          86407,
          23390,
          58577,
          61933,
          25479,
          86719,
          94532,
          38224,
          60351,
          85845,
          26173,
          86408,
          37424,
          80224,
          22854,
          13681,
          31613,
          29879,
          16078,
          37941,
          11416,
          95028,
          35425,
          18507,
          70587,
          68851,
          38698,
          52478,
          28318,
          48719,
          79880,
          85529,
          49102,
          29006,
          31949,
          85604,
          27909,
          41335,
          44184,
          70823,
          71215,
          37641,
          78256,
          16826,
          49563,
          62828,
          12192,
          29920,
          33683,
          35692,
          99791,
          19409,
          24795,
          69572,
          31735,
          93899,
          93996,
          54036,
          85672,
          63387,
          86827,
          88085,
          79650,
          78120,
          19740,
          65554,
          23319,
          15242,
          56169,
          39407,
          63504,
          31312,
          89630,
          22988,
          88734,
          76234,
          97739,
          25995,
          19876,
          28537,
          88438,
          98295,
          97056,
          15278,
          20031,
          72745,
          96140,
          84442,
          89834,
          76883,
          80544,
          65237,
          34553,
          14868,
          13960,
          73953,
          19944,
          78041,
          64248,
          33759,
          28121,
          55129,
          94599,
          60189,
          41559,
          88617,
          43126,
          40961,
          43844,
          24088,
          17236,
          97684,
          61454,
          55060,
          52564,
          43843,
          24433,
          37808,
          46245,
          92922,
          72222,
          24702,
          74211,
          54185,
          55707,
          94300,
          84222,
          12416,
          42671,
          77678,
          95308,
          10207,
          86382,
          60790,
          34711,
          35746,
          16024,
          40392,
          54531,
          32759,
          20797,
          69727,
          59269,
          52500,
          50694,
          52612,
          63723,
          48569,
          31199,
          81036,
          39666,
          15402,
          98907,
          82593,
          74598,
          22099,
          32097,
          30463,
          59094,
          26696,
          18354,
          55348,
          31880,
          91296,
          80304,
          43166,
          65782,
          70930,
          27431,
          28326,
          37706,
          43007,
          49232,
          43439,
          61771,
          45229,
          67745,
          61258,
          30532,
          82312,
          19334,
          47892,
          38831,
          33665,
          39205,
          82590,
          76564,
          20368,
          31435,
          92590,
          23394,
          57753,
          64428,
          53038,
          89133,
          30815,
          98376,
          60298,
          87502,
          16514,
          47668,
          55369,
          59179,
          58069,
          80885,
          76565,
          82152,
          44764,
          60493,
          35824,
          74544,
          28471,
          43142,
          13045,
          24728,
          39713,
          89374,
          16352,
          98566,
          76941,
          51747,
          82686,
          27716,
          83601,
          50760,
          13449,
          43777,
          17279,
          54809,
          15191,
          14216,
          71743,
          19127,
          10495,
          77768,
          71362,
          29319,
          74295,
          90203,
          23000,
          79981,
          86312,
          49323,
          67320,
          21419,
          36403,
          38298,
          47365,
          99573,
          56233,
          80545,
          82771,
          66360,
          71966,
          21195,
          49374,
          73539,
          36248,
          61454,
          36226,
          86202,
          41709,
          52850,
          73458,
          40949,
          35853,
          31997,
          68529,
          73371,
          60607,
          68523,
          44114,
          51588,
          39871,
          77497,
          72284,
          15690,
          25168,
          55875,
          80994,
          75116,
          14902,
          71263,
          37664,
          52203,
          14582,
          44811,
          46144,
          51476,
          41872,
          92754,
          27007,
          60199,
          60716,
          95902,
          43264,
          75230,
          37005,
          41475,
          26926,
          43683,
          86810,
          56049,
          52494,
          40288,
          35682,
          77125,
          40809,
          94406,
          61742,
          69584,
          84215,
          18803,
          70538,
          60608,
          53153,
          58657,
          19529,
          58208,
          85928,
          14583,
          71226,
          20328,
          97174,
          49113,
          98491,
          66235,
          31682,
          57442,
          91998,
          81188,
          26761,
          72188,
          99887,
          21176,
          67498,
          35639,
          77752,
          37415,
          42657,
          48217,
          93383,
          27900,
          21242,
          47191,
          57601,
          74930,
          27910,
          59940,
          23606,
          42031,
          17421,
          65729,
          17252,
          57624,
          88385,
          80144,
          16745,
          48049,
          47530,
          40222,
          97614,
          67707,
          33565,
          76045,
          82351,
          68312,
          98428,
          88812,
          13500,
          22546,
          63053,
          50526,
          90578,
          48153,
          10229,
          61638,
          43677,
          87256,
          60129,
          41879,
          92554,
          14717,
          94110,
          88771,
          15189,
          96859,
          99001,
          11865,
          14540,
          67441,
          88000,
          47582,
          89132,
          90922,
          29906,
          30802,
          74761,
          67276,
          84573,
          46994,
          82341,
          13157,
          44873,
          47944,
          43761,
          89241,
          95016,
          41678,
          29282,
          65008,
          96169,
          49814,
          25637,
          59757,
          58179,
          19256,
          64947,
          10517,
          97138,
          97355,
          20781,
          94192,
          35678,
          59962,
          18268,
          28693,
          35601,
          79975,
          58139,
          23227,
          53701,
          81925,
          72425,
          55229,
          95478,
          92765,
          35268,
          72448,
          76868,
          21229,
          55292,
          16300,
          93194,
          35820,
          46062,
          59488,
          23445,
          11867,
          98834,
          76030,
          14642,
          18352,
          12036,
          24722,
          26186,
          69085,
          12281,
          52828,
          11601,
          54787,
          68054,
          24794,
          63319,
          26026,
          28430,
          57785,
          31858,
          13332,
          43871,
          78713,
          73455,
          96421,
          48809,
          84263,
          90068,
          49828,
          55329,
          73206,
          34708,
          92183,
          25956,
          93972,
          73756,
          89268,
          72809,
          40788,
          89535,
          25840,
          13250,
          65714,
          90037,
          65509,
          74684,
          57999,
          28167,
          60245,
          15117,
          24922
         ],
         "yaxis": "y"
        },
        {
         "alignmentgroup": "True",
         "bingroup": "x",
         "histfunc": "sum",
         "hovertemplate": "Maternal_Outcome=Critical<br>Payment_Status=%{x}<br>sum of Total_Billing_Amount=%{y}<extra></extra>",
         "legendgroup": "Critical",
         "marker": {
          "color": "#EF553B",
          "pattern": {
           "shape": ""
          }
         },
         "name": "Critical",
         "offsetgroup": "Critical",
         "orientation": "v",
         "showlegend": true,
         "type": "histogram",
         "x": [
          "Unpaid",
          "Paid",
          "Unpaid",
          "Unpaid",
          "Paid",
          "Paid",
          "Unpaid",
          "Unpaid",
          "Paid",
          "Paid",
          "Paid",
          "Unpaid",
          "Unpaid",
          "Unpaid",
          "Unpaid",
          "Paid",
          "Unpaid",
          "Unpaid",
          "Unpaid",
          "Paid",
          "Unpaid",
          "Unpaid",
          "Unpaid",
          "Unpaid",
          "Unpaid",
          "Unpaid",
          "Unpaid",
          "Paid",
          "Unpaid",
          "Unpaid",
          "Unpaid",
          "Unpaid",
          "Unpaid",
          "Paid",
          "Paid",
          "Unpaid",
          "Unpaid",
          "Unpaid",
          "Unpaid",
          "Paid",
          "Paid",
          "Unpaid",
          "Paid",
          "Unpaid",
          "Paid",
          "Unpaid",
          "Unpaid",
          "Unpaid",
          "Paid",
          "Paid",
          "Paid",
          "Unpaid",
          "Unpaid",
          "Unpaid",
          "Paid",
          "Paid",
          "Unpaid",
          "Unpaid",
          "Paid",
          "Paid",
          "Unpaid",
          "Unpaid",
          "Paid",
          "Unpaid",
          "Unpaid",
          "Unpaid",
          "Paid",
          "Unpaid",
          "Paid",
          "Unpaid",
          "Paid",
          "Paid",
          "Unpaid",
          "Unpaid",
          "Paid",
          "Paid",
          "Unpaid",
          "Unpaid",
          "Paid",
          "Unpaid",
          "Unpaid",
          "Paid",
          "Paid",
          "Paid",
          "Paid",
          "Paid",
          "Paid",
          "Paid",
          "Paid",
          "Unpaid",
          "Paid",
          "Unpaid",
          "Paid",
          "Unpaid",
          "Unpaid",
          "Paid",
          "Unpaid",
          "Unpaid",
          "Paid",
          "Paid",
          "Unpaid",
          "Paid",
          "Paid",
          "Paid",
          "Unpaid",
          "Unpaid",
          "Unpaid",
          "Unpaid",
          "Paid",
          "Paid",
          "Unpaid",
          "Unpaid",
          "Paid",
          "Paid",
          "Unpaid",
          "Paid",
          "Unpaid",
          "Paid",
          "Unpaid",
          "Paid",
          "Unpaid",
          "Paid",
          "Paid",
          "Unpaid",
          "Unpaid",
          "Unpaid",
          "Paid",
          "Unpaid",
          "Unpaid",
          "Paid",
          "Unpaid",
          "Unpaid",
          "Unpaid",
          "Paid",
          "Paid",
          "Paid",
          "Unpaid",
          "Unpaid",
          "Unpaid",
          "Unpaid",
          "Unpaid",
          "Unpaid",
          "Unpaid",
          "Unpaid",
          "Paid",
          "Paid",
          "Paid",
          "Paid",
          "Paid",
          "Paid",
          "Paid",
          "Unpaid",
          "Paid",
          "Unpaid",
          "Unpaid",
          "Unpaid",
          "Unpaid",
          "Paid",
          "Paid",
          "Paid",
          "Unpaid",
          "Paid",
          "Paid",
          "Paid",
          "Paid",
          "Unpaid",
          "Unpaid",
          "Unpaid",
          "Paid",
          "Paid",
          "Paid",
          "Paid",
          "Paid",
          "Unpaid",
          "Unpaid",
          "Unpaid"
         ],
         "xaxis": "x",
         "y": [
          77655,
          32427,
          24837,
          35241,
          67612,
          98581,
          37634,
          64928,
          46444,
          94230,
          32669,
          98691,
          80047,
          65480,
          43453,
          22891,
          56791,
          65679,
          89036,
          14396,
          25568,
          59390,
          47861,
          50281,
          76644,
          95733,
          70610,
          23747,
          20038,
          96258,
          48278,
          86709,
          20937,
          96070,
          34985,
          91741,
          13193,
          27474,
          92186,
          50832,
          95997,
          10649,
          53346,
          73734,
          63184,
          88709,
          39580,
          49873,
          91840,
          77626,
          58229,
          20944,
          41752,
          57724,
          45974,
          11109,
          34802,
          53899,
          85194,
          91876,
          62958,
          23097,
          31532,
          43310,
          99643,
          49800,
          32707,
          55461,
          62314,
          71494,
          92453,
          22021,
          95579,
          96391,
          73711,
          90386,
          75973,
          65160,
          61866,
          15760,
          64967,
          92248,
          34902,
          31511,
          71586,
          55772,
          29986,
          28320,
          46951,
          91557,
          25515,
          93123,
          80719,
          63366,
          27912,
          33951,
          34303,
          38484,
          53468,
          71725,
          47362,
          90147,
          66138,
          92489,
          88422,
          35440,
          58461,
          54329,
          32659,
          22564,
          29531,
          84044,
          15307,
          95438,
          45536,
          79128,
          16719,
          57941,
          83436,
          48056,
          66965,
          96315,
          95915,
          50537,
          45870,
          20033,
          83583,
          11496,
          39482,
          93721,
          59483,
          49913,
          62572,
          47265,
          36690,
          26238,
          62622,
          12548,
          19640,
          43734,
          54054,
          67647,
          52398,
          70865,
          74225,
          34725,
          87508,
          82354,
          17692,
          68396,
          29999,
          36542,
          95331,
          84774,
          24676,
          62959,
          80328,
          87491,
          55528,
          99928,
          87776,
          49934,
          74092,
          58324,
          97003,
          11299,
          38170,
          90604,
          97745,
          97964,
          14089,
          77794,
          95358,
          20768,
          58505,
          20333
         ],
         "yaxis": "y"
        },
        {
         "alignmentgroup": "True",
         "bingroup": "x",
         "histfunc": "sum",
         "hovertemplate": "Maternal_Outcome=Deceased<br>Payment_Status=%{x}<br>sum of Total_Billing_Amount=%{y}<extra></extra>",
         "legendgroup": "Deceased",
         "marker": {
          "color": "#00cc96",
          "pattern": {
           "shape": ""
          }
         },
         "name": "Deceased",
         "offsetgroup": "Deceased",
         "orientation": "v",
         "showlegend": true,
         "type": "histogram",
         "x": [
          "Paid",
          "Paid",
          "Paid",
          "Unpaid",
          "Unpaid",
          "Unpaid",
          "Paid",
          "Paid",
          "Paid",
          "Unpaid",
          "Unpaid",
          "Paid",
          "Paid",
          "Paid",
          "Paid",
          "Paid",
          "Paid",
          "Paid",
          "Unpaid",
          "Paid",
          "Paid",
          "Paid",
          "Unpaid",
          "Unpaid",
          "Paid",
          "Unpaid",
          "Paid",
          "Unpaid",
          "Unpaid",
          "Paid",
          "Paid",
          "Paid",
          "Unpaid",
          "Unpaid",
          "Unpaid",
          "Paid",
          "Unpaid",
          "Paid",
          "Unpaid",
          "Paid",
          "Paid",
          "Paid",
          "Paid",
          "Unpaid",
          "Unpaid",
          "Paid",
          "Unpaid",
          "Unpaid",
          "Paid",
          "Paid",
          "Paid",
          "Paid",
          "Unpaid",
          "Paid",
          "Paid",
          "Unpaid",
          "Unpaid",
          "Paid",
          "Unpaid",
          "Unpaid",
          "Unpaid",
          "Paid",
          "Paid"
         ],
         "xaxis": "x",
         "y": [
          20546,
          11474,
          82100,
          11496,
          86682,
          68475,
          15450,
          19716,
          24172,
          37097,
          26395,
          79023,
          98950,
          44207,
          10141,
          55056,
          70424,
          11133,
          62837,
          58112,
          53252,
          86682,
          23573,
          19048,
          77330,
          16369,
          51312,
          15826,
          91065,
          86716,
          99543,
          43727,
          96690,
          30432,
          58014,
          63542,
          47549,
          19880,
          35256,
          39623,
          76901,
          50816,
          92825,
          74237,
          60366,
          70934,
          58329,
          24978,
          45830,
          65228,
          63568,
          42408,
          61351,
          79721,
          22793,
          87961,
          74758,
          75873,
          68897,
          94118,
          84478,
          96452,
          50706
         ],
         "yaxis": "y"
        }
       ],
       "layout": {
        "bargap": 0.1,
        "barmode": "relative",
        "height": 600,
        "legend": {
         "title": {
          "text": "Maternal_Outcome"
         },
         "tracegroupgap": 0
        },
        "template": {
         "data": {
          "bar": [
           {
            "error_x": {
             "color": "#2a3f5f"
            },
            "error_y": {
             "color": "#2a3f5f"
            },
            "marker": {
             "line": {
              "color": "#E5ECF6",
              "width": 0.5
             },
             "pattern": {
              "fillmode": "overlay",
              "size": 10,
              "solidity": 0.2
             }
            },
            "type": "bar"
           }
          ],
          "barpolar": [
           {
            "marker": {
             "line": {
              "color": "#E5ECF6",
              "width": 0.5
             },
             "pattern": {
              "fillmode": "overlay",
              "size": 10,
              "solidity": 0.2
             }
            },
            "type": "barpolar"
           }
          ],
          "carpet": [
           {
            "aaxis": {
             "endlinecolor": "#2a3f5f",
             "gridcolor": "white",
             "linecolor": "white",
             "minorgridcolor": "white",
             "startlinecolor": "#2a3f5f"
            },
            "baxis": {
             "endlinecolor": "#2a3f5f",
             "gridcolor": "white",
             "linecolor": "white",
             "minorgridcolor": "white",
             "startlinecolor": "#2a3f5f"
            },
            "type": "carpet"
           }
          ],
          "choropleth": [
           {
            "colorbar": {
             "outlinewidth": 0,
             "ticks": ""
            },
            "type": "choropleth"
           }
          ],
          "contour": [
           {
            "colorbar": {
             "outlinewidth": 0,
             "ticks": ""
            },
            "colorscale": [
             [
              0,
              "#0d0887"
             ],
             [
              0.1111111111111111,
              "#46039f"
             ],
             [
              0.2222222222222222,
              "#7201a8"
             ],
             [
              0.3333333333333333,
              "#9c179e"
             ],
             [
              0.4444444444444444,
              "#bd3786"
             ],
             [
              0.5555555555555556,
              "#d8576b"
             ],
             [
              0.6666666666666666,
              "#ed7953"
             ],
             [
              0.7777777777777778,
              "#fb9f3a"
             ],
             [
              0.8888888888888888,
              "#fdca26"
             ],
             [
              1,
              "#f0f921"
             ]
            ],
            "type": "contour"
           }
          ],
          "contourcarpet": [
           {
            "colorbar": {
             "outlinewidth": 0,
             "ticks": ""
            },
            "type": "contourcarpet"
           }
          ],
          "heatmap": [
           {
            "colorbar": {
             "outlinewidth": 0,
             "ticks": ""
            },
            "colorscale": [
             [
              0,
              "#0d0887"
             ],
             [
              0.1111111111111111,
              "#46039f"
             ],
             [
              0.2222222222222222,
              "#7201a8"
             ],
             [
              0.3333333333333333,
              "#9c179e"
             ],
             [
              0.4444444444444444,
              "#bd3786"
             ],
             [
              0.5555555555555556,
              "#d8576b"
             ],
             [
              0.6666666666666666,
              "#ed7953"
             ],
             [
              0.7777777777777778,
              "#fb9f3a"
             ],
             [
              0.8888888888888888,
              "#fdca26"
             ],
             [
              1,
              "#f0f921"
             ]
            ],
            "type": "heatmap"
           }
          ],
          "heatmapgl": [
           {
            "colorbar": {
             "outlinewidth": 0,
             "ticks": ""
            },
            "colorscale": [
             [
              0,
              "#0d0887"
             ],
             [
              0.1111111111111111,
              "#46039f"
             ],
             [
              0.2222222222222222,
              "#7201a8"
             ],
             [
              0.3333333333333333,
              "#9c179e"
             ],
             [
              0.4444444444444444,
              "#bd3786"
             ],
             [
              0.5555555555555556,
              "#d8576b"
             ],
             [
              0.6666666666666666,
              "#ed7953"
             ],
             [
              0.7777777777777778,
              "#fb9f3a"
             ],
             [
              0.8888888888888888,
              "#fdca26"
             ],
             [
              1,
              "#f0f921"
             ]
            ],
            "type": "heatmapgl"
           }
          ],
          "histogram": [
           {
            "marker": {
             "pattern": {
              "fillmode": "overlay",
              "size": 10,
              "solidity": 0.2
             }
            },
            "type": "histogram"
           }
          ],
          "histogram2d": [
           {
            "colorbar": {
             "outlinewidth": 0,
             "ticks": ""
            },
            "colorscale": [
             [
              0,
              "#0d0887"
             ],
             [
              0.1111111111111111,
              "#46039f"
             ],
             [
              0.2222222222222222,
              "#7201a8"
             ],
             [
              0.3333333333333333,
              "#9c179e"
             ],
             [
              0.4444444444444444,
              "#bd3786"
             ],
             [
              0.5555555555555556,
              "#d8576b"
             ],
             [
              0.6666666666666666,
              "#ed7953"
             ],
             [
              0.7777777777777778,
              "#fb9f3a"
             ],
             [
              0.8888888888888888,
              "#fdca26"
             ],
             [
              1,
              "#f0f921"
             ]
            ],
            "type": "histogram2d"
           }
          ],
          "histogram2dcontour": [
           {
            "colorbar": {
             "outlinewidth": 0,
             "ticks": ""
            },
            "colorscale": [
             [
              0,
              "#0d0887"
             ],
             [
              0.1111111111111111,
              "#46039f"
             ],
             [
              0.2222222222222222,
              "#7201a8"
             ],
             [
              0.3333333333333333,
              "#9c179e"
             ],
             [
              0.4444444444444444,
              "#bd3786"
             ],
             [
              0.5555555555555556,
              "#d8576b"
             ],
             [
              0.6666666666666666,
              "#ed7953"
             ],
             [
              0.7777777777777778,
              "#fb9f3a"
             ],
             [
              0.8888888888888888,
              "#fdca26"
             ],
             [
              1,
              "#f0f921"
             ]
            ],
            "type": "histogram2dcontour"
           }
          ],
          "mesh3d": [
           {
            "colorbar": {
             "outlinewidth": 0,
             "ticks": ""
            },
            "type": "mesh3d"
           }
          ],
          "parcoords": [
           {
            "line": {
             "colorbar": {
              "outlinewidth": 0,
              "ticks": ""
             }
            },
            "type": "parcoords"
           }
          ],
          "pie": [
           {
            "automargin": true,
            "type": "pie"
           }
          ],
          "scatter": [
           {
            "fillpattern": {
             "fillmode": "overlay",
             "size": 10,
             "solidity": 0.2
            },
            "type": "scatter"
           }
          ],
          "scatter3d": [
           {
            "line": {
             "colorbar": {
              "outlinewidth": 0,
              "ticks": ""
             }
            },
            "marker": {
             "colorbar": {
              "outlinewidth": 0,
              "ticks": ""
             }
            },
            "type": "scatter3d"
           }
          ],
          "scattercarpet": [
           {
            "marker": {
             "colorbar": {
              "outlinewidth": 0,
              "ticks": ""
             }
            },
            "type": "scattercarpet"
           }
          ],
          "scattergeo": [
           {
            "marker": {
             "colorbar": {
              "outlinewidth": 0,
              "ticks": ""
             }
            },
            "type": "scattergeo"
           }
          ],
          "scattergl": [
           {
            "marker": {
             "colorbar": {
              "outlinewidth": 0,
              "ticks": ""
             }
            },
            "type": "scattergl"
           }
          ],
          "scattermapbox": [
           {
            "marker": {
             "colorbar": {
              "outlinewidth": 0,
              "ticks": ""
             }
            },
            "type": "scattermapbox"
           }
          ],
          "scatterpolar": [
           {
            "marker": {
             "colorbar": {
              "outlinewidth": 0,
              "ticks": ""
             }
            },
            "type": "scatterpolar"
           }
          ],
          "scatterpolargl": [
           {
            "marker": {
             "colorbar": {
              "outlinewidth": 0,
              "ticks": ""
             }
            },
            "type": "scatterpolargl"
           }
          ],
          "scatterternary": [
           {
            "marker": {
             "colorbar": {
              "outlinewidth": 0,
              "ticks": ""
             }
            },
            "type": "scatterternary"
           }
          ],
          "surface": [
           {
            "colorbar": {
             "outlinewidth": 0,
             "ticks": ""
            },
            "colorscale": [
             [
              0,
              "#0d0887"
             ],
             [
              0.1111111111111111,
              "#46039f"
             ],
             [
              0.2222222222222222,
              "#7201a8"
             ],
             [
              0.3333333333333333,
              "#9c179e"
             ],
             [
              0.4444444444444444,
              "#bd3786"
             ],
             [
              0.5555555555555556,
              "#d8576b"
             ],
             [
              0.6666666666666666,
              "#ed7953"
             ],
             [
              0.7777777777777778,
              "#fb9f3a"
             ],
             [
              0.8888888888888888,
              "#fdca26"
             ],
             [
              1,
              "#f0f921"
             ]
            ],
            "type": "surface"
           }
          ],
          "table": [
           {
            "cells": {
             "fill": {
              "color": "#EBF0F8"
             },
             "line": {
              "color": "white"
             }
            },
            "header": {
             "fill": {
              "color": "#C8D4E3"
             },
             "line": {
              "color": "white"
             }
            },
            "type": "table"
           }
          ]
         },
         "layout": {
          "annotationdefaults": {
           "arrowcolor": "#2a3f5f",
           "arrowhead": 0,
           "arrowwidth": 1
          },
          "autotypenumbers": "strict",
          "coloraxis": {
           "colorbar": {
            "outlinewidth": 0,
            "ticks": ""
           }
          },
          "colorscale": {
           "diverging": [
            [
             0,
             "#8e0152"
            ],
            [
             0.1,
             "#c51b7d"
            ],
            [
             0.2,
             "#de77ae"
            ],
            [
             0.3,
             "#f1b6da"
            ],
            [
             0.4,
             "#fde0ef"
            ],
            [
             0.5,
             "#f7f7f7"
            ],
            [
             0.6,
             "#e6f5d0"
            ],
            [
             0.7,
             "#b8e186"
            ],
            [
             0.8,
             "#7fbc41"
            ],
            [
             0.9,
             "#4d9221"
            ],
            [
             1,
             "#276419"
            ]
           ],
           "sequential": [
            [
             0,
             "#0d0887"
            ],
            [
             0.1111111111111111,
             "#46039f"
            ],
            [
             0.2222222222222222,
             "#7201a8"
            ],
            [
             0.3333333333333333,
             "#9c179e"
            ],
            [
             0.4444444444444444,
             "#bd3786"
            ],
            [
             0.5555555555555556,
             "#d8576b"
            ],
            [
             0.6666666666666666,
             "#ed7953"
            ],
            [
             0.7777777777777778,
             "#fb9f3a"
            ],
            [
             0.8888888888888888,
             "#fdca26"
            ],
            [
             1,
             "#f0f921"
            ]
           ],
           "sequentialminus": [
            [
             0,
             "#0d0887"
            ],
            [
             0.1111111111111111,
             "#46039f"
            ],
            [
             0.2222222222222222,
             "#7201a8"
            ],
            [
             0.3333333333333333,
             "#9c179e"
            ],
            [
             0.4444444444444444,
             "#bd3786"
            ],
            [
             0.5555555555555556,
             "#d8576b"
            ],
            [
             0.6666666666666666,
             "#ed7953"
            ],
            [
             0.7777777777777778,
             "#fb9f3a"
            ],
            [
             0.8888888888888888,
             "#fdca26"
            ],
            [
             1,
             "#f0f921"
            ]
           ]
          },
          "colorway": [
           "#636efa",
           "#EF553B",
           "#00cc96",
           "#ab63fa",
           "#FFA15A",
           "#19d3f3",
           "#FF6692",
           "#B6E880",
           "#FF97FF",
           "#FECB52"
          ],
          "font": {
           "color": "#2a3f5f"
          },
          "geo": {
           "bgcolor": "white",
           "lakecolor": "white",
           "landcolor": "#E5ECF6",
           "showlakes": true,
           "showland": true,
           "subunitcolor": "white"
          },
          "hoverlabel": {
           "align": "left"
          },
          "hovermode": "closest",
          "mapbox": {
           "style": "light"
          },
          "paper_bgcolor": "white",
          "plot_bgcolor": "#E5ECF6",
          "polar": {
           "angularaxis": {
            "gridcolor": "white",
            "linecolor": "white",
            "ticks": ""
           },
           "bgcolor": "#E5ECF6",
           "radialaxis": {
            "gridcolor": "white",
            "linecolor": "white",
            "ticks": ""
           }
          },
          "scene": {
           "xaxis": {
            "backgroundcolor": "#E5ECF6",
            "gridcolor": "white",
            "gridwidth": 2,
            "linecolor": "white",
            "showbackground": true,
            "ticks": "",
            "zerolinecolor": "white"
           },
           "yaxis": {
            "backgroundcolor": "#E5ECF6",
            "gridcolor": "white",
            "gridwidth": 2,
            "linecolor": "white",
            "showbackground": true,
            "ticks": "",
            "zerolinecolor": "white"
           },
           "zaxis": {
            "backgroundcolor": "#E5ECF6",
            "gridcolor": "white",
            "gridwidth": 2,
            "linecolor": "white",
            "showbackground": true,
            "ticks": "",
            "zerolinecolor": "white"
           }
          },
          "shapedefaults": {
           "line": {
            "color": "#2a3f5f"
           }
          },
          "ternary": {
           "aaxis": {
            "gridcolor": "white",
            "linecolor": "white",
            "ticks": ""
           },
           "baxis": {
            "gridcolor": "white",
            "linecolor": "white",
            "ticks": ""
           },
           "bgcolor": "#E5ECF6",
           "caxis": {
            "gridcolor": "white",
            "linecolor": "white",
            "ticks": ""
           }
          },
          "title": {
           "x": 0.05
          },
          "xaxis": {
           "automargin": true,
           "gridcolor": "white",
           "linecolor": "white",
           "ticks": "",
           "title": {
            "standoff": 15
           },
           "zerolinecolor": "white",
           "zerolinewidth": 2
          },
          "yaxis": {
           "automargin": true,
           "gridcolor": "white",
           "linecolor": "white",
           "ticks": "",
           "title": {
            "standoff": 15
           },
           "zerolinecolor": "white",
           "zerolinewidth": 2
          }
         }
        },
        "title": {
         "text": "<b>Total Billing Distribution</b>"
        },
        "width": 800,
        "xaxis": {
         "anchor": "y",
         "domain": [
          0,
          1
         ],
         "title": {
          "text": "Payment_Status"
         }
        },
        "yaxis": {
         "anchor": "x",
         "domain": [
          0,
          1
         ],
         "title": {
          "text": "sum of Total_Billing_Amount"
         }
        }
       }
      }
     },
     "metadata": {},
     "output_type": "display_data"
    }
   ],
   "source": [
    "fig = px.histogram(data, y=\"Total_Billing_Amount\",x='Payment_Status',color='Maternal_Outcome',title=\"<b>Total Billing Distribution</b>\")\n",
    "fig.update_layout(width=800, height=600, bargap=0.1)\n",
    "fig.show()"
   ]
  },
  {
   "cell_type": "code",
   "execution_count": 13,
   "id": "e4ef3811",
   "metadata": {},
   "outputs": [
    {
     "data": {
      "application/vnd.plotly.v1+json": {
       "config": {
        "plotlyServerURL": "https://plot.ly"
       },
       "data": [
        {
         "alignmentgroup": "True",
         "bingroup": "x",
         "histfunc": "sum",
         "hovertemplate": "Maternal_Outcome=Healthy<br>Payment_Status=%{x}<br>sum of Total_Billing_Amount=%{y}<extra></extra>",
         "legendgroup": "Healthy",
         "marker": {
          "color": "#636efa",
          "pattern": {
           "shape": ""
          }
         },
         "name": "Healthy",
         "offsetgroup": "Healthy",
         "orientation": "v",
         "showlegend": true,
         "type": "histogram",
         "x": [
          "Paid",
          "Unpaid",
          "Unpaid",
          "Unpaid",
          "Paid",
          "Unpaid",
          "Paid",
          "Unpaid",
          "Paid",
          "Paid",
          "Unpaid",
          "Unpaid",
          "Unpaid",
          "Paid",
          "Unpaid",
          "Paid",
          "Paid",
          "Unpaid",
          "Paid",
          "Unpaid",
          "Unpaid",
          "Unpaid",
          "Unpaid",
          "Unpaid",
          "Unpaid",
          "Paid",
          "Paid",
          "Paid",
          "Paid",
          "Paid",
          "Paid",
          "Paid",
          "Paid",
          "Unpaid",
          "Unpaid",
          "Unpaid",
          "Paid",
          "Unpaid",
          "Unpaid",
          "Unpaid",
          "Paid",
          "Paid",
          "Unpaid",
          "Unpaid",
          "Paid",
          "Paid",
          "Unpaid",
          "Paid",
          "Unpaid",
          "Paid",
          "Paid",
          "Unpaid",
          "Paid",
          "Unpaid",
          "Unpaid",
          "Paid",
          "Paid",
          "Paid",
          "Paid",
          "Paid",
          "Unpaid",
          "Paid",
          "Unpaid",
          "Paid",
          "Unpaid",
          "Unpaid",
          "Paid",
          "Paid",
          "Paid",
          "Unpaid",
          "Paid",
          "Unpaid",
          "Paid",
          "Paid",
          "Paid",
          "Paid",
          "Paid",
          "Paid",
          "Unpaid",
          "Paid",
          "Unpaid",
          "Paid",
          "Paid",
          "Paid",
          "Unpaid",
          "Paid",
          "Paid",
          "Unpaid",
          "Unpaid",
          "Unpaid",
          "Unpaid",
          "Unpaid",
          "Unpaid",
          "Unpaid",
          "Paid",
          "Paid",
          "Unpaid",
          "Unpaid",
          "Unpaid",
          "Unpaid",
          "Unpaid",
          "Unpaid",
          "Unpaid",
          "Paid",
          "Unpaid",
          "Paid",
          "Unpaid",
          "Unpaid",
          "Paid",
          "Unpaid",
          "Unpaid",
          "Paid",
          "Paid",
          "Unpaid",
          "Unpaid",
          "Unpaid",
          "Unpaid",
          "Unpaid",
          "Unpaid",
          "Unpaid",
          "Paid",
          "Paid",
          "Unpaid",
          "Paid",
          "Unpaid",
          "Unpaid",
          "Unpaid",
          "Paid",
          "Unpaid",
          "Unpaid",
          "Paid",
          "Paid",
          "Paid",
          "Unpaid",
          "Unpaid",
          "Unpaid",
          "Paid",
          "Unpaid",
          "Unpaid",
          "Paid",
          "Unpaid",
          "Paid",
          "Paid",
          "Paid",
          "Unpaid",
          "Paid",
          "Unpaid",
          "Paid",
          "Unpaid",
          "Paid",
          "Unpaid",
          "Unpaid",
          "Paid",
          "Unpaid",
          "Paid",
          "Unpaid",
          "Unpaid",
          "Paid",
          "Paid",
          "Unpaid",
          "Unpaid",
          "Paid",
          "Paid",
          "Paid",
          "Unpaid",
          "Unpaid",
          "Unpaid",
          "Unpaid",
          "Paid",
          "Paid",
          "Paid",
          "Paid",
          "Unpaid",
          "Paid",
          "Unpaid",
          "Paid",
          "Paid",
          "Unpaid",
          "Paid",
          "Unpaid",
          "Unpaid",
          "Unpaid",
          "Unpaid",
          "Unpaid",
          "Paid",
          "Unpaid",
          "Unpaid",
          "Unpaid",
          "Paid",
          "Paid",
          "Unpaid",
          "Paid",
          "Unpaid",
          "Unpaid",
          "Unpaid",
          "Paid",
          "Unpaid",
          "Unpaid",
          "Paid",
          "Unpaid",
          "Paid",
          "Paid",
          "Unpaid",
          "Unpaid",
          "Unpaid",
          "Paid",
          "Unpaid",
          "Unpaid",
          "Unpaid",
          "Unpaid",
          "Unpaid",
          "Unpaid",
          "Paid",
          "Unpaid",
          "Unpaid",
          "Unpaid",
          "Paid",
          "Unpaid",
          "Paid",
          "Paid",
          "Paid",
          "Unpaid",
          "Paid",
          "Unpaid",
          "Unpaid",
          "Unpaid",
          "Unpaid",
          "Paid",
          "Unpaid",
          "Unpaid",
          "Paid",
          "Paid",
          "Paid",
          "Unpaid",
          "Unpaid",
          "Unpaid",
          "Unpaid",
          "Unpaid",
          "Unpaid",
          "Paid",
          "Unpaid",
          "Unpaid",
          "Paid",
          "Paid",
          "Paid",
          "Unpaid",
          "Unpaid",
          "Unpaid",
          "Paid",
          "Unpaid",
          "Unpaid",
          "Paid",
          "Unpaid",
          "Paid",
          "Paid",
          "Unpaid",
          "Unpaid",
          "Paid",
          "Unpaid",
          "Paid",
          "Paid",
          "Paid",
          "Unpaid",
          "Unpaid",
          "Paid",
          "Unpaid",
          "Paid",
          "Paid",
          "Paid",
          "Paid",
          "Unpaid",
          "Unpaid",
          "Paid",
          "Paid",
          "Paid",
          "Unpaid",
          "Unpaid",
          "Unpaid",
          "Paid",
          "Paid",
          "Unpaid",
          "Paid",
          "Paid",
          "Unpaid",
          "Unpaid",
          "Paid",
          "Unpaid",
          "Unpaid",
          "Paid",
          "Paid",
          "Paid",
          "Unpaid",
          "Unpaid",
          "Paid",
          "Unpaid",
          "Unpaid",
          "Unpaid",
          "Unpaid",
          "Unpaid",
          "Paid",
          "Unpaid",
          "Paid",
          "Paid",
          "Paid",
          "Paid",
          "Unpaid",
          "Unpaid",
          "Paid",
          "Paid",
          "Paid",
          "Paid",
          "Unpaid",
          "Unpaid",
          "Paid",
          "Unpaid",
          "Paid",
          "Paid",
          "Unpaid",
          "Paid",
          "Unpaid",
          "Unpaid",
          "Paid",
          "Unpaid",
          "Paid",
          "Unpaid",
          "Paid",
          "Unpaid",
          "Paid",
          "Unpaid",
          "Paid",
          "Unpaid",
          "Unpaid",
          "Unpaid",
          "Unpaid",
          "Paid",
          "Unpaid",
          "Paid",
          "Paid",
          "Unpaid",
          "Unpaid",
          "Paid",
          "Paid",
          "Unpaid",
          "Paid",
          "Unpaid",
          "Unpaid",
          "Unpaid",
          "Paid",
          "Paid",
          "Unpaid",
          "Unpaid",
          "Paid",
          "Paid",
          "Unpaid",
          "Paid",
          "Paid",
          "Paid",
          "Unpaid",
          "Paid",
          "Unpaid",
          "Unpaid",
          "Paid",
          "Paid",
          "Paid",
          "Unpaid",
          "Unpaid",
          "Unpaid",
          "Paid",
          "Paid",
          "Unpaid",
          "Unpaid",
          "Unpaid",
          "Unpaid",
          "Unpaid",
          "Unpaid",
          "Unpaid",
          "Paid",
          "Paid",
          "Paid",
          "Paid",
          "Unpaid",
          "Unpaid",
          "Unpaid",
          "Unpaid",
          "Paid",
          "Unpaid",
          "Unpaid",
          "Paid",
          "Unpaid",
          "Paid",
          "Unpaid",
          "Unpaid",
          "Unpaid",
          "Paid",
          "Unpaid",
          "Paid",
          "Paid",
          "Unpaid",
          "Unpaid",
          "Unpaid",
          "Unpaid",
          "Paid",
          "Paid",
          "Paid",
          "Paid",
          "Unpaid",
          "Paid",
          "Unpaid",
          "Paid",
          "Unpaid",
          "Paid",
          "Unpaid",
          "Paid",
          "Paid",
          "Paid",
          "Unpaid",
          "Unpaid",
          "Paid",
          "Unpaid",
          "Paid",
          "Paid",
          "Unpaid",
          "Unpaid",
          "Paid",
          "Paid",
          "Paid",
          "Unpaid",
          "Paid",
          "Paid",
          "Unpaid",
          "Unpaid",
          "Paid",
          "Unpaid",
          "Unpaid",
          "Unpaid",
          "Unpaid",
          "Unpaid",
          "Unpaid",
          "Unpaid",
          "Unpaid",
          "Paid",
          "Paid",
          "Unpaid",
          "Unpaid",
          "Unpaid",
          "Paid",
          "Unpaid",
          "Paid",
          "Paid",
          "Paid",
          "Paid",
          "Unpaid",
          "Unpaid",
          "Paid",
          "Unpaid",
          "Paid",
          "Unpaid",
          "Unpaid",
          "Unpaid",
          "Unpaid",
          "Unpaid",
          "Paid",
          "Paid",
          "Unpaid",
          "Paid",
          "Paid",
          "Unpaid",
          "Unpaid",
          "Paid",
          "Unpaid",
          "Unpaid",
          "Unpaid",
          "Paid",
          "Paid",
          "Paid",
          "Unpaid",
          "Unpaid",
          "Paid",
          "Paid",
          "Paid",
          "Unpaid",
          "Unpaid",
          "Paid",
          "Paid",
          "Paid",
          "Paid",
          "Paid",
          "Paid",
          "Paid",
          "Unpaid",
          "Paid",
          "Unpaid",
          "Unpaid",
          "Unpaid",
          "Paid",
          "Paid",
          "Unpaid",
          "Unpaid",
          "Unpaid",
          "Paid",
          "Unpaid",
          "Unpaid",
          "Paid",
          "Paid",
          "Paid",
          "Unpaid",
          "Paid",
          "Unpaid",
          "Unpaid",
          "Paid",
          "Unpaid",
          "Paid",
          "Paid",
          "Paid",
          "Paid",
          "Unpaid",
          "Paid",
          "Unpaid",
          "Unpaid",
          "Unpaid",
          "Paid",
          "Unpaid",
          "Paid",
          "Paid",
          "Unpaid",
          "Unpaid",
          "Paid",
          "Unpaid",
          "Paid",
          "Paid",
          "Paid",
          "Paid",
          "Paid",
          "Unpaid",
          "Paid",
          "Unpaid",
          "Unpaid",
          "Paid",
          "Paid",
          "Paid",
          "Unpaid",
          "Paid",
          "Paid",
          "Unpaid",
          "Unpaid",
          "Paid",
          "Paid",
          "Unpaid",
          "Paid",
          "Paid",
          "Unpaid",
          "Unpaid",
          "Unpaid",
          "Paid",
          "Unpaid",
          "Paid",
          "Unpaid",
          "Paid",
          "Unpaid",
          "Paid",
          "Paid",
          "Paid",
          "Paid",
          "Paid",
          "Unpaid",
          "Paid",
          "Unpaid",
          "Paid",
          "Paid",
          "Unpaid",
          "Unpaid",
          "Unpaid",
          "Unpaid",
          "Unpaid",
          "Unpaid",
          "Paid",
          "Paid",
          "Paid",
          "Paid",
          "Unpaid",
          "Paid",
          "Paid",
          "Paid",
          "Unpaid",
          "Unpaid",
          "Unpaid",
          "Unpaid",
          "Paid",
          "Unpaid",
          "Unpaid",
          "Unpaid",
          "Paid",
          "Paid",
          "Paid",
          "Paid",
          "Unpaid",
          "Paid",
          "Unpaid",
          "Unpaid",
          "Unpaid",
          "Unpaid",
          "Unpaid",
          "Unpaid",
          "Unpaid",
          "Unpaid",
          "Unpaid",
          "Paid",
          "Unpaid",
          "Paid",
          "Paid",
          "Unpaid",
          "Unpaid",
          "Unpaid",
          "Paid",
          "Paid",
          "Paid",
          "Unpaid",
          "Unpaid",
          "Unpaid",
          "Paid",
          "Paid",
          "Unpaid",
          "Paid",
          "Unpaid",
          "Unpaid",
          "Unpaid",
          "Unpaid",
          "Unpaid",
          "Paid",
          "Unpaid",
          "Unpaid",
          "Paid",
          "Paid",
          "Paid",
          "Unpaid",
          "Unpaid",
          "Paid",
          "Unpaid",
          "Unpaid",
          "Paid",
          "Unpaid",
          "Unpaid",
          "Unpaid",
          "Unpaid",
          "Paid",
          "Paid",
          "Paid",
          "Paid",
          "Unpaid",
          "Paid",
          "Unpaid",
          "Unpaid",
          "Paid",
          "Unpaid",
          "Paid",
          "Unpaid",
          "Unpaid",
          "Paid",
          "Unpaid",
          "Paid",
          "Paid",
          "Unpaid",
          "Paid",
          "Paid",
          "Unpaid",
          "Paid",
          "Unpaid",
          "Unpaid",
          "Paid",
          "Unpaid",
          "Unpaid",
          "Paid",
          "Unpaid",
          "Paid",
          "Unpaid",
          "Paid",
          "Paid",
          "Paid",
          "Unpaid",
          "Paid",
          "Paid",
          "Unpaid",
          "Unpaid",
          "Unpaid",
          "Paid",
          "Unpaid",
          "Paid",
          "Unpaid",
          "Paid",
          "Paid",
          "Paid",
          "Paid",
          "Unpaid",
          "Unpaid",
          "Unpaid",
          "Unpaid",
          "Unpaid",
          "Unpaid",
          "Unpaid",
          "Unpaid",
          "Unpaid",
          "Unpaid",
          "Paid",
          "Paid",
          "Paid",
          "Paid",
          "Unpaid",
          "Paid",
          "Unpaid",
          "Paid",
          "Paid",
          "Unpaid",
          "Unpaid",
          "Unpaid",
          "Paid",
          "Paid",
          "Unpaid",
          "Paid",
          "Paid",
          "Unpaid",
          "Unpaid",
          "Unpaid",
          "Paid",
          "Paid",
          "Unpaid",
          "Unpaid",
          "Paid",
          "Paid",
          "Unpaid",
          "Paid",
          "Paid",
          "Unpaid",
          "Unpaid",
          "Unpaid",
          "Paid",
          "Paid",
          "Unpaid",
          "Unpaid",
          "Unpaid",
          "Paid",
          "Unpaid",
          "Paid",
          "Paid",
          "Unpaid",
          "Paid",
          "Unpaid",
          "Paid",
          "Unpaid",
          "Paid",
          "Unpaid",
          "Paid",
          "Unpaid",
          "Unpaid",
          "Paid",
          "Unpaid",
          "Paid",
          "Unpaid",
          "Unpaid",
          "Unpaid",
          "Unpaid",
          "Unpaid"
         ],
         "xaxis": "x",
         "y": [
          87568,
          77041,
          19448,
          88776,
          69606,
          50177,
          42977,
          30177,
          63673,
          29431,
          10177,
          20226,
          22231,
          59426,
          89552,
          89670,
          62147,
          24082,
          83311,
          26175,
          24133,
          72877,
          67832,
          20748,
          77089,
          70029,
          71445,
          12469,
          59067,
          58554,
          41109,
          32861,
          43105,
          81500,
          45596,
          82008,
          95893,
          11336,
          53316,
          57917,
          90717,
          44435,
          76748,
          12768,
          74077,
          59596,
          85125,
          63533,
          82621,
          28211,
          95139,
          64711,
          93992,
          98690,
          94250,
          43452,
          57769,
          18532,
          73246,
          43501,
          25154,
          47403,
          93652,
          37289,
          33109,
          53439,
          34415,
          93339,
          20181,
          80246,
          38395,
          44209,
          45158,
          76920,
          28540,
          11391,
          66574,
          26652,
          95837,
          18669,
          79807,
          90764,
          89792,
          33386,
          34152,
          97803,
          88315,
          24434,
          39000,
          37973,
          16438,
          22729,
          36407,
          98094,
          52711,
          97365,
          88191,
          96501,
          65850,
          91852,
          83895,
          79078,
          25529,
          83590,
          83805,
          86626,
          68235,
          96676,
          76760,
          22876,
          66680,
          25097,
          84292,
          12859,
          34877,
          24628,
          88117,
          18300,
          12412,
          89341,
          13338,
          69484,
          15804,
          63675,
          22392,
          85984,
          30029,
          75263,
          72524,
          32993,
          72088,
          95065,
          27258,
          17303,
          80186,
          22177,
          98717,
          31823,
          89718,
          88812,
          85307,
          21963,
          34928,
          90385,
          77926,
          13438,
          45151,
          46135,
          16167,
          23172,
          61303,
          92493,
          40360,
          76310,
          70709,
          75478,
          57445,
          99941,
          46698,
          37256,
          96880,
          84441,
          35151,
          98259,
          64236,
          59221,
          88666,
          57350,
          36952,
          51702,
          49496,
          33794,
          68720,
          29391,
          67295,
          82406,
          97054,
          31993,
          52639,
          39720,
          99698,
          19906,
          73820,
          93117,
          73238,
          61489,
          86944,
          50986,
          70481,
          15220,
          29357,
          49299,
          29549,
          67593,
          30694,
          26863,
          12690,
          31320,
          77963,
          35419,
          45983,
          32365,
          13911,
          64688,
          36469,
          91039,
          97498,
          50884,
          27677,
          70390,
          95178,
          78249,
          72635,
          84131,
          89315,
          22164,
          77082,
          45374,
          66792,
          33318,
          24627,
          81614,
          46091,
          83902,
          24444,
          27747,
          19229,
          99871,
          67804,
          42368,
          42916,
          30817,
          80634,
          66707,
          38670,
          65162,
          38755,
          74771,
          51972,
          78642,
          46704,
          83997,
          98469,
          52491,
          18495,
          75181,
          41110,
          58543,
          61084,
          50702,
          72348,
          34717,
          65941,
          92867,
          71295,
          59917,
          31399,
          12496,
          40985,
          95482,
          31434,
          48178,
          86407,
          23390,
          58577,
          61933,
          25479,
          86719,
          94532,
          38224,
          60351,
          85845,
          26173,
          86408,
          37424,
          80224,
          22854,
          13681,
          31613,
          29879,
          16078,
          37941,
          11416,
          95028,
          35425,
          18507,
          70587,
          68851,
          38698,
          52478,
          28318,
          48719,
          79880,
          85529,
          49102,
          29006,
          31949,
          85604,
          27909,
          41335,
          44184,
          70823,
          71215,
          37641,
          78256,
          16826,
          49563,
          62828,
          12192,
          29920,
          33683,
          35692,
          99791,
          19409,
          24795,
          69572,
          31735,
          93899,
          93996,
          54036,
          85672,
          63387,
          86827,
          88085,
          79650,
          78120,
          19740,
          65554,
          23319,
          15242,
          56169,
          39407,
          63504,
          31312,
          89630,
          22988,
          88734,
          76234,
          97739,
          25995,
          19876,
          28537,
          88438,
          98295,
          97056,
          15278,
          20031,
          72745,
          96140,
          84442,
          89834,
          76883,
          80544,
          65237,
          34553,
          14868,
          13960,
          73953,
          19944,
          78041,
          64248,
          33759,
          28121,
          55129,
          94599,
          60189,
          41559,
          88617,
          43126,
          40961,
          43844,
          24088,
          17236,
          97684,
          61454,
          55060,
          52564,
          43843,
          24433,
          37808,
          46245,
          92922,
          72222,
          24702,
          74211,
          54185,
          55707,
          94300,
          84222,
          12416,
          42671,
          77678,
          95308,
          10207,
          86382,
          60790,
          34711,
          35746,
          16024,
          40392,
          54531,
          32759,
          20797,
          69727,
          59269,
          52500,
          50694,
          52612,
          63723,
          48569,
          31199,
          81036,
          39666,
          15402,
          98907,
          82593,
          74598,
          22099,
          32097,
          30463,
          59094,
          26696,
          18354,
          55348,
          31880,
          91296,
          80304,
          43166,
          65782,
          70930,
          27431,
          28326,
          37706,
          43007,
          49232,
          43439,
          61771,
          45229,
          67745,
          61258,
          30532,
          82312,
          19334,
          47892,
          38831,
          33665,
          39205,
          82590,
          76564,
          20368,
          31435,
          92590,
          23394,
          57753,
          64428,
          53038,
          89133,
          30815,
          98376,
          60298,
          87502,
          16514,
          47668,
          55369,
          59179,
          58069,
          80885,
          76565,
          82152,
          44764,
          60493,
          35824,
          74544,
          28471,
          43142,
          13045,
          24728,
          39713,
          89374,
          16352,
          98566,
          76941,
          51747,
          82686,
          27716,
          83601,
          50760,
          13449,
          43777,
          17279,
          54809,
          15191,
          14216,
          71743,
          19127,
          10495,
          77768,
          71362,
          29319,
          74295,
          90203,
          23000,
          79981,
          86312,
          49323,
          67320,
          21419,
          36403,
          38298,
          47365,
          99573,
          56233,
          80545,
          82771,
          66360,
          71966,
          21195,
          49374,
          73539,
          36248,
          61454,
          36226,
          86202,
          41709,
          52850,
          73458,
          40949,
          35853,
          31997,
          68529,
          73371,
          60607,
          68523,
          44114,
          51588,
          39871,
          77497,
          72284,
          15690,
          25168,
          55875,
          80994,
          75116,
          14902,
          71263,
          37664,
          52203,
          14582,
          44811,
          46144,
          51476,
          41872,
          92754,
          27007,
          60199,
          60716,
          95902,
          43264,
          75230,
          37005,
          41475,
          26926,
          43683,
          86810,
          56049,
          52494,
          40288,
          35682,
          77125,
          40809,
          94406,
          61742,
          69584,
          84215,
          18803,
          70538,
          60608,
          53153,
          58657,
          19529,
          58208,
          85928,
          14583,
          71226,
          20328,
          97174,
          49113,
          98491,
          66235,
          31682,
          57442,
          91998,
          81188,
          26761,
          72188,
          99887,
          21176,
          67498,
          35639,
          77752,
          37415,
          42657,
          48217,
          93383,
          27900,
          21242,
          47191,
          57601,
          74930,
          27910,
          59940,
          23606,
          42031,
          17421,
          65729,
          17252,
          57624,
          88385,
          80144,
          16745,
          48049,
          47530,
          40222,
          97614,
          67707,
          33565,
          76045,
          82351,
          68312,
          98428,
          88812,
          13500,
          22546,
          63053,
          50526,
          90578,
          48153,
          10229,
          61638,
          43677,
          87256,
          60129,
          41879,
          92554,
          14717,
          94110,
          88771,
          15189,
          96859,
          99001,
          11865,
          14540,
          67441,
          88000,
          47582,
          89132,
          90922,
          29906,
          30802,
          74761,
          67276,
          84573,
          46994,
          82341,
          13157,
          44873,
          47944,
          43761,
          89241,
          95016,
          41678,
          29282,
          65008,
          96169,
          49814,
          25637,
          59757,
          58179,
          19256,
          64947,
          10517,
          97138,
          97355,
          20781,
          94192,
          35678,
          59962,
          18268,
          28693,
          35601,
          79975,
          58139,
          23227,
          53701,
          81925,
          72425,
          55229,
          95478,
          92765,
          35268,
          72448,
          76868,
          21229,
          55292,
          16300,
          93194,
          35820,
          46062,
          59488,
          23445,
          11867,
          98834,
          76030,
          14642,
          18352,
          12036,
          24722,
          26186,
          69085,
          12281,
          52828,
          11601,
          54787,
          68054,
          24794,
          63319,
          26026,
          28430,
          57785,
          31858,
          13332,
          43871,
          78713,
          73455,
          96421,
          48809,
          84263,
          90068,
          49828,
          55329,
          73206,
          34708,
          92183,
          25956,
          93972,
          73756,
          89268,
          72809,
          40788,
          89535,
          25840,
          13250,
          65714,
          90037,
          65509,
          74684,
          57999,
          28167,
          60245,
          15117,
          24922
         ],
         "yaxis": "y"
        },
        {
         "alignmentgroup": "True",
         "bingroup": "x",
         "histfunc": "sum",
         "hovertemplate": "Maternal_Outcome=Critical<br>Payment_Status=%{x}<br>sum of Total_Billing_Amount=%{y}<extra></extra>",
         "legendgroup": "Critical",
         "marker": {
          "color": "#EF553B",
          "pattern": {
           "shape": ""
          }
         },
         "name": "Critical",
         "offsetgroup": "Critical",
         "orientation": "v",
         "showlegend": true,
         "type": "histogram",
         "x": [
          "Unpaid",
          "Paid",
          "Unpaid",
          "Unpaid",
          "Paid",
          "Paid",
          "Unpaid",
          "Unpaid",
          "Paid",
          "Paid",
          "Paid",
          "Unpaid",
          "Unpaid",
          "Unpaid",
          "Unpaid",
          "Paid",
          "Unpaid",
          "Unpaid",
          "Unpaid",
          "Paid",
          "Unpaid",
          "Unpaid",
          "Unpaid",
          "Unpaid",
          "Unpaid",
          "Unpaid",
          "Unpaid",
          "Paid",
          "Unpaid",
          "Unpaid",
          "Unpaid",
          "Unpaid",
          "Unpaid",
          "Paid",
          "Paid",
          "Unpaid",
          "Unpaid",
          "Unpaid",
          "Unpaid",
          "Paid",
          "Paid",
          "Unpaid",
          "Paid",
          "Unpaid",
          "Paid",
          "Unpaid",
          "Unpaid",
          "Unpaid",
          "Paid",
          "Paid",
          "Paid",
          "Unpaid",
          "Unpaid",
          "Unpaid",
          "Paid",
          "Paid",
          "Unpaid",
          "Unpaid",
          "Paid",
          "Paid",
          "Unpaid",
          "Unpaid",
          "Paid",
          "Unpaid",
          "Unpaid",
          "Unpaid",
          "Paid",
          "Unpaid",
          "Paid",
          "Unpaid",
          "Paid",
          "Paid",
          "Unpaid",
          "Unpaid",
          "Paid",
          "Paid",
          "Unpaid",
          "Unpaid",
          "Paid",
          "Unpaid",
          "Unpaid",
          "Paid",
          "Paid",
          "Paid",
          "Paid",
          "Paid",
          "Paid",
          "Paid",
          "Paid",
          "Unpaid",
          "Paid",
          "Unpaid",
          "Paid",
          "Unpaid",
          "Unpaid",
          "Paid",
          "Unpaid",
          "Unpaid",
          "Paid",
          "Paid",
          "Unpaid",
          "Paid",
          "Paid",
          "Paid",
          "Unpaid",
          "Unpaid",
          "Unpaid",
          "Unpaid",
          "Paid",
          "Paid",
          "Unpaid",
          "Unpaid",
          "Paid",
          "Paid",
          "Unpaid",
          "Paid",
          "Unpaid",
          "Paid",
          "Unpaid",
          "Paid",
          "Unpaid",
          "Paid",
          "Paid",
          "Unpaid",
          "Unpaid",
          "Unpaid",
          "Paid",
          "Unpaid",
          "Unpaid",
          "Paid",
          "Unpaid",
          "Unpaid",
          "Unpaid",
          "Paid",
          "Paid",
          "Paid",
          "Unpaid",
          "Unpaid",
          "Unpaid",
          "Unpaid",
          "Unpaid",
          "Unpaid",
          "Unpaid",
          "Unpaid",
          "Paid",
          "Paid",
          "Paid",
          "Paid",
          "Paid",
          "Paid",
          "Paid",
          "Unpaid",
          "Paid",
          "Unpaid",
          "Unpaid",
          "Unpaid",
          "Unpaid",
          "Paid",
          "Paid",
          "Paid",
          "Unpaid",
          "Paid",
          "Paid",
          "Paid",
          "Paid",
          "Unpaid",
          "Unpaid",
          "Unpaid",
          "Paid",
          "Paid",
          "Paid",
          "Paid",
          "Paid",
          "Unpaid",
          "Unpaid",
          "Unpaid"
         ],
         "xaxis": "x",
         "y": [
          77655,
          32427,
          24837,
          35241,
          67612,
          98581,
          37634,
          64928,
          46444,
          94230,
          32669,
          98691,
          80047,
          65480,
          43453,
          22891,
          56791,
          65679,
          89036,
          14396,
          25568,
          59390,
          47861,
          50281,
          76644,
          95733,
          70610,
          23747,
          20038,
          96258,
          48278,
          86709,
          20937,
          96070,
          34985,
          91741,
          13193,
          27474,
          92186,
          50832,
          95997,
          10649,
          53346,
          73734,
          63184,
          88709,
          39580,
          49873,
          91840,
          77626,
          58229,
          20944,
          41752,
          57724,
          45974,
          11109,
          34802,
          53899,
          85194,
          91876,
          62958,
          23097,
          31532,
          43310,
          99643,
          49800,
          32707,
          55461,
          62314,
          71494,
          92453,
          22021,
          95579,
          96391,
          73711,
          90386,
          75973,
          65160,
          61866,
          15760,
          64967,
          92248,
          34902,
          31511,
          71586,
          55772,
          29986,
          28320,
          46951,
          91557,
          25515,
          93123,
          80719,
          63366,
          27912,
          33951,
          34303,
          38484,
          53468,
          71725,
          47362,
          90147,
          66138,
          92489,
          88422,
          35440,
          58461,
          54329,
          32659,
          22564,
          29531,
          84044,
          15307,
          95438,
          45536,
          79128,
          16719,
          57941,
          83436,
          48056,
          66965,
          96315,
          95915,
          50537,
          45870,
          20033,
          83583,
          11496,
          39482,
          93721,
          59483,
          49913,
          62572,
          47265,
          36690,
          26238,
          62622,
          12548,
          19640,
          43734,
          54054,
          67647,
          52398,
          70865,
          74225,
          34725,
          87508,
          82354,
          17692,
          68396,
          29999,
          36542,
          95331,
          84774,
          24676,
          62959,
          80328,
          87491,
          55528,
          99928,
          87776,
          49934,
          74092,
          58324,
          97003,
          11299,
          38170,
          90604,
          97745,
          97964,
          14089,
          77794,
          95358,
          20768,
          58505,
          20333
         ],
         "yaxis": "y"
        },
        {
         "alignmentgroup": "True",
         "bingroup": "x",
         "histfunc": "sum",
         "hovertemplate": "Maternal_Outcome=Deceased<br>Payment_Status=%{x}<br>sum of Total_Billing_Amount=%{y}<extra></extra>",
         "legendgroup": "Deceased",
         "marker": {
          "color": "#00cc96",
          "pattern": {
           "shape": ""
          }
         },
         "name": "Deceased",
         "offsetgroup": "Deceased",
         "orientation": "v",
         "showlegend": true,
         "type": "histogram",
         "x": [
          "Paid",
          "Paid",
          "Paid",
          "Unpaid",
          "Unpaid",
          "Unpaid",
          "Paid",
          "Paid",
          "Paid",
          "Unpaid",
          "Unpaid",
          "Paid",
          "Paid",
          "Paid",
          "Paid",
          "Paid",
          "Paid",
          "Paid",
          "Unpaid",
          "Paid",
          "Paid",
          "Paid",
          "Unpaid",
          "Unpaid",
          "Paid",
          "Unpaid",
          "Paid",
          "Unpaid",
          "Unpaid",
          "Paid",
          "Paid",
          "Paid",
          "Unpaid",
          "Unpaid",
          "Unpaid",
          "Paid",
          "Unpaid",
          "Paid",
          "Unpaid",
          "Paid",
          "Paid",
          "Paid",
          "Paid",
          "Unpaid",
          "Unpaid",
          "Paid",
          "Unpaid",
          "Unpaid",
          "Paid",
          "Paid",
          "Paid",
          "Paid",
          "Unpaid",
          "Paid",
          "Paid",
          "Unpaid",
          "Unpaid",
          "Paid",
          "Unpaid",
          "Unpaid",
          "Unpaid",
          "Paid",
          "Paid"
         ],
         "xaxis": "x",
         "y": [
          20546,
          11474,
          82100,
          11496,
          86682,
          68475,
          15450,
          19716,
          24172,
          37097,
          26395,
          79023,
          98950,
          44207,
          10141,
          55056,
          70424,
          11133,
          62837,
          58112,
          53252,
          86682,
          23573,
          19048,
          77330,
          16369,
          51312,
          15826,
          91065,
          86716,
          99543,
          43727,
          96690,
          30432,
          58014,
          63542,
          47549,
          19880,
          35256,
          39623,
          76901,
          50816,
          92825,
          74237,
          60366,
          70934,
          58329,
          24978,
          45830,
          65228,
          63568,
          42408,
          61351,
          79721,
          22793,
          87961,
          74758,
          75873,
          68897,
          94118,
          84478,
          96452,
          50706
         ],
         "yaxis": "y"
        }
       ],
       "layout": {
        "bargap": 0.1,
        "barmode": "group",
        "height": 600,
        "legend": {
         "title": {
          "text": "Maternal_Outcome"
         },
         "tracegroupgap": 0
        },
        "template": {
         "data": {
          "bar": [
           {
            "error_x": {
             "color": "#2a3f5f"
            },
            "error_y": {
             "color": "#2a3f5f"
            },
            "marker": {
             "line": {
              "color": "#E5ECF6",
              "width": 0.5
             },
             "pattern": {
              "fillmode": "overlay",
              "size": 10,
              "solidity": 0.2
             }
            },
            "type": "bar"
           }
          ],
          "barpolar": [
           {
            "marker": {
             "line": {
              "color": "#E5ECF6",
              "width": 0.5
             },
             "pattern": {
              "fillmode": "overlay",
              "size": 10,
              "solidity": 0.2
             }
            },
            "type": "barpolar"
           }
          ],
          "carpet": [
           {
            "aaxis": {
             "endlinecolor": "#2a3f5f",
             "gridcolor": "white",
             "linecolor": "white",
             "minorgridcolor": "white",
             "startlinecolor": "#2a3f5f"
            },
            "baxis": {
             "endlinecolor": "#2a3f5f",
             "gridcolor": "white",
             "linecolor": "white",
             "minorgridcolor": "white",
             "startlinecolor": "#2a3f5f"
            },
            "type": "carpet"
           }
          ],
          "choropleth": [
           {
            "colorbar": {
             "outlinewidth": 0,
             "ticks": ""
            },
            "type": "choropleth"
           }
          ],
          "contour": [
           {
            "colorbar": {
             "outlinewidth": 0,
             "ticks": ""
            },
            "colorscale": [
             [
              0,
              "#0d0887"
             ],
             [
              0.1111111111111111,
              "#46039f"
             ],
             [
              0.2222222222222222,
              "#7201a8"
             ],
             [
              0.3333333333333333,
              "#9c179e"
             ],
             [
              0.4444444444444444,
              "#bd3786"
             ],
             [
              0.5555555555555556,
              "#d8576b"
             ],
             [
              0.6666666666666666,
              "#ed7953"
             ],
             [
              0.7777777777777778,
              "#fb9f3a"
             ],
             [
              0.8888888888888888,
              "#fdca26"
             ],
             [
              1,
              "#f0f921"
             ]
            ],
            "type": "contour"
           }
          ],
          "contourcarpet": [
           {
            "colorbar": {
             "outlinewidth": 0,
             "ticks": ""
            },
            "type": "contourcarpet"
           }
          ],
          "heatmap": [
           {
            "colorbar": {
             "outlinewidth": 0,
             "ticks": ""
            },
            "colorscale": [
             [
              0,
              "#0d0887"
             ],
             [
              0.1111111111111111,
              "#46039f"
             ],
             [
              0.2222222222222222,
              "#7201a8"
             ],
             [
              0.3333333333333333,
              "#9c179e"
             ],
             [
              0.4444444444444444,
              "#bd3786"
             ],
             [
              0.5555555555555556,
              "#d8576b"
             ],
             [
              0.6666666666666666,
              "#ed7953"
             ],
             [
              0.7777777777777778,
              "#fb9f3a"
             ],
             [
              0.8888888888888888,
              "#fdca26"
             ],
             [
              1,
              "#f0f921"
             ]
            ],
            "type": "heatmap"
           }
          ],
          "heatmapgl": [
           {
            "colorbar": {
             "outlinewidth": 0,
             "ticks": ""
            },
            "colorscale": [
             [
              0,
              "#0d0887"
             ],
             [
              0.1111111111111111,
              "#46039f"
             ],
             [
              0.2222222222222222,
              "#7201a8"
             ],
             [
              0.3333333333333333,
              "#9c179e"
             ],
             [
              0.4444444444444444,
              "#bd3786"
             ],
             [
              0.5555555555555556,
              "#d8576b"
             ],
             [
              0.6666666666666666,
              "#ed7953"
             ],
             [
              0.7777777777777778,
              "#fb9f3a"
             ],
             [
              0.8888888888888888,
              "#fdca26"
             ],
             [
              1,
              "#f0f921"
             ]
            ],
            "type": "heatmapgl"
           }
          ],
          "histogram": [
           {
            "marker": {
             "pattern": {
              "fillmode": "overlay",
              "size": 10,
              "solidity": 0.2
             }
            },
            "type": "histogram"
           }
          ],
          "histogram2d": [
           {
            "colorbar": {
             "outlinewidth": 0,
             "ticks": ""
            },
            "colorscale": [
             [
              0,
              "#0d0887"
             ],
             [
              0.1111111111111111,
              "#46039f"
             ],
             [
              0.2222222222222222,
              "#7201a8"
             ],
             [
              0.3333333333333333,
              "#9c179e"
             ],
             [
              0.4444444444444444,
              "#bd3786"
             ],
             [
              0.5555555555555556,
              "#d8576b"
             ],
             [
              0.6666666666666666,
              "#ed7953"
             ],
             [
              0.7777777777777778,
              "#fb9f3a"
             ],
             [
              0.8888888888888888,
              "#fdca26"
             ],
             [
              1,
              "#f0f921"
             ]
            ],
            "type": "histogram2d"
           }
          ],
          "histogram2dcontour": [
           {
            "colorbar": {
             "outlinewidth": 0,
             "ticks": ""
            },
            "colorscale": [
             [
              0,
              "#0d0887"
             ],
             [
              0.1111111111111111,
              "#46039f"
             ],
             [
              0.2222222222222222,
              "#7201a8"
             ],
             [
              0.3333333333333333,
              "#9c179e"
             ],
             [
              0.4444444444444444,
              "#bd3786"
             ],
             [
              0.5555555555555556,
              "#d8576b"
             ],
             [
              0.6666666666666666,
              "#ed7953"
             ],
             [
              0.7777777777777778,
              "#fb9f3a"
             ],
             [
              0.8888888888888888,
              "#fdca26"
             ],
             [
              1,
              "#f0f921"
             ]
            ],
            "type": "histogram2dcontour"
           }
          ],
          "mesh3d": [
           {
            "colorbar": {
             "outlinewidth": 0,
             "ticks": ""
            },
            "type": "mesh3d"
           }
          ],
          "parcoords": [
           {
            "line": {
             "colorbar": {
              "outlinewidth": 0,
              "ticks": ""
             }
            },
            "type": "parcoords"
           }
          ],
          "pie": [
           {
            "automargin": true,
            "type": "pie"
           }
          ],
          "scatter": [
           {
            "fillpattern": {
             "fillmode": "overlay",
             "size": 10,
             "solidity": 0.2
            },
            "type": "scatter"
           }
          ],
          "scatter3d": [
           {
            "line": {
             "colorbar": {
              "outlinewidth": 0,
              "ticks": ""
             }
            },
            "marker": {
             "colorbar": {
              "outlinewidth": 0,
              "ticks": ""
             }
            },
            "type": "scatter3d"
           }
          ],
          "scattercarpet": [
           {
            "marker": {
             "colorbar": {
              "outlinewidth": 0,
              "ticks": ""
             }
            },
            "type": "scattercarpet"
           }
          ],
          "scattergeo": [
           {
            "marker": {
             "colorbar": {
              "outlinewidth": 0,
              "ticks": ""
             }
            },
            "type": "scattergeo"
           }
          ],
          "scattergl": [
           {
            "marker": {
             "colorbar": {
              "outlinewidth": 0,
              "ticks": ""
             }
            },
            "type": "scattergl"
           }
          ],
          "scattermapbox": [
           {
            "marker": {
             "colorbar": {
              "outlinewidth": 0,
              "ticks": ""
             }
            },
            "type": "scattermapbox"
           }
          ],
          "scatterpolar": [
           {
            "marker": {
             "colorbar": {
              "outlinewidth": 0,
              "ticks": ""
             }
            },
            "type": "scatterpolar"
           }
          ],
          "scatterpolargl": [
           {
            "marker": {
             "colorbar": {
              "outlinewidth": 0,
              "ticks": ""
             }
            },
            "type": "scatterpolargl"
           }
          ],
          "scatterternary": [
           {
            "marker": {
             "colorbar": {
              "outlinewidth": 0,
              "ticks": ""
             }
            },
            "type": "scatterternary"
           }
          ],
          "surface": [
           {
            "colorbar": {
             "outlinewidth": 0,
             "ticks": ""
            },
            "colorscale": [
             [
              0,
              "#0d0887"
             ],
             [
              0.1111111111111111,
              "#46039f"
             ],
             [
              0.2222222222222222,
              "#7201a8"
             ],
             [
              0.3333333333333333,
              "#9c179e"
             ],
             [
              0.4444444444444444,
              "#bd3786"
             ],
             [
              0.5555555555555556,
              "#d8576b"
             ],
             [
              0.6666666666666666,
              "#ed7953"
             ],
             [
              0.7777777777777778,
              "#fb9f3a"
             ],
             [
              0.8888888888888888,
              "#fdca26"
             ],
             [
              1,
              "#f0f921"
             ]
            ],
            "type": "surface"
           }
          ],
          "table": [
           {
            "cells": {
             "fill": {
              "color": "#EBF0F8"
             },
             "line": {
              "color": "white"
             }
            },
            "header": {
             "fill": {
              "color": "#C8D4E3"
             },
             "line": {
              "color": "white"
             }
            },
            "type": "table"
           }
          ]
         },
         "layout": {
          "annotationdefaults": {
           "arrowcolor": "#2a3f5f",
           "arrowhead": 0,
           "arrowwidth": 1
          },
          "autotypenumbers": "strict",
          "coloraxis": {
           "colorbar": {
            "outlinewidth": 0,
            "ticks": ""
           }
          },
          "colorscale": {
           "diverging": [
            [
             0,
             "#8e0152"
            ],
            [
             0.1,
             "#c51b7d"
            ],
            [
             0.2,
             "#de77ae"
            ],
            [
             0.3,
             "#f1b6da"
            ],
            [
             0.4,
             "#fde0ef"
            ],
            [
             0.5,
             "#f7f7f7"
            ],
            [
             0.6,
             "#e6f5d0"
            ],
            [
             0.7,
             "#b8e186"
            ],
            [
             0.8,
             "#7fbc41"
            ],
            [
             0.9,
             "#4d9221"
            ],
            [
             1,
             "#276419"
            ]
           ],
           "sequential": [
            [
             0,
             "#0d0887"
            ],
            [
             0.1111111111111111,
             "#46039f"
            ],
            [
             0.2222222222222222,
             "#7201a8"
            ],
            [
             0.3333333333333333,
             "#9c179e"
            ],
            [
             0.4444444444444444,
             "#bd3786"
            ],
            [
             0.5555555555555556,
             "#d8576b"
            ],
            [
             0.6666666666666666,
             "#ed7953"
            ],
            [
             0.7777777777777778,
             "#fb9f3a"
            ],
            [
             0.8888888888888888,
             "#fdca26"
            ],
            [
             1,
             "#f0f921"
            ]
           ],
           "sequentialminus": [
            [
             0,
             "#0d0887"
            ],
            [
             0.1111111111111111,
             "#46039f"
            ],
            [
             0.2222222222222222,
             "#7201a8"
            ],
            [
             0.3333333333333333,
             "#9c179e"
            ],
            [
             0.4444444444444444,
             "#bd3786"
            ],
            [
             0.5555555555555556,
             "#d8576b"
            ],
            [
             0.6666666666666666,
             "#ed7953"
            ],
            [
             0.7777777777777778,
             "#fb9f3a"
            ],
            [
             0.8888888888888888,
             "#fdca26"
            ],
            [
             1,
             "#f0f921"
            ]
           ]
          },
          "colorway": [
           "#636efa",
           "#EF553B",
           "#00cc96",
           "#ab63fa",
           "#FFA15A",
           "#19d3f3",
           "#FF6692",
           "#B6E880",
           "#FF97FF",
           "#FECB52"
          ],
          "font": {
           "color": "#2a3f5f"
          },
          "geo": {
           "bgcolor": "white",
           "lakecolor": "white",
           "landcolor": "#E5ECF6",
           "showlakes": true,
           "showland": true,
           "subunitcolor": "white"
          },
          "hoverlabel": {
           "align": "left"
          },
          "hovermode": "closest",
          "mapbox": {
           "style": "light"
          },
          "paper_bgcolor": "white",
          "plot_bgcolor": "#E5ECF6",
          "polar": {
           "angularaxis": {
            "gridcolor": "white",
            "linecolor": "white",
            "ticks": ""
           },
           "bgcolor": "#E5ECF6",
           "radialaxis": {
            "gridcolor": "white",
            "linecolor": "white",
            "ticks": ""
           }
          },
          "scene": {
           "xaxis": {
            "backgroundcolor": "#E5ECF6",
            "gridcolor": "white",
            "gridwidth": 2,
            "linecolor": "white",
            "showbackground": true,
            "ticks": "",
            "zerolinecolor": "white"
           },
           "yaxis": {
            "backgroundcolor": "#E5ECF6",
            "gridcolor": "white",
            "gridwidth": 2,
            "linecolor": "white",
            "showbackground": true,
            "ticks": "",
            "zerolinecolor": "white"
           },
           "zaxis": {
            "backgroundcolor": "#E5ECF6",
            "gridcolor": "white",
            "gridwidth": 2,
            "linecolor": "white",
            "showbackground": true,
            "ticks": "",
            "zerolinecolor": "white"
           }
          },
          "shapedefaults": {
           "line": {
            "color": "#2a3f5f"
           }
          },
          "ternary": {
           "aaxis": {
            "gridcolor": "white",
            "linecolor": "white",
            "ticks": ""
           },
           "baxis": {
            "gridcolor": "white",
            "linecolor": "white",
            "ticks": ""
           },
           "bgcolor": "#E5ECF6",
           "caxis": {
            "gridcolor": "white",
            "linecolor": "white",
            "ticks": ""
           }
          },
          "title": {
           "x": 0.05
          },
          "xaxis": {
           "automargin": true,
           "gridcolor": "white",
           "linecolor": "white",
           "ticks": "",
           "title": {
            "standoff": 15
           },
           "zerolinecolor": "white",
           "zerolinewidth": 2
          },
          "yaxis": {
           "automargin": true,
           "gridcolor": "white",
           "linecolor": "white",
           "ticks": "",
           "title": {
            "standoff": 15
           },
           "zerolinecolor": "white",
           "zerolinewidth": 2
          }
         }
        },
        "title": {
         "text": "<b>Bill Vs Payment Status</b>"
        },
        "width": 800,
        "xaxis": {
         "anchor": "y",
         "domain": [
          0,
          1
         ],
         "title": {
          "text": "Payment_Status"
         }
        },
        "yaxis": {
         "anchor": "x",
         "domain": [
          0,
          1
         ],
         "title": {
          "text": "sum of Total_Billing_Amount"
         }
        }
       }
      }
     },
     "metadata": {},
     "output_type": "display_data"
    }
   ],
   "source": [
    "fig = px.histogram(data, y=\"Total_Billing_Amount\",x='Payment_Status',color='Maternal_Outcome',title=\"<b>Bill Vs Payment Status</b>\",barmode=\"group\")\n",
    "fig.update_layout(width=800, height=600, bargap=0.1)\n",
    "fig.show()"
   ]
  },
  {
   "cell_type": "code",
   "execution_count": 14,
   "id": "75aef78c",
   "metadata": {
    "colab": {
     "base_uri": "https://localhost:8080/",
     "height": 466
    },
    "id": "75aef78c",
    "outputId": "494e160e-f3cb-4477-f70c-d6c537dbd462"
   },
   "outputs": [
    {
     "data": {
      "application/vnd.plotly.v1+json": {
       "config": {
        "plotlyServerURL": "https://plot.ly"
       },
       "data": [
        {
         "hole": 0.3,
         "labels": [
          "Doctor",
          "Nurse",
          "Admin",
          "Support"
         ],
         "type": "pie",
         "values": [
          272,
          258,
          252,
          218
         ]
        }
       ],
       "layout": {
        "template": {
         "data": {
          "bar": [
           {
            "error_x": {
             "color": "#2a3f5f"
            },
            "error_y": {
             "color": "#2a3f5f"
            },
            "marker": {
             "line": {
              "color": "#E5ECF6",
              "width": 0.5
             },
             "pattern": {
              "fillmode": "overlay",
              "size": 10,
              "solidity": 0.2
             }
            },
            "type": "bar"
           }
          ],
          "barpolar": [
           {
            "marker": {
             "line": {
              "color": "#E5ECF6",
              "width": 0.5
             },
             "pattern": {
              "fillmode": "overlay",
              "size": 10,
              "solidity": 0.2
             }
            },
            "type": "barpolar"
           }
          ],
          "carpet": [
           {
            "aaxis": {
             "endlinecolor": "#2a3f5f",
             "gridcolor": "white",
             "linecolor": "white",
             "minorgridcolor": "white",
             "startlinecolor": "#2a3f5f"
            },
            "baxis": {
             "endlinecolor": "#2a3f5f",
             "gridcolor": "white",
             "linecolor": "white",
             "minorgridcolor": "white",
             "startlinecolor": "#2a3f5f"
            },
            "type": "carpet"
           }
          ],
          "choropleth": [
           {
            "colorbar": {
             "outlinewidth": 0,
             "ticks": ""
            },
            "type": "choropleth"
           }
          ],
          "contour": [
           {
            "colorbar": {
             "outlinewidth": 0,
             "ticks": ""
            },
            "colorscale": [
             [
              0,
              "#0d0887"
             ],
             [
              0.1111111111111111,
              "#46039f"
             ],
             [
              0.2222222222222222,
              "#7201a8"
             ],
             [
              0.3333333333333333,
              "#9c179e"
             ],
             [
              0.4444444444444444,
              "#bd3786"
             ],
             [
              0.5555555555555556,
              "#d8576b"
             ],
             [
              0.6666666666666666,
              "#ed7953"
             ],
             [
              0.7777777777777778,
              "#fb9f3a"
             ],
             [
              0.8888888888888888,
              "#fdca26"
             ],
             [
              1,
              "#f0f921"
             ]
            ],
            "type": "contour"
           }
          ],
          "contourcarpet": [
           {
            "colorbar": {
             "outlinewidth": 0,
             "ticks": ""
            },
            "type": "contourcarpet"
           }
          ],
          "heatmap": [
           {
            "colorbar": {
             "outlinewidth": 0,
             "ticks": ""
            },
            "colorscale": [
             [
              0,
              "#0d0887"
             ],
             [
              0.1111111111111111,
              "#46039f"
             ],
             [
              0.2222222222222222,
              "#7201a8"
             ],
             [
              0.3333333333333333,
              "#9c179e"
             ],
             [
              0.4444444444444444,
              "#bd3786"
             ],
             [
              0.5555555555555556,
              "#d8576b"
             ],
             [
              0.6666666666666666,
              "#ed7953"
             ],
             [
              0.7777777777777778,
              "#fb9f3a"
             ],
             [
              0.8888888888888888,
              "#fdca26"
             ],
             [
              1,
              "#f0f921"
             ]
            ],
            "type": "heatmap"
           }
          ],
          "heatmapgl": [
           {
            "colorbar": {
             "outlinewidth": 0,
             "ticks": ""
            },
            "colorscale": [
             [
              0,
              "#0d0887"
             ],
             [
              0.1111111111111111,
              "#46039f"
             ],
             [
              0.2222222222222222,
              "#7201a8"
             ],
             [
              0.3333333333333333,
              "#9c179e"
             ],
             [
              0.4444444444444444,
              "#bd3786"
             ],
             [
              0.5555555555555556,
              "#d8576b"
             ],
             [
              0.6666666666666666,
              "#ed7953"
             ],
             [
              0.7777777777777778,
              "#fb9f3a"
             ],
             [
              0.8888888888888888,
              "#fdca26"
             ],
             [
              1,
              "#f0f921"
             ]
            ],
            "type": "heatmapgl"
           }
          ],
          "histogram": [
           {
            "marker": {
             "pattern": {
              "fillmode": "overlay",
              "size": 10,
              "solidity": 0.2
             }
            },
            "type": "histogram"
           }
          ],
          "histogram2d": [
           {
            "colorbar": {
             "outlinewidth": 0,
             "ticks": ""
            },
            "colorscale": [
             [
              0,
              "#0d0887"
             ],
             [
              0.1111111111111111,
              "#46039f"
             ],
             [
              0.2222222222222222,
              "#7201a8"
             ],
             [
              0.3333333333333333,
              "#9c179e"
             ],
             [
              0.4444444444444444,
              "#bd3786"
             ],
             [
              0.5555555555555556,
              "#d8576b"
             ],
             [
              0.6666666666666666,
              "#ed7953"
             ],
             [
              0.7777777777777778,
              "#fb9f3a"
             ],
             [
              0.8888888888888888,
              "#fdca26"
             ],
             [
              1,
              "#f0f921"
             ]
            ],
            "type": "histogram2d"
           }
          ],
          "histogram2dcontour": [
           {
            "colorbar": {
             "outlinewidth": 0,
             "ticks": ""
            },
            "colorscale": [
             [
              0,
              "#0d0887"
             ],
             [
              0.1111111111111111,
              "#46039f"
             ],
             [
              0.2222222222222222,
              "#7201a8"
             ],
             [
              0.3333333333333333,
              "#9c179e"
             ],
             [
              0.4444444444444444,
              "#bd3786"
             ],
             [
              0.5555555555555556,
              "#d8576b"
             ],
             [
              0.6666666666666666,
              "#ed7953"
             ],
             [
              0.7777777777777778,
              "#fb9f3a"
             ],
             [
              0.8888888888888888,
              "#fdca26"
             ],
             [
              1,
              "#f0f921"
             ]
            ],
            "type": "histogram2dcontour"
           }
          ],
          "mesh3d": [
           {
            "colorbar": {
             "outlinewidth": 0,
             "ticks": ""
            },
            "type": "mesh3d"
           }
          ],
          "parcoords": [
           {
            "line": {
             "colorbar": {
              "outlinewidth": 0,
              "ticks": ""
             }
            },
            "type": "parcoords"
           }
          ],
          "pie": [
           {
            "automargin": true,
            "type": "pie"
           }
          ],
          "scatter": [
           {
            "fillpattern": {
             "fillmode": "overlay",
             "size": 10,
             "solidity": 0.2
            },
            "type": "scatter"
           }
          ],
          "scatter3d": [
           {
            "line": {
             "colorbar": {
              "outlinewidth": 0,
              "ticks": ""
             }
            },
            "marker": {
             "colorbar": {
              "outlinewidth": 0,
              "ticks": ""
             }
            },
            "type": "scatter3d"
           }
          ],
          "scattercarpet": [
           {
            "marker": {
             "colorbar": {
              "outlinewidth": 0,
              "ticks": ""
             }
            },
            "type": "scattercarpet"
           }
          ],
          "scattergeo": [
           {
            "marker": {
             "colorbar": {
              "outlinewidth": 0,
              "ticks": ""
             }
            },
            "type": "scattergeo"
           }
          ],
          "scattergl": [
           {
            "marker": {
             "colorbar": {
              "outlinewidth": 0,
              "ticks": ""
             }
            },
            "type": "scattergl"
           }
          ],
          "scattermapbox": [
           {
            "marker": {
             "colorbar": {
              "outlinewidth": 0,
              "ticks": ""
             }
            },
            "type": "scattermapbox"
           }
          ],
          "scatterpolar": [
           {
            "marker": {
             "colorbar": {
              "outlinewidth": 0,
              "ticks": ""
             }
            },
            "type": "scatterpolar"
           }
          ],
          "scatterpolargl": [
           {
            "marker": {
             "colorbar": {
              "outlinewidth": 0,
              "ticks": ""
             }
            },
            "type": "scatterpolargl"
           }
          ],
          "scatterternary": [
           {
            "marker": {
             "colorbar": {
              "outlinewidth": 0,
              "ticks": ""
             }
            },
            "type": "scatterternary"
           }
          ],
          "surface": [
           {
            "colorbar": {
             "outlinewidth": 0,
             "ticks": ""
            },
            "colorscale": [
             [
              0,
              "#0d0887"
             ],
             [
              0.1111111111111111,
              "#46039f"
             ],
             [
              0.2222222222222222,
              "#7201a8"
             ],
             [
              0.3333333333333333,
              "#9c179e"
             ],
             [
              0.4444444444444444,
              "#bd3786"
             ],
             [
              0.5555555555555556,
              "#d8576b"
             ],
             [
              0.6666666666666666,
              "#ed7953"
             ],
             [
              0.7777777777777778,
              "#fb9f3a"
             ],
             [
              0.8888888888888888,
              "#fdca26"
             ],
             [
              1,
              "#f0f921"
             ]
            ],
            "type": "surface"
           }
          ],
          "table": [
           {
            "cells": {
             "fill": {
              "color": "#EBF0F8"
             },
             "line": {
              "color": "white"
             }
            },
            "header": {
             "fill": {
              "color": "#C8D4E3"
             },
             "line": {
              "color": "white"
             }
            },
            "type": "table"
           }
          ]
         },
         "layout": {
          "annotationdefaults": {
           "arrowcolor": "#2a3f5f",
           "arrowhead": 0,
           "arrowwidth": 1
          },
          "autotypenumbers": "strict",
          "coloraxis": {
           "colorbar": {
            "outlinewidth": 0,
            "ticks": ""
           }
          },
          "colorscale": {
           "diverging": [
            [
             0,
             "#8e0152"
            ],
            [
             0.1,
             "#c51b7d"
            ],
            [
             0.2,
             "#de77ae"
            ],
            [
             0.3,
             "#f1b6da"
            ],
            [
             0.4,
             "#fde0ef"
            ],
            [
             0.5,
             "#f7f7f7"
            ],
            [
             0.6,
             "#e6f5d0"
            ],
            [
             0.7,
             "#b8e186"
            ],
            [
             0.8,
             "#7fbc41"
            ],
            [
             0.9,
             "#4d9221"
            ],
            [
             1,
             "#276419"
            ]
           ],
           "sequential": [
            [
             0,
             "#0d0887"
            ],
            [
             0.1111111111111111,
             "#46039f"
            ],
            [
             0.2222222222222222,
             "#7201a8"
            ],
            [
             0.3333333333333333,
             "#9c179e"
            ],
            [
             0.4444444444444444,
             "#bd3786"
            ],
            [
             0.5555555555555556,
             "#d8576b"
            ],
            [
             0.6666666666666666,
             "#ed7953"
            ],
            [
             0.7777777777777778,
             "#fb9f3a"
            ],
            [
             0.8888888888888888,
             "#fdca26"
            ],
            [
             1,
             "#f0f921"
            ]
           ],
           "sequentialminus": [
            [
             0,
             "#0d0887"
            ],
            [
             0.1111111111111111,
             "#46039f"
            ],
            [
             0.2222222222222222,
             "#7201a8"
            ],
            [
             0.3333333333333333,
             "#9c179e"
            ],
            [
             0.4444444444444444,
             "#bd3786"
            ],
            [
             0.5555555555555556,
             "#d8576b"
            ],
            [
             0.6666666666666666,
             "#ed7953"
            ],
            [
             0.7777777777777778,
             "#fb9f3a"
            ],
            [
             0.8888888888888888,
             "#fdca26"
            ],
            [
             1,
             "#f0f921"
            ]
           ]
          },
          "colorway": [
           "#636efa",
           "#EF553B",
           "#00cc96",
           "#ab63fa",
           "#FFA15A",
           "#19d3f3",
           "#FF6692",
           "#B6E880",
           "#FF97FF",
           "#FECB52"
          ],
          "font": {
           "color": "#2a3f5f"
          },
          "geo": {
           "bgcolor": "white",
           "lakecolor": "white",
           "landcolor": "#E5ECF6",
           "showlakes": true,
           "showland": true,
           "subunitcolor": "white"
          },
          "hoverlabel": {
           "align": "left"
          },
          "hovermode": "closest",
          "mapbox": {
           "style": "light"
          },
          "paper_bgcolor": "white",
          "plot_bgcolor": "#E5ECF6",
          "polar": {
           "angularaxis": {
            "gridcolor": "white",
            "linecolor": "white",
            "ticks": ""
           },
           "bgcolor": "#E5ECF6",
           "radialaxis": {
            "gridcolor": "white",
            "linecolor": "white",
            "ticks": ""
           }
          },
          "scene": {
           "xaxis": {
            "backgroundcolor": "#E5ECF6",
            "gridcolor": "white",
            "gridwidth": 2,
            "linecolor": "white",
            "showbackground": true,
            "ticks": "",
            "zerolinecolor": "white"
           },
           "yaxis": {
            "backgroundcolor": "#E5ECF6",
            "gridcolor": "white",
            "gridwidth": 2,
            "linecolor": "white",
            "showbackground": true,
            "ticks": "",
            "zerolinecolor": "white"
           },
           "zaxis": {
            "backgroundcolor": "#E5ECF6",
            "gridcolor": "white",
            "gridwidth": 2,
            "linecolor": "white",
            "showbackground": true,
            "ticks": "",
            "zerolinecolor": "white"
           }
          },
          "shapedefaults": {
           "line": {
            "color": "#2a3f5f"
           }
          },
          "ternary": {
           "aaxis": {
            "gridcolor": "white",
            "linecolor": "white",
            "ticks": ""
           },
           "baxis": {
            "gridcolor": "white",
            "linecolor": "white",
            "ticks": ""
           },
           "bgcolor": "#E5ECF6",
           "caxis": {
            "gridcolor": "white",
            "linecolor": "white",
            "ticks": ""
           }
          },
          "title": {
           "x": 0.05
          },
          "xaxis": {
           "automargin": true,
           "gridcolor": "white",
           "linecolor": "white",
           "ticks": "",
           "title": {
            "standoff": 15
           },
           "zerolinecolor": "white",
           "zerolinewidth": 2
          },
          "yaxis": {
           "automargin": true,
           "gridcolor": "white",
           "linecolor": "white",
           "ticks": "",
           "title": {
            "standoff": 15
           },
           "zerolinecolor": "white",
           "zerolinewidth": 2
          }
         }
        },
        "title": {
         "text": "<b>Staff Role Distribution</b>"
        }
       }
      }
     },
     "metadata": {},
     "output_type": "display_data"
    }
   ],
   "source": [
    "labels = data['Staff_Role'].unique()\n",
    "values = data['Staff_Role'].value_counts()\n",
    "fig = go.Figure(data=[go.Pie(labels=labels, values=values, hole=.3)])\n",
    "fig.update_layout(title_text=\"<b>Staff Role Distribution</b>\")\n",
    "fig.show()"
   ]
  },
  {
   "cell_type": "code",
   "execution_count": 15,
   "id": "a468888c",
   "metadata": {},
   "outputs": [
    {
     "data": {
      "application/vnd.plotly.v1+json": {
       "config": {
        "plotlyServerURL": "https://plot.ly"
       },
       "data": [
        {
         "alignmentgroup": "True",
         "hovertemplate": "Maternal_Outcome=Healthy<br>Age=%{y}<extra></extra>",
         "legendgroup": "Healthy",
         "marker": {
          "color": "#636efa"
         },
         "name": "Healthy",
         "notched": false,
         "offsetgroup": "Healthy",
         "orientation": "v",
         "showlegend": true,
         "type": "box",
         "x0": " ",
         "xaxis": "x",
         "y": [
          29,
          28,
          21,
          26,
          78,
          26,
          52,
          29,
          30,
          19,
          24,
          29,
          81,
          56,
          26,
          19,
          19,
          90,
          19,
          89,
          41,
          27,
          50,
          82,
          26,
          40,
          49,
          83,
          34,
          37,
          29,
          77,
          96,
          21,
          60,
          29,
          18,
          56,
          40,
          29,
          25,
          64,
          69,
          20,
          56,
          30,
          82,
          30,
          30,
          30,
          31,
          25,
          55,
          42,
          31,
          23,
          51,
          28,
          97,
          52,
          30,
          47,
          18,
          49,
          72,
          48,
          56,
          29,
          28,
          24,
          26,
          84,
          58,
          70,
          29,
          29,
          29,
          20,
          48,
          22,
          24,
          30,
          22,
          44,
          23,
          64,
          64,
          18,
          32,
          27,
          35,
          49,
          43,
          23,
          29,
          56,
          25,
          81,
          19,
          54,
          34,
          24,
          20,
          39,
          59,
          35,
          29,
          31,
          81,
          20,
          20,
          28,
          23,
          23,
          24,
          23,
          25,
          39,
          72,
          64,
          22,
          29,
          47,
          20,
          87,
          19,
          56,
          23,
          59,
          19,
          20,
          20,
          31,
          34,
          100,
          30,
          23,
          74,
          21,
          25,
          18,
          27,
          19,
          21,
          20,
          30,
          25,
          26,
          46,
          55,
          24,
          60,
          50,
          27,
          19,
          24,
          35,
          21,
          24,
          29,
          27,
          25,
          28,
          89,
          77,
          90,
          94,
          43,
          43,
          51,
          43,
          72,
          79,
          41,
          24,
          19,
          61,
          25,
          74,
          64,
          22,
          52,
          92,
          20,
          18,
          21,
          31,
          23,
          26,
          60,
          30,
          100,
          26,
          24,
          36,
          61,
          26,
          20,
          18,
          78,
          22,
          88,
          35,
          92,
          45,
          20,
          30,
          23,
          33,
          29,
          96,
          33,
          20,
          55,
          27,
          56,
          19,
          58,
          23,
          25,
          27,
          67,
          22,
          20,
          58,
          59,
          22,
          29,
          78,
          73,
          18,
          22,
          23,
          51,
          58,
          50,
          29,
          34,
          69,
          19,
          30,
          49,
          44,
          20,
          81,
          55,
          21,
          23,
          26,
          42,
          18,
          26,
          20,
          37,
          18,
          46,
          87,
          40,
          26,
          20,
          27,
          80,
          30,
          40,
          30,
          33,
          72,
          87,
          41,
          53,
          27,
          24,
          28,
          86,
          24,
          18,
          24,
          42,
          25,
          73,
          29,
          31,
          74,
          57,
          30,
          38,
          53,
          43,
          26,
          33,
          76,
          80,
          18,
          21,
          23,
          35,
          74,
          38,
          59,
          58,
          20,
          33,
          23,
          76,
          18,
          83,
          21,
          61,
          27,
          38,
          91,
          98,
          22,
          71,
          53,
          26,
          21,
          28,
          24,
          29,
          77,
          30,
          70,
          29,
          47,
          34,
          55,
          28,
          99,
          27,
          31,
          98,
          27,
          71,
          90,
          85,
          51,
          56,
          18,
          29,
          94,
          77,
          46,
          18,
          18,
          75,
          18,
          45,
          21,
          56,
          23,
          24,
          37,
          36,
          28,
          20,
          46,
          85,
          59,
          37,
          29,
          18,
          28,
          33,
          29,
          71,
          21,
          20,
          29,
          31,
          47,
          50,
          21,
          65,
          23,
          43,
          39,
          18,
          28,
          57,
          18,
          62,
          29,
          34,
          24,
          53,
          59,
          21,
          35,
          25,
          22,
          56,
          25,
          60,
          85,
          29,
          62,
          87,
          49,
          76,
          96,
          26,
          25,
          21,
          26,
          28,
          57,
          23,
          29,
          24,
          27,
          23,
          61,
          49,
          24,
          67,
          35,
          20,
          22,
          46,
          23,
          47,
          87,
          20,
          27,
          20,
          21,
          66,
          95,
          39,
          68,
          19,
          27,
          18,
          25,
          58,
          27,
          33,
          33,
          42,
          43,
          97,
          19,
          18,
          53,
          94,
          58,
          43,
          42,
          19,
          20,
          30,
          19,
          26,
          18,
          75,
          77,
          89,
          25,
          25,
          25,
          29,
          24,
          21,
          34,
          23,
          51,
          93,
          20,
          46,
          28,
          50,
          20,
          29,
          18,
          19,
          20,
          28,
          24,
          21,
          24,
          29,
          56,
          23,
          47,
          46,
          19,
          29,
          56,
          64,
          76,
          44,
          60,
          28,
          26,
          18,
          28,
          54,
          19,
          37,
          51,
          55,
          95,
          19,
          49,
          18,
          95,
          99,
          26,
          27,
          26,
          44,
          18,
          23,
          45,
          93,
          25,
          18,
          85,
          29,
          98,
          43,
          40,
          24,
          46,
          21,
          18,
          54,
          83,
          26,
          42,
          18,
          96,
          59,
          68,
          71,
          35,
          43,
          86,
          82,
          27,
          65,
          35,
          42,
          21,
          32,
          27,
          19,
          46,
          28,
          27,
          80,
          22,
          81,
          59,
          62,
          63,
          22,
          29,
          76,
          20,
          29,
          50,
          24,
          68,
          65,
          80,
          49,
          29,
          32,
          25,
          27,
          54,
          51,
          60,
          26,
          68,
          30,
          21,
          20,
          59,
          42,
          87,
          80,
          30,
          99,
          48,
          25,
          29,
          75,
          18,
          54,
          69,
          26,
          96,
          56,
          49,
          88,
          18,
          20,
          18,
          20,
          42,
          22,
          28,
          62,
          55,
          43,
          25,
          86,
          25,
          40,
          34,
          21,
          28,
          47,
          25,
          20,
          34,
          39,
          45,
          24,
          73,
          25,
          24,
          34,
          35,
          18,
          59,
          92,
          28,
          19,
          26,
          42,
          27,
          24,
          53,
          39,
          48,
          54,
          28,
          25,
          36,
          23,
          23,
          30,
          21,
          46,
          24,
          29,
          24,
          43,
          18,
          87,
          57,
          33,
          69,
          67,
          18,
          90,
          38,
          43,
          48,
          25,
          24,
          22,
          37,
          26,
          21,
          52,
          21,
          20,
          61,
          18,
          53,
          38,
          47,
          81,
          29,
          29,
          65,
          24,
          100,
          24,
          25,
          23,
          59,
          75,
          22,
          75,
          29,
          20,
          30,
          27,
          56,
          76,
          24,
          59,
          22,
          86,
          74,
          51,
          20,
          56,
          52,
          23,
          67,
          30,
          22,
          72,
          22,
          56,
          74,
          47,
          23,
          29,
          92,
          22,
          53,
          47,
          27,
          37,
          53,
          82,
          41,
          24,
          25,
          76,
          19,
          26,
          22,
          85,
          30,
          26,
          19,
          18,
          25,
          20,
          22,
          58,
          21,
          66,
          82,
          59,
          23,
          80,
          21,
          52,
          52,
          63,
          55,
          85,
          51,
          25,
          51,
          22,
          40,
          27,
          73,
          34,
          24
         ],
         "y0": " ",
         "yaxis": "y"
        },
        {
         "alignmentgroup": "True",
         "hovertemplate": "Maternal_Outcome=Critical<br>Age=%{y}<extra></extra>",
         "legendgroup": "Critical",
         "marker": {
          "color": "#EF553B"
         },
         "name": "Critical",
         "notched": false,
         "offsetgroup": "Critical",
         "orientation": "v",
         "showlegend": true,
         "type": "box",
         "x0": " ",
         "xaxis": "x",
         "y": [
          29,
          21,
          26,
          56,
          33,
          24,
          20,
          23,
          78,
          25,
          64,
          19,
          30,
          18,
          30,
          20,
          23,
          26,
          42,
          39,
          29,
          47,
          20,
          33,
          19,
          19,
          25,
          25,
          19,
          38,
          55,
          22,
          29,
          40,
          30,
          24,
          37,
          28,
          84,
          18,
          91,
          42,
          20,
          25,
          34,
          24,
          29,
          42,
          60,
          90,
          91,
          39,
          21,
          22,
          46,
          27,
          24,
          81,
          64,
          67,
          73,
          22,
          84,
          24,
          51,
          26,
          29,
          72,
          31,
          49,
          29,
          31,
          77,
          29,
          27,
          49,
          47,
          20,
          60,
          89,
          63,
          50,
          50,
          58,
          81,
          25,
          20,
          28,
          59,
          27,
          28,
          33,
          46,
          35,
          21,
          62,
          30,
          76,
          28,
          37,
          27,
          21,
          51,
          35,
          20,
          26,
          41,
          23,
          19,
          56,
          18,
          64,
          22,
          28,
          36,
          27,
          90,
          19,
          29,
          25,
          55,
          25,
          36,
          30,
          44,
          43,
          37,
          29,
          87,
          86,
          29,
          40,
          32,
          24,
          84,
          18,
          68,
          30,
          37,
          80,
          25,
          39,
          93,
          23,
          20,
          28,
          35,
          60,
          45,
          28,
          52,
          56,
          49,
          25,
          28,
          18,
          26,
          23,
          58,
          21,
          50,
          42,
          27,
          22,
          57,
          24,
          22,
          56,
          26,
          22,
          37,
          59,
          27,
          22,
          26,
          86
         ],
         "y0": " ",
         "yaxis": "y"
        },
        {
         "alignmentgroup": "True",
         "hovertemplate": "Maternal_Outcome=Deceased<br>Age=%{y}<extra></extra>",
         "legendgroup": "Deceased",
         "marker": {
          "color": "#00cc96"
         },
         "name": "Deceased",
         "notched": false,
         "offsetgroup": "Deceased",
         "orientation": "v",
         "showlegend": true,
         "type": "box",
         "x0": " ",
         "xaxis": "x",
         "y": [
          41,
          27,
          24,
          32,
          43,
          44,
          35,
          25,
          55,
          31,
          27,
          21,
          18,
          19,
          80,
          21,
          28,
          26,
          21,
          29,
          21,
          99,
          32,
          56,
          18,
          90,
          19,
          48,
          59,
          24,
          99,
          31,
          18,
          22,
          94,
          26,
          27,
          21,
          23,
          80,
          25,
          70,
          27,
          22,
          35,
          96,
          30,
          20,
          18,
          55,
          25,
          21,
          94,
          53,
          51,
          29,
          54,
          48,
          92,
          46,
          18,
          42,
          97
         ],
         "y0": " ",
         "yaxis": "y"
        }
       ],
       "layout": {
        "bargap": 0.1,
        "boxmode": "group",
        "height": 500,
        "legend": {
         "title": {
          "text": "Maternal_Outcome"
         },
         "tracegroupgap": 0
        },
        "template": {
         "data": {
          "bar": [
           {
            "error_x": {
             "color": "#2a3f5f"
            },
            "error_y": {
             "color": "#2a3f5f"
            },
            "marker": {
             "line": {
              "color": "#E5ECF6",
              "width": 0.5
             },
             "pattern": {
              "fillmode": "overlay",
              "size": 10,
              "solidity": 0.2
             }
            },
            "type": "bar"
           }
          ],
          "barpolar": [
           {
            "marker": {
             "line": {
              "color": "#E5ECF6",
              "width": 0.5
             },
             "pattern": {
              "fillmode": "overlay",
              "size": 10,
              "solidity": 0.2
             }
            },
            "type": "barpolar"
           }
          ],
          "carpet": [
           {
            "aaxis": {
             "endlinecolor": "#2a3f5f",
             "gridcolor": "white",
             "linecolor": "white",
             "minorgridcolor": "white",
             "startlinecolor": "#2a3f5f"
            },
            "baxis": {
             "endlinecolor": "#2a3f5f",
             "gridcolor": "white",
             "linecolor": "white",
             "minorgridcolor": "white",
             "startlinecolor": "#2a3f5f"
            },
            "type": "carpet"
           }
          ],
          "choropleth": [
           {
            "colorbar": {
             "outlinewidth": 0,
             "ticks": ""
            },
            "type": "choropleth"
           }
          ],
          "contour": [
           {
            "colorbar": {
             "outlinewidth": 0,
             "ticks": ""
            },
            "colorscale": [
             [
              0,
              "#0d0887"
             ],
             [
              0.1111111111111111,
              "#46039f"
             ],
             [
              0.2222222222222222,
              "#7201a8"
             ],
             [
              0.3333333333333333,
              "#9c179e"
             ],
             [
              0.4444444444444444,
              "#bd3786"
             ],
             [
              0.5555555555555556,
              "#d8576b"
             ],
             [
              0.6666666666666666,
              "#ed7953"
             ],
             [
              0.7777777777777778,
              "#fb9f3a"
             ],
             [
              0.8888888888888888,
              "#fdca26"
             ],
             [
              1,
              "#f0f921"
             ]
            ],
            "type": "contour"
           }
          ],
          "contourcarpet": [
           {
            "colorbar": {
             "outlinewidth": 0,
             "ticks": ""
            },
            "type": "contourcarpet"
           }
          ],
          "heatmap": [
           {
            "colorbar": {
             "outlinewidth": 0,
             "ticks": ""
            },
            "colorscale": [
             [
              0,
              "#0d0887"
             ],
             [
              0.1111111111111111,
              "#46039f"
             ],
             [
              0.2222222222222222,
              "#7201a8"
             ],
             [
              0.3333333333333333,
              "#9c179e"
             ],
             [
              0.4444444444444444,
              "#bd3786"
             ],
             [
              0.5555555555555556,
              "#d8576b"
             ],
             [
              0.6666666666666666,
              "#ed7953"
             ],
             [
              0.7777777777777778,
              "#fb9f3a"
             ],
             [
              0.8888888888888888,
              "#fdca26"
             ],
             [
              1,
              "#f0f921"
             ]
            ],
            "type": "heatmap"
           }
          ],
          "heatmapgl": [
           {
            "colorbar": {
             "outlinewidth": 0,
             "ticks": ""
            },
            "colorscale": [
             [
              0,
              "#0d0887"
             ],
             [
              0.1111111111111111,
              "#46039f"
             ],
             [
              0.2222222222222222,
              "#7201a8"
             ],
             [
              0.3333333333333333,
              "#9c179e"
             ],
             [
              0.4444444444444444,
              "#bd3786"
             ],
             [
              0.5555555555555556,
              "#d8576b"
             ],
             [
              0.6666666666666666,
              "#ed7953"
             ],
             [
              0.7777777777777778,
              "#fb9f3a"
             ],
             [
              0.8888888888888888,
              "#fdca26"
             ],
             [
              1,
              "#f0f921"
             ]
            ],
            "type": "heatmapgl"
           }
          ],
          "histogram": [
           {
            "marker": {
             "pattern": {
              "fillmode": "overlay",
              "size": 10,
              "solidity": 0.2
             }
            },
            "type": "histogram"
           }
          ],
          "histogram2d": [
           {
            "colorbar": {
             "outlinewidth": 0,
             "ticks": ""
            },
            "colorscale": [
             [
              0,
              "#0d0887"
             ],
             [
              0.1111111111111111,
              "#46039f"
             ],
             [
              0.2222222222222222,
              "#7201a8"
             ],
             [
              0.3333333333333333,
              "#9c179e"
             ],
             [
              0.4444444444444444,
              "#bd3786"
             ],
             [
              0.5555555555555556,
              "#d8576b"
             ],
             [
              0.6666666666666666,
              "#ed7953"
             ],
             [
              0.7777777777777778,
              "#fb9f3a"
             ],
             [
              0.8888888888888888,
              "#fdca26"
             ],
             [
              1,
              "#f0f921"
             ]
            ],
            "type": "histogram2d"
           }
          ],
          "histogram2dcontour": [
           {
            "colorbar": {
             "outlinewidth": 0,
             "ticks": ""
            },
            "colorscale": [
             [
              0,
              "#0d0887"
             ],
             [
              0.1111111111111111,
              "#46039f"
             ],
             [
              0.2222222222222222,
              "#7201a8"
             ],
             [
              0.3333333333333333,
              "#9c179e"
             ],
             [
              0.4444444444444444,
              "#bd3786"
             ],
             [
              0.5555555555555556,
              "#d8576b"
             ],
             [
              0.6666666666666666,
              "#ed7953"
             ],
             [
              0.7777777777777778,
              "#fb9f3a"
             ],
             [
              0.8888888888888888,
              "#fdca26"
             ],
             [
              1,
              "#f0f921"
             ]
            ],
            "type": "histogram2dcontour"
           }
          ],
          "mesh3d": [
           {
            "colorbar": {
             "outlinewidth": 0,
             "ticks": ""
            },
            "type": "mesh3d"
           }
          ],
          "parcoords": [
           {
            "line": {
             "colorbar": {
              "outlinewidth": 0,
              "ticks": ""
             }
            },
            "type": "parcoords"
           }
          ],
          "pie": [
           {
            "automargin": true,
            "type": "pie"
           }
          ],
          "scatter": [
           {
            "fillpattern": {
             "fillmode": "overlay",
             "size": 10,
             "solidity": 0.2
            },
            "type": "scatter"
           }
          ],
          "scatter3d": [
           {
            "line": {
             "colorbar": {
              "outlinewidth": 0,
              "ticks": ""
             }
            },
            "marker": {
             "colorbar": {
              "outlinewidth": 0,
              "ticks": ""
             }
            },
            "type": "scatter3d"
           }
          ],
          "scattercarpet": [
           {
            "marker": {
             "colorbar": {
              "outlinewidth": 0,
              "ticks": ""
             }
            },
            "type": "scattercarpet"
           }
          ],
          "scattergeo": [
           {
            "marker": {
             "colorbar": {
              "outlinewidth": 0,
              "ticks": ""
             }
            },
            "type": "scattergeo"
           }
          ],
          "scattergl": [
           {
            "marker": {
             "colorbar": {
              "outlinewidth": 0,
              "ticks": ""
             }
            },
            "type": "scattergl"
           }
          ],
          "scattermapbox": [
           {
            "marker": {
             "colorbar": {
              "outlinewidth": 0,
              "ticks": ""
             }
            },
            "type": "scattermapbox"
           }
          ],
          "scatterpolar": [
           {
            "marker": {
             "colorbar": {
              "outlinewidth": 0,
              "ticks": ""
             }
            },
            "type": "scatterpolar"
           }
          ],
          "scatterpolargl": [
           {
            "marker": {
             "colorbar": {
              "outlinewidth": 0,
              "ticks": ""
             }
            },
            "type": "scatterpolargl"
           }
          ],
          "scatterternary": [
           {
            "marker": {
             "colorbar": {
              "outlinewidth": 0,
              "ticks": ""
             }
            },
            "type": "scatterternary"
           }
          ],
          "surface": [
           {
            "colorbar": {
             "outlinewidth": 0,
             "ticks": ""
            },
            "colorscale": [
             [
              0,
              "#0d0887"
             ],
             [
              0.1111111111111111,
              "#46039f"
             ],
             [
              0.2222222222222222,
              "#7201a8"
             ],
             [
              0.3333333333333333,
              "#9c179e"
             ],
             [
              0.4444444444444444,
              "#bd3786"
             ],
             [
              0.5555555555555556,
              "#d8576b"
             ],
             [
              0.6666666666666666,
              "#ed7953"
             ],
             [
              0.7777777777777778,
              "#fb9f3a"
             ],
             [
              0.8888888888888888,
              "#fdca26"
             ],
             [
              1,
              "#f0f921"
             ]
            ],
            "type": "surface"
           }
          ],
          "table": [
           {
            "cells": {
             "fill": {
              "color": "#EBF0F8"
             },
             "line": {
              "color": "white"
             }
            },
            "header": {
             "fill": {
              "color": "#C8D4E3"
             },
             "line": {
              "color": "white"
             }
            },
            "type": "table"
           }
          ]
         },
         "layout": {
          "annotationdefaults": {
           "arrowcolor": "#2a3f5f",
           "arrowhead": 0,
           "arrowwidth": 1
          },
          "autotypenumbers": "strict",
          "coloraxis": {
           "colorbar": {
            "outlinewidth": 0,
            "ticks": ""
           }
          },
          "colorscale": {
           "diverging": [
            [
             0,
             "#8e0152"
            ],
            [
             0.1,
             "#c51b7d"
            ],
            [
             0.2,
             "#de77ae"
            ],
            [
             0.3,
             "#f1b6da"
            ],
            [
             0.4,
             "#fde0ef"
            ],
            [
             0.5,
             "#f7f7f7"
            ],
            [
             0.6,
             "#e6f5d0"
            ],
            [
             0.7,
             "#b8e186"
            ],
            [
             0.8,
             "#7fbc41"
            ],
            [
             0.9,
             "#4d9221"
            ],
            [
             1,
             "#276419"
            ]
           ],
           "sequential": [
            [
             0,
             "#0d0887"
            ],
            [
             0.1111111111111111,
             "#46039f"
            ],
            [
             0.2222222222222222,
             "#7201a8"
            ],
            [
             0.3333333333333333,
             "#9c179e"
            ],
            [
             0.4444444444444444,
             "#bd3786"
            ],
            [
             0.5555555555555556,
             "#d8576b"
            ],
            [
             0.6666666666666666,
             "#ed7953"
            ],
            [
             0.7777777777777778,
             "#fb9f3a"
            ],
            [
             0.8888888888888888,
             "#fdca26"
            ],
            [
             1,
             "#f0f921"
            ]
           ],
           "sequentialminus": [
            [
             0,
             "#0d0887"
            ],
            [
             0.1111111111111111,
             "#46039f"
            ],
            [
             0.2222222222222222,
             "#7201a8"
            ],
            [
             0.3333333333333333,
             "#9c179e"
            ],
            [
             0.4444444444444444,
             "#bd3786"
            ],
            [
             0.5555555555555556,
             "#d8576b"
            ],
            [
             0.6666666666666666,
             "#ed7953"
            ],
            [
             0.7777777777777778,
             "#fb9f3a"
            ],
            [
             0.8888888888888888,
             "#fdca26"
            ],
            [
             1,
             "#f0f921"
            ]
           ]
          },
          "colorway": [
           "#636efa",
           "#EF553B",
           "#00cc96",
           "#ab63fa",
           "#FFA15A",
           "#19d3f3",
           "#FF6692",
           "#B6E880",
           "#FF97FF",
           "#FECB52"
          ],
          "font": {
           "color": "#2a3f5f"
          },
          "geo": {
           "bgcolor": "white",
           "lakecolor": "white",
           "landcolor": "#E5ECF6",
           "showlakes": true,
           "showland": true,
           "subunitcolor": "white"
          },
          "hoverlabel": {
           "align": "left"
          },
          "hovermode": "closest",
          "mapbox": {
           "style": "light"
          },
          "paper_bgcolor": "white",
          "plot_bgcolor": "#E5ECF6",
          "polar": {
           "angularaxis": {
            "gridcolor": "white",
            "linecolor": "white",
            "ticks": ""
           },
           "bgcolor": "#E5ECF6",
           "radialaxis": {
            "gridcolor": "white",
            "linecolor": "white",
            "ticks": ""
           }
          },
          "scene": {
           "xaxis": {
            "backgroundcolor": "#E5ECF6",
            "gridcolor": "white",
            "gridwidth": 2,
            "linecolor": "white",
            "showbackground": true,
            "ticks": "",
            "zerolinecolor": "white"
           },
           "yaxis": {
            "backgroundcolor": "#E5ECF6",
            "gridcolor": "white",
            "gridwidth": 2,
            "linecolor": "white",
            "showbackground": true,
            "ticks": "",
            "zerolinecolor": "white"
           },
           "zaxis": {
            "backgroundcolor": "#E5ECF6",
            "gridcolor": "white",
            "gridwidth": 2,
            "linecolor": "white",
            "showbackground": true,
            "ticks": "",
            "zerolinecolor": "white"
           }
          },
          "shapedefaults": {
           "line": {
            "color": "#2a3f5f"
           }
          },
          "ternary": {
           "aaxis": {
            "gridcolor": "white",
            "linecolor": "white",
            "ticks": ""
           },
           "baxis": {
            "gridcolor": "white",
            "linecolor": "white",
            "ticks": ""
           },
           "bgcolor": "#E5ECF6",
           "caxis": {
            "gridcolor": "white",
            "linecolor": "white",
            "ticks": ""
           }
          },
          "title": {
           "x": 0.05
          },
          "xaxis": {
           "automargin": true,
           "gridcolor": "white",
           "linecolor": "white",
           "ticks": "",
           "title": {
            "standoff": 15
           },
           "zerolinecolor": "white",
           "zerolinewidth": 2
          },
          "yaxis": {
           "automargin": true,
           "gridcolor": "white",
           "linecolor": "white",
           "ticks": "",
           "title": {
            "standoff": 15
           },
           "zerolinecolor": "white",
           "zerolinewidth": 2
          }
         }
        },
        "title": {
         "text": "Age and Maternal Status</b>"
        },
        "width": 800,
        "xaxis": {
         "anchor": "y",
         "domain": [
          0,
          1
         ]
        },
        "yaxis": {
         "anchor": "x",
         "domain": [
          0,
          1
         ],
         "title": {
          "text": "Age"
         }
        }
       }
      }
     },
     "metadata": {},
     "output_type": "display_data"
    }
   ],
   "source": [
    "fig = px.box(data, y=\"Age\",color='Maternal_Outcome', title=\"Age and Maternal Status</b>\")\n",
    "fig.update_layout(width=800, height=500, bargap=0.1)\n",
    "fig.show()"
   ]
  },
  {
   "cell_type": "code",
   "execution_count": null,
   "id": "5f80e62b",
   "metadata": {},
   "outputs": [],
   "source": []
  },
  {
   "cell_type": "code",
   "execution_count": 16,
   "id": "6fa62a23",
   "metadata": {
    "colab": {
     "base_uri": "https://localhost:8080/",
     "height": 466
    },
    "id": "6fa62a23",
    "outputId": "ce5b6d95-465c-4179-81cb-298833475c05"
   },
   "outputs": [
    {
     "data": {
      "application/vnd.plotly.v1+json": {
       "config": {
        "plotlyServerURL": "https://plot.ly"
       },
       "data": [
        {
         "alignmentgroup": "True",
         "box": {
          "visible": false
         },
         "hovertemplate": "Maternal_Outcome=%{x}<br>Staff_Role=%{y}<extra></extra>",
         "legendgroup": "",
         "marker": {
          "color": "#636efa"
         },
         "name": "",
         "offsetgroup": "",
         "orientation": "v",
         "scalegroup": "True",
         "showlegend": false,
         "type": "violin",
         "x": [
          "Healthy",
          "Healthy",
          "Healthy",
          "Healthy",
          "Healthy",
          "Healthy",
          "Healthy",
          "Healthy",
          "Healthy",
          "Healthy",
          "Critical",
          "Healthy",
          "Healthy",
          "Healthy",
          "Healthy",
          "Healthy",
          "Healthy",
          "Healthy",
          "Healthy",
          "Healthy",
          "Healthy",
          "Healthy",
          "Healthy",
          "Critical",
          "Healthy",
          "Critical",
          "Deceased",
          "Healthy",
          "Healthy",
          "Healthy",
          "Critical",
          "Healthy",
          "Healthy",
          "Healthy",
          "Deceased",
          "Healthy",
          "Healthy",
          "Healthy",
          "Healthy",
          "Critical",
          "Healthy",
          "Healthy",
          "Healthy",
          "Healthy",
          "Critical",
          "Deceased",
          "Healthy",
          "Healthy",
          "Healthy",
          "Healthy",
          "Healthy",
          "Healthy",
          "Healthy",
          "Healthy",
          "Critical",
          "Critical",
          "Healthy",
          "Healthy",
          "Healthy",
          "Critical",
          "Critical",
          "Healthy",
          "Healthy",
          "Critical",
          "Healthy",
          "Healthy",
          "Critical",
          "Critical",
          "Healthy",
          "Healthy",
          "Critical",
          "Healthy",
          "Critical",
          "Healthy",
          "Healthy",
          "Healthy",
          "Critical",
          "Healthy",
          "Healthy",
          "Deceased",
          "Healthy",
          "Deceased",
          "Deceased",
          "Deceased",
          "Healthy",
          "Healthy",
          "Critical",
          "Healthy",
          "Critical",
          "Healthy",
          "Healthy",
          "Healthy",
          "Healthy",
          "Healthy",
          "Healthy",
          "Healthy",
          "Critical",
          "Healthy",
          "Healthy",
          "Healthy",
          "Healthy",
          "Critical",
          "Healthy",
          "Healthy",
          "Healthy",
          "Healthy",
          "Deceased",
          "Critical",
          "Healthy",
          "Healthy",
          "Critical",
          "Healthy",
          "Healthy",
          "Healthy",
          "Healthy",
          "Healthy",
          "Healthy",
          "Healthy",
          "Healthy",
          "Healthy",
          "Critical",
          "Healthy",
          "Healthy",
          "Healthy",
          "Healthy",
          "Healthy",
          "Healthy",
          "Healthy",
          "Healthy",
          "Healthy",
          "Healthy",
          "Healthy",
          "Deceased",
          "Healthy",
          "Healthy",
          "Healthy",
          "Critical",
          "Healthy",
          "Healthy",
          "Critical",
          "Healthy",
          "Healthy",
          "Healthy",
          "Healthy",
          "Healthy",
          "Healthy",
          "Healthy",
          "Healthy",
          "Healthy",
          "Healthy",
          "Healthy",
          "Healthy",
          "Healthy",
          "Healthy",
          "Healthy",
          "Healthy",
          "Healthy",
          "Healthy",
          "Critical",
          "Healthy",
          "Healthy",
          "Healthy",
          "Healthy",
          "Deceased",
          "Healthy",
          "Deceased",
          "Healthy",
          "Healthy",
          "Critical",
          "Healthy",
          "Healthy",
          "Healthy",
          "Healthy",
          "Healthy",
          "Critical",
          "Healthy",
          "Healthy",
          "Healthy",
          "Healthy",
          "Healthy",
          "Healthy",
          "Healthy",
          "Healthy",
          "Deceased",
          "Critical",
          "Healthy",
          "Healthy",
          "Healthy",
          "Healthy",
          "Healthy",
          "Healthy",
          "Healthy",
          "Healthy",
          "Healthy",
          "Healthy",
          "Healthy",
          "Healthy",
          "Deceased",
          "Critical",
          "Healthy",
          "Healthy",
          "Healthy",
          "Healthy",
          "Healthy",
          "Deceased",
          "Healthy",
          "Healthy",
          "Healthy",
          "Healthy",
          "Critical",
          "Critical",
          "Healthy",
          "Healthy",
          "Healthy",
          "Healthy",
          "Critical",
          "Healthy",
          "Healthy",
          "Critical",
          "Healthy",
          "Healthy",
          "Critical",
          "Healthy",
          "Healthy",
          "Healthy",
          "Healthy",
          "Healthy",
          "Healthy",
          "Healthy",
          "Healthy",
          "Healthy",
          "Healthy",
          "Healthy",
          "Healthy",
          "Healthy",
          "Critical",
          "Healthy",
          "Critical",
          "Healthy",
          "Healthy",
          "Healthy",
          "Healthy",
          "Healthy",
          "Healthy",
          "Critical",
          "Healthy",
          "Deceased",
          "Critical",
          "Healthy",
          "Healthy",
          "Healthy",
          "Deceased",
          "Deceased",
          "Healthy",
          "Healthy",
          "Healthy",
          "Critical",
          "Healthy",
          "Healthy",
          "Healthy",
          "Critical",
          "Critical",
          "Healthy",
          "Healthy",
          "Healthy",
          "Critical",
          "Healthy",
          "Healthy",
          "Healthy",
          "Healthy",
          "Healthy",
          "Healthy",
          "Healthy",
          "Healthy",
          "Healthy",
          "Critical",
          "Healthy",
          "Critical",
          "Healthy",
          "Healthy",
          "Critical",
          "Critical",
          "Healthy",
          "Healthy",
          "Healthy",
          "Healthy",
          "Healthy",
          "Healthy",
          "Healthy",
          "Critical",
          "Healthy",
          "Healthy",
          "Critical",
          "Healthy",
          "Critical",
          "Healthy",
          "Critical",
          "Healthy",
          "Critical",
          "Critical",
          "Healthy",
          "Healthy",
          "Healthy",
          "Deceased",
          "Healthy",
          "Healthy",
          "Healthy",
          "Critical",
          "Deceased",
          "Critical",
          "Critical",
          "Healthy",
          "Critical",
          "Healthy",
          "Critical",
          "Healthy",
          "Healthy",
          "Healthy",
          "Critical",
          "Critical",
          "Healthy",
          "Critical",
          "Healthy",
          "Healthy",
          "Healthy",
          "Healthy",
          "Deceased",
          "Critical",
          "Critical",
          "Healthy",
          "Healthy",
          "Healthy",
          "Healthy",
          "Healthy",
          "Healthy",
          "Healthy",
          "Healthy",
          "Healthy",
          "Deceased",
          "Healthy",
          "Healthy",
          "Healthy",
          "Healthy",
          "Healthy",
          "Healthy",
          "Healthy",
          "Critical",
          "Healthy",
          "Healthy",
          "Deceased",
          "Healthy",
          "Critical",
          "Healthy",
          "Healthy",
          "Healthy",
          "Healthy",
          "Healthy",
          "Healthy",
          "Healthy",
          "Healthy",
          "Healthy",
          "Critical",
          "Healthy",
          "Critical",
          "Healthy",
          "Healthy",
          "Healthy",
          "Healthy",
          "Healthy",
          "Healthy",
          "Critical",
          "Critical",
          "Healthy",
          "Healthy",
          "Healthy",
          "Healthy",
          "Healthy",
          "Healthy",
          "Deceased",
          "Healthy",
          "Healthy",
          "Healthy",
          "Critical",
          "Healthy",
          "Healthy",
          "Healthy",
          "Healthy",
          "Healthy",
          "Healthy",
          "Deceased",
          "Healthy",
          "Healthy",
          "Healthy",
          "Healthy",
          "Healthy",
          "Healthy",
          "Healthy",
          "Deceased",
          "Healthy",
          "Healthy",
          "Healthy",
          "Healthy",
          "Healthy",
          "Deceased",
          "Deceased",
          "Deceased",
          "Healthy",
          "Healthy",
          "Healthy",
          "Healthy",
          "Healthy",
          "Critical",
          "Healthy",
          "Deceased",
          "Healthy",
          "Deceased",
          "Healthy",
          "Healthy",
          "Healthy",
          "Healthy",
          "Healthy",
          "Healthy",
          "Healthy",
          "Healthy",
          "Healthy",
          "Critical",
          "Healthy",
          "Healthy",
          "Healthy",
          "Critical",
          "Healthy",
          "Healthy",
          "Critical",
          "Healthy",
          "Healthy",
          "Deceased",
          "Critical",
          "Healthy",
          "Healthy",
          "Critical",
          "Healthy",
          "Healthy",
          "Healthy",
          "Healthy",
          "Healthy",
          "Critical",
          "Healthy",
          "Healthy",
          "Healthy",
          "Healthy",
          "Healthy",
          "Critical",
          "Healthy",
          "Healthy",
          "Healthy",
          "Deceased",
          "Healthy",
          "Healthy",
          "Healthy",
          "Deceased",
          "Healthy",
          "Healthy",
          "Critical",
          "Healthy",
          "Healthy",
          "Healthy",
          "Healthy",
          "Healthy",
          "Healthy",
          "Healthy",
          "Healthy",
          "Healthy",
          "Healthy",
          "Healthy",
          "Healthy",
          "Healthy",
          "Healthy",
          "Healthy",
          "Healthy",
          "Critical",
          "Healthy",
          "Healthy",
          "Healthy",
          "Healthy",
          "Healthy",
          "Healthy",
          "Critical",
          "Healthy",
          "Healthy",
          "Healthy",
          "Healthy",
          "Healthy",
          "Deceased",
          "Critical",
          "Healthy",
          "Healthy",
          "Healthy",
          "Healthy",
          "Healthy",
          "Critical",
          "Healthy",
          "Healthy",
          "Healthy",
          "Healthy",
          "Healthy",
          "Healthy",
          "Healthy",
          "Healthy",
          "Healthy",
          "Healthy",
          "Healthy",
          "Healthy",
          "Healthy",
          "Critical",
          "Healthy",
          "Deceased",
          "Healthy",
          "Healthy",
          "Healthy",
          "Healthy",
          "Healthy",
          "Critical",
          "Critical",
          "Healthy",
          "Healthy",
          "Healthy",
          "Healthy",
          "Critical",
          "Critical",
          "Critical",
          "Healthy",
          "Healthy",
          "Healthy",
          "Healthy",
          "Critical",
          "Deceased",
          "Healthy",
          "Healthy",
          "Healthy",
          "Healthy",
          "Healthy",
          "Deceased",
          "Critical",
          "Critical",
          "Healthy",
          "Healthy",
          "Healthy",
          "Healthy",
          "Critical",
          "Critical",
          "Healthy",
          "Healthy",
          "Healthy",
          "Healthy",
          "Critical",
          "Healthy",
          "Healthy",
          "Healthy",
          "Healthy",
          "Critical",
          "Healthy",
          "Healthy",
          "Healthy",
          "Healthy",
          "Healthy",
          "Healthy",
          "Healthy",
          "Healthy",
          "Healthy",
          "Healthy",
          "Critical",
          "Healthy",
          "Healthy",
          "Healthy",
          "Healthy",
          "Healthy",
          "Healthy",
          "Healthy",
          "Critical",
          "Healthy",
          "Healthy",
          "Healthy",
          "Healthy",
          "Critical",
          "Critical",
          "Healthy",
          "Healthy",
          "Healthy",
          "Healthy",
          "Critical",
          "Critical",
          "Healthy",
          "Healthy",
          "Healthy",
          "Healthy",
          "Critical",
          "Healthy",
          "Deceased",
          "Healthy",
          "Critical",
          "Healthy",
          "Critical",
          "Healthy",
          "Healthy",
          "Critical",
          "Healthy",
          "Healthy",
          "Healthy",
          "Healthy",
          "Healthy",
          "Healthy",
          "Healthy",
          "Healthy",
          "Healthy",
          "Healthy",
          "Healthy",
          "Healthy",
          "Critical",
          "Healthy",
          "Deceased",
          "Healthy",
          "Critical",
          "Healthy",
          "Healthy",
          "Healthy",
          "Healthy",
          "Critical",
          "Healthy",
          "Healthy",
          "Healthy",
          "Healthy",
          "Healthy",
          "Deceased",
          "Healthy",
          "Healthy",
          "Critical",
          "Critical",
          "Healthy",
          "Healthy",
          "Healthy",
          "Healthy",
          "Healthy",
          "Healthy",
          "Critical",
          "Critical",
          "Healthy",
          "Deceased",
          "Healthy",
          "Healthy",
          "Critical",
          "Critical",
          "Healthy",
          "Critical",
          "Healthy",
          "Healthy",
          "Deceased",
          "Healthy",
          "Healthy",
          "Healthy",
          "Healthy",
          "Critical",
          "Healthy",
          "Critical",
          "Healthy",
          "Healthy",
          "Deceased",
          "Healthy",
          "Healthy",
          "Critical",
          "Healthy",
          "Healthy",
          "Healthy",
          "Healthy",
          "Healthy",
          "Healthy",
          "Healthy",
          "Healthy",
          "Healthy",
          "Critical",
          "Critical",
          "Deceased",
          "Healthy",
          "Healthy",
          "Healthy",
          "Healthy",
          "Healthy",
          "Healthy",
          "Critical",
          "Healthy",
          "Critical",
          "Healthy",
          "Healthy",
          "Critical",
          "Healthy",
          "Healthy",
          "Healthy",
          "Healthy",
          "Critical",
          "Healthy",
          "Healthy",
          "Healthy",
          "Healthy",
          "Healthy",
          "Healthy",
          "Deceased",
          "Healthy",
          "Healthy",
          "Healthy",
          "Healthy",
          "Healthy",
          "Healthy",
          "Healthy",
          "Healthy",
          "Critical",
          "Critical",
          "Healthy",
          "Critical",
          "Healthy",
          "Healthy",
          "Healthy",
          "Healthy",
          "Critical",
          "Healthy",
          "Healthy",
          "Healthy",
          "Healthy",
          "Healthy",
          "Healthy",
          "Healthy",
          "Healthy",
          "Healthy",
          "Healthy",
          "Healthy",
          "Healthy",
          "Healthy",
          "Healthy",
          "Healthy",
          "Critical",
          "Healthy",
          "Healthy",
          "Critical",
          "Critical",
          "Deceased",
          "Healthy",
          "Healthy",
          "Healthy",
          "Healthy",
          "Healthy",
          "Healthy",
          "Healthy",
          "Healthy",
          "Healthy",
          "Healthy",
          "Critical",
          "Healthy",
          "Healthy",
          "Healthy",
          "Healthy",
          "Healthy",
          "Healthy",
          "Healthy",
          "Critical",
          "Healthy",
          "Healthy",
          "Critical",
          "Healthy",
          "Healthy",
          "Critical",
          "Healthy",
          "Healthy",
          "Healthy",
          "Healthy",
          "Healthy",
          "Healthy",
          "Healthy",
          "Healthy",
          "Healthy",
          "Healthy",
          "Healthy",
          "Healthy",
          "Deceased",
          "Healthy",
          "Healthy",
          "Healthy",
          "Healthy",
          "Healthy",
          "Healthy",
          "Critical",
          "Healthy",
          "Healthy",
          "Healthy",
          "Healthy",
          "Healthy",
          "Healthy",
          "Deceased",
          "Healthy",
          "Healthy",
          "Healthy",
          "Healthy",
          "Healthy",
          "Critical",
          "Healthy",
          "Healthy",
          "Healthy",
          "Healthy",
          "Healthy",
          "Deceased",
          "Healthy",
          "Healthy",
          "Healthy",
          "Critical",
          "Critical",
          "Deceased",
          "Healthy",
          "Healthy",
          "Healthy",
          "Critical",
          "Deceased",
          "Healthy",
          "Healthy",
          "Critical",
          "Healthy",
          "Critical",
          "Critical",
          "Deceased",
          "Healthy",
          "Critical",
          "Healthy",
          "Healthy",
          "Deceased",
          "Healthy",
          "Healthy",
          "Healthy",
          "Healthy",
          "Healthy",
          "Healthy",
          "Healthy",
          "Critical",
          "Healthy",
          "Healthy",
          "Healthy",
          "Healthy",
          "Healthy",
          "Healthy",
          "Healthy",
          "Healthy",
          "Healthy",
          "Healthy",
          "Healthy",
          "Critical",
          "Healthy",
          "Healthy",
          "Healthy",
          "Healthy",
          "Healthy",
          "Healthy",
          "Healthy",
          "Healthy",
          "Healthy",
          "Critical",
          "Healthy",
          "Healthy",
          "Healthy",
          "Deceased",
          "Healthy",
          "Critical",
          "Critical",
          "Critical",
          "Healthy",
          "Healthy",
          "Healthy",
          "Healthy",
          "Healthy",
          "Healthy",
          "Healthy",
          "Healthy",
          "Healthy",
          "Healthy",
          "Deceased",
          "Critical",
          "Healthy",
          "Healthy",
          "Healthy",
          "Critical",
          "Critical",
          "Healthy",
          "Healthy",
          "Healthy",
          "Healthy",
          "Healthy",
          "Deceased",
          "Healthy",
          "Critical",
          "Critical",
          "Healthy",
          "Healthy",
          "Healthy",
          "Deceased",
          "Healthy",
          "Critical",
          "Healthy",
          "Critical",
          "Critical",
          "Healthy",
          "Healthy",
          "Healthy",
          "Healthy",
          "Healthy",
          "Healthy",
          "Healthy",
          "Healthy",
          "Healthy",
          "Healthy",
          "Healthy",
          "Critical",
          "Healthy",
          "Healthy",
          "Critical",
          "Healthy",
          "Healthy",
          "Healthy",
          "Healthy",
          "Healthy",
          "Healthy",
          "Critical",
          "Healthy",
          "Deceased",
          "Healthy",
          "Healthy",
          "Healthy",
          "Healthy",
          "Healthy",
          "Healthy",
          "Healthy",
          "Healthy",
          "Healthy",
          "Critical",
          "Healthy",
          "Critical",
          "Healthy",
          "Healthy",
          "Critical",
          "Deceased",
          "Healthy",
          "Healthy",
          "Healthy",
          "Healthy",
          "Critical",
          "Healthy",
          "Healthy",
          "Healthy",
          "Healthy",
          "Healthy",
          "Healthy",
          "Healthy",
          "Deceased",
          "Healthy",
          "Healthy",
          "Healthy",
          "Critical",
          "Healthy",
          "Healthy",
          "Healthy",
          "Healthy",
          "Healthy",
          "Healthy",
          "Healthy",
          "Healthy",
          "Healthy",
          "Healthy",
          "Healthy",
          "Healthy",
          "Healthy",
          "Critical",
          "Critical",
          "Healthy",
          "Healthy",
          "Critical",
          "Critical",
          "Healthy",
          "Healthy",
          "Deceased",
          "Healthy",
          "Healthy",
          "Healthy",
          "Critical",
          "Critical",
          "Healthy",
          "Healthy",
          "Critical",
          "Healthy",
          "Healthy",
          "Healthy",
          "Healthy",
          "Deceased",
          "Critical",
          "Healthy",
          "Deceased",
          "Critical",
          "Healthy"
         ],
         "x0": " ",
         "xaxis": "x",
         "y": [
          "Doctor",
          "Nurse",
          "Admin",
          "Admin",
          "Admin",
          "Doctor",
          "Admin",
          "Doctor",
          "Doctor",
          "Admin",
          "Admin",
          "Doctor",
          "Admin",
          "Nurse",
          "Doctor",
          "Support",
          "Doctor",
          "Admin",
          "Admin",
          "Doctor",
          "Doctor",
          "Support",
          "Support",
          "Doctor",
          "Admin",
          "Doctor",
          "Nurse",
          "Nurse",
          "Admin",
          "Doctor",
          "Doctor",
          "Nurse",
          "Doctor",
          "Admin",
          "Admin",
          "Support",
          "Admin",
          "Doctor",
          "Doctor",
          "Nurse",
          "Nurse",
          "Admin",
          "Support",
          "Doctor",
          "Support",
          "Doctor",
          "Admin",
          "Admin",
          "Nurse",
          "Support",
          "Nurse",
          "Admin",
          "Support",
          "Doctor",
          "Nurse",
          "Admin",
          "Doctor",
          "Admin",
          "Doctor",
          "Nurse",
          "Doctor",
          "Support",
          "Doctor",
          "Admin",
          "Doctor",
          "Nurse",
          "Admin",
          "Admin",
          "Admin",
          "Admin",
          "Support",
          "Admin",
          "Admin",
          "Admin",
          "Nurse",
          "Nurse",
          "Admin",
          "Support",
          "Doctor",
          "Support",
          "Admin",
          "Admin",
          "Support",
          "Admin",
          "Doctor",
          "Nurse",
          "Doctor",
          "Doctor",
          "Doctor",
          "Support",
          "Support",
          "Doctor",
          "Support",
          "Admin",
          "Nurse",
          "Support",
          "Support",
          "Doctor",
          "Nurse",
          "Admin",
          "Admin",
          "Nurse",
          "Admin",
          "Nurse",
          "Doctor",
          "Admin",
          "Admin",
          "Nurse",
          "Admin",
          "Support",
          "Doctor",
          "Admin",
          "Admin",
          "Admin",
          "Nurse",
          "Doctor",
          "Doctor",
          "Admin",
          "Admin",
          "Nurse",
          "Doctor",
          "Support",
          "Admin",
          "Support",
          "Support",
          "Doctor",
          "Support",
          "Admin",
          "Admin",
          "Nurse",
          "Doctor",
          "Doctor",
          "Support",
          "Admin",
          "Admin",
          "Nurse",
          "Support",
          "Admin",
          "Doctor",
          "Nurse",
          "Doctor",
          "Nurse",
          "Doctor",
          "Support",
          "Admin",
          "Doctor",
          "Support",
          "Doctor",
          "Support",
          "Nurse",
          "Support",
          "Doctor",
          "Admin",
          "Nurse",
          "Nurse",
          "Support",
          "Doctor",
          "Support",
          "Nurse",
          "Admin",
          "Support",
          "Doctor",
          "Support",
          "Support",
          "Support",
          "Admin",
          "Doctor",
          "Doctor",
          "Nurse",
          "Nurse",
          "Support",
          "Nurse",
          "Doctor",
          "Support",
          "Nurse",
          "Admin",
          "Nurse",
          "Admin",
          "Nurse",
          "Doctor",
          "Nurse",
          "Admin",
          "Admin",
          "Nurse",
          "Support",
          "Admin",
          "Doctor",
          "Nurse",
          "Admin",
          "Nurse",
          "Nurse",
          "Support",
          "Nurse",
          "Nurse",
          "Nurse",
          "Doctor",
          "Nurse",
          "Doctor",
          "Nurse",
          "Support",
          "Support",
          "Admin",
          "Nurse",
          "Support",
          "Support",
          "Nurse",
          "Admin",
          "Doctor",
          "Support",
          "Support",
          "Doctor",
          "Support",
          "Doctor",
          "Doctor",
          "Admin",
          "Doctor",
          "Doctor",
          "Doctor",
          "Doctor",
          "Support",
          "Doctor",
          "Support",
          "Nurse",
          "Nurse",
          "Doctor",
          "Admin",
          "Admin",
          "Support",
          "Support",
          "Nurse",
          "Support",
          "Admin",
          "Nurse",
          "Doctor",
          "Support",
          "Doctor",
          "Support",
          "Admin",
          "Support",
          "Admin",
          "Admin",
          "Doctor",
          "Support",
          "Doctor",
          "Admin",
          "Admin",
          "Admin",
          "Admin",
          "Nurse",
          "Admin",
          "Support",
          "Admin",
          "Nurse",
          "Support",
          "Nurse",
          "Nurse",
          "Support",
          "Nurse",
          "Admin",
          "Doctor",
          "Doctor",
          "Doctor",
          "Support",
          "Support",
          "Support",
          "Doctor",
          "Doctor",
          "Support",
          "Doctor",
          "Nurse",
          "Nurse",
          "Doctor",
          "Support",
          "Admin",
          "Admin",
          "Doctor",
          "Admin",
          "Support",
          "Nurse",
          "Nurse",
          "Support",
          "Admin",
          "Doctor",
          "Nurse",
          "Admin",
          "Admin",
          "Nurse",
          "Nurse",
          "Doctor",
          "Support",
          "Admin",
          "Doctor",
          "Nurse",
          "Support",
          "Support",
          "Admin",
          "Support",
          "Nurse",
          "Nurse",
          "Nurse",
          "Doctor",
          "Nurse",
          "Doctor",
          "Nurse",
          "Nurse",
          "Support",
          "Admin",
          "Nurse",
          "Support",
          "Support",
          "Admin",
          "Support",
          "Support",
          "Admin",
          "Doctor",
          "Admin",
          "Admin",
          "Nurse",
          "Nurse",
          "Doctor",
          "Admin",
          "Admin",
          "Doctor",
          "Nurse",
          "Admin",
          "Doctor",
          "Nurse",
          "Support",
          "Doctor",
          "Doctor",
          "Admin",
          "Support",
          "Nurse",
          "Support",
          "Admin",
          "Admin",
          "Nurse",
          "Nurse",
          "Nurse",
          "Admin",
          "Nurse",
          "Nurse",
          "Nurse",
          "Doctor",
          "Nurse",
          "Admin",
          "Doctor",
          "Admin",
          "Support",
          "Doctor",
          "Nurse",
          "Doctor",
          "Admin",
          "Doctor",
          "Support",
          "Nurse",
          "Nurse",
          "Support",
          "Admin",
          "Doctor",
          "Admin",
          "Admin",
          "Admin",
          "Nurse",
          "Doctor",
          "Nurse",
          "Nurse",
          "Nurse",
          "Doctor",
          "Support",
          "Nurse",
          "Nurse",
          "Nurse",
          "Doctor",
          "Doctor",
          "Admin",
          "Nurse",
          "Nurse",
          "Doctor",
          "Doctor",
          "Nurse",
          "Support",
          "Admin",
          "Admin",
          "Nurse",
          "Admin",
          "Admin",
          "Nurse",
          "Admin",
          "Doctor",
          "Nurse",
          "Doctor",
          "Nurse",
          "Doctor",
          "Admin",
          "Support",
          "Doctor",
          "Doctor",
          "Support",
          "Support",
          "Doctor",
          "Doctor",
          "Doctor",
          "Nurse",
          "Doctor",
          "Doctor",
          "Support",
          "Support",
          "Nurse",
          "Nurse",
          "Admin",
          "Doctor",
          "Doctor",
          "Support",
          "Admin",
          "Doctor",
          "Admin",
          "Nurse",
          "Doctor",
          "Doctor",
          "Nurse",
          "Doctor",
          "Nurse",
          "Nurse",
          "Admin",
          "Support",
          "Support",
          "Nurse",
          "Admin",
          "Nurse",
          "Admin",
          "Admin",
          "Support",
          "Support",
          "Admin",
          "Support",
          "Admin",
          "Doctor",
          "Nurse",
          "Support",
          "Nurse",
          "Support",
          "Nurse",
          "Nurse",
          "Support",
          "Support",
          "Support",
          "Support",
          "Admin",
          "Support",
          "Support",
          "Support",
          "Doctor",
          "Nurse",
          "Support",
          "Support",
          "Nurse",
          "Nurse",
          "Admin",
          "Nurse",
          "Nurse",
          "Doctor",
          "Admin",
          "Doctor",
          "Nurse",
          "Support",
          "Admin",
          "Nurse",
          "Nurse",
          "Support",
          "Support",
          "Support",
          "Admin",
          "Doctor",
          "Admin",
          "Support",
          "Admin",
          "Support",
          "Doctor",
          "Admin",
          "Doctor",
          "Doctor",
          "Support",
          "Admin",
          "Admin",
          "Doctor",
          "Support",
          "Doctor",
          "Doctor",
          "Doctor",
          "Doctor",
          "Admin",
          "Nurse",
          "Admin",
          "Support",
          "Nurse",
          "Doctor",
          "Admin",
          "Nurse",
          "Doctor",
          "Admin",
          "Nurse",
          "Admin",
          "Nurse",
          "Support",
          "Admin",
          "Admin",
          "Nurse",
          "Support",
          "Admin",
          "Support",
          "Support",
          "Admin",
          "Doctor",
          "Nurse",
          "Admin",
          "Support",
          "Nurse",
          "Admin",
          "Nurse",
          "Nurse",
          "Support",
          "Doctor",
          "Doctor",
          "Nurse",
          "Support",
          "Support",
          "Admin",
          "Nurse",
          "Admin",
          "Support",
          "Nurse",
          "Doctor",
          "Doctor",
          "Admin",
          "Nurse",
          "Support",
          "Admin",
          "Doctor",
          "Support",
          "Nurse",
          "Doctor",
          "Support",
          "Doctor",
          "Nurse",
          "Admin",
          "Support",
          "Support",
          "Nurse",
          "Doctor",
          "Doctor",
          "Doctor",
          "Support",
          "Support",
          "Doctor",
          "Support",
          "Admin",
          "Nurse",
          "Nurse",
          "Support",
          "Admin",
          "Admin",
          "Doctor",
          "Nurse",
          "Nurse",
          "Nurse",
          "Support",
          "Admin",
          "Doctor",
          "Support",
          "Doctor",
          "Support",
          "Nurse",
          "Doctor",
          "Admin",
          "Admin",
          "Support",
          "Nurse",
          "Support",
          "Doctor",
          "Admin",
          "Admin",
          "Admin",
          "Admin",
          "Doctor",
          "Admin",
          "Support",
          "Admin",
          "Doctor",
          "Nurse",
          "Nurse",
          "Admin",
          "Nurse",
          "Doctor",
          "Admin",
          "Doctor",
          "Nurse",
          "Nurse",
          "Admin",
          "Nurse",
          "Admin",
          "Admin",
          "Support",
          "Support",
          "Support",
          "Doctor",
          "Nurse",
          "Nurse",
          "Support",
          "Admin",
          "Admin",
          "Admin",
          "Admin",
          "Doctor",
          "Nurse",
          "Support",
          "Doctor",
          "Nurse",
          "Doctor",
          "Admin",
          "Doctor",
          "Doctor",
          "Admin",
          "Admin",
          "Support",
          "Support",
          "Nurse",
          "Support",
          "Support",
          "Nurse",
          "Doctor",
          "Doctor",
          "Doctor",
          "Admin",
          "Nurse",
          "Doctor",
          "Support",
          "Support",
          "Support",
          "Nurse",
          "Nurse",
          "Support",
          "Admin",
          "Admin",
          "Doctor",
          "Doctor",
          "Doctor",
          "Doctor",
          "Doctor",
          "Nurse",
          "Nurse",
          "Admin",
          "Admin",
          "Nurse",
          "Admin",
          "Support",
          "Admin",
          "Support",
          "Support",
          "Doctor",
          "Admin",
          "Support",
          "Admin",
          "Admin",
          "Nurse",
          "Nurse",
          "Doctor",
          "Admin",
          "Nurse",
          "Support",
          "Support",
          "Doctor",
          "Support",
          "Admin",
          "Support",
          "Doctor",
          "Doctor",
          "Support",
          "Admin",
          "Nurse",
          "Admin",
          "Admin",
          "Admin",
          "Support",
          "Nurse",
          "Admin",
          "Nurse",
          "Doctor",
          "Nurse",
          "Support",
          "Doctor",
          "Doctor",
          "Admin",
          "Nurse",
          "Doctor",
          "Doctor",
          "Nurse",
          "Nurse",
          "Doctor",
          "Doctor",
          "Nurse",
          "Support",
          "Nurse",
          "Support",
          "Doctor",
          "Admin",
          "Nurse",
          "Doctor",
          "Doctor",
          "Admin",
          "Nurse",
          "Doctor",
          "Support",
          "Admin",
          "Support",
          "Nurse",
          "Support",
          "Admin",
          "Doctor",
          "Admin",
          "Doctor",
          "Doctor",
          "Support",
          "Admin",
          "Admin",
          "Doctor",
          "Admin",
          "Nurse",
          "Nurse",
          "Support",
          "Support",
          "Admin",
          "Support",
          "Admin",
          "Support",
          "Nurse",
          "Doctor",
          "Doctor",
          "Nurse",
          "Doctor",
          "Admin",
          "Admin",
          "Nurse",
          "Nurse",
          "Nurse",
          "Nurse",
          "Doctor",
          "Doctor",
          "Doctor",
          "Admin",
          "Support",
          "Admin",
          "Support",
          "Nurse",
          "Nurse",
          "Doctor",
          "Doctor",
          "Support",
          "Support",
          "Doctor",
          "Nurse",
          "Doctor",
          "Nurse",
          "Nurse",
          "Admin",
          "Admin",
          "Support",
          "Nurse",
          "Doctor",
          "Nurse",
          "Support",
          "Nurse",
          "Nurse",
          "Support",
          "Nurse",
          "Admin",
          "Support",
          "Admin",
          "Support",
          "Nurse",
          "Admin",
          "Admin",
          "Doctor",
          "Admin",
          "Admin",
          "Nurse",
          "Admin",
          "Admin",
          "Admin",
          "Nurse",
          "Support",
          "Nurse",
          "Admin",
          "Support",
          "Nurse",
          "Nurse",
          "Support",
          "Doctor",
          "Admin",
          "Doctor",
          "Admin",
          "Admin",
          "Doctor",
          "Doctor",
          "Admin",
          "Support",
          "Support",
          "Doctor",
          "Doctor",
          "Nurse",
          "Support",
          "Support",
          "Admin",
          "Nurse",
          "Admin",
          "Nurse",
          "Support",
          "Admin",
          "Nurse",
          "Admin",
          "Nurse",
          "Doctor",
          "Admin",
          "Doctor",
          "Nurse",
          "Admin",
          "Nurse",
          "Nurse",
          "Doctor",
          "Admin",
          "Support",
          "Nurse",
          "Doctor",
          "Support",
          "Doctor",
          "Doctor",
          "Doctor",
          "Nurse",
          "Support",
          "Nurse",
          "Nurse",
          "Admin",
          "Support",
          "Admin",
          "Doctor",
          "Support",
          "Support",
          "Nurse",
          "Doctor",
          "Nurse",
          "Admin",
          "Doctor",
          "Nurse",
          "Nurse",
          "Nurse",
          "Doctor",
          "Admin",
          "Support",
          "Nurse",
          "Doctor",
          "Support",
          "Nurse",
          "Doctor",
          "Admin",
          "Nurse",
          "Doctor",
          "Nurse",
          "Doctor",
          "Admin",
          "Admin",
          "Doctor",
          "Support",
          "Admin",
          "Nurse",
          "Admin",
          "Nurse",
          "Admin",
          "Admin",
          "Nurse",
          "Admin",
          "Nurse",
          "Nurse",
          "Admin",
          "Admin",
          "Nurse",
          "Doctor",
          "Admin",
          "Support",
          "Admin",
          "Doctor",
          "Doctor",
          "Admin",
          "Admin",
          "Support",
          "Admin",
          "Doctor",
          "Support",
          "Admin",
          "Support",
          "Support",
          "Doctor",
          "Doctor",
          "Nurse",
          "Doctor",
          "Nurse",
          "Doctor",
          "Doctor",
          "Nurse",
          "Nurse",
          "Nurse",
          "Support",
          "Nurse",
          "Support",
          "Support",
          "Nurse",
          "Nurse",
          "Nurse",
          "Doctor",
          "Doctor",
          "Nurse",
          "Admin",
          "Nurse",
          "Admin",
          "Doctor",
          "Doctor",
          "Admin",
          "Doctor",
          "Nurse",
          "Admin",
          "Admin",
          "Support",
          "Doctor",
          "Admin",
          "Admin",
          "Admin",
          "Doctor",
          "Admin",
          "Admin",
          "Nurse",
          "Nurse",
          "Support",
          "Admin",
          "Doctor",
          "Support",
          "Support",
          "Support",
          "Admin",
          "Support",
          "Doctor",
          "Nurse",
          "Nurse",
          "Admin",
          "Doctor",
          "Doctor",
          "Doctor",
          "Admin",
          "Doctor",
          "Nurse",
          "Doctor",
          "Doctor",
          "Admin",
          "Support",
          "Support",
          "Admin",
          "Admin",
          "Admin",
          "Admin",
          "Doctor",
          "Doctor",
          "Support",
          "Admin",
          "Admin",
          "Doctor",
          "Admin",
          "Nurse",
          "Doctor",
          "Nurse",
          "Doctor",
          "Doctor",
          "Doctor",
          "Support",
          "Support",
          "Doctor",
          "Doctor",
          "Doctor",
          "Doctor",
          "Admin",
          "Admin",
          "Admin",
          "Support",
          "Nurse",
          "Doctor",
          "Admin",
          "Admin",
          "Admin",
          "Doctor",
          "Doctor",
          "Nurse",
          "Support",
          "Nurse"
         ],
         "y0": " ",
         "yaxis": "y"
        }
       ],
       "layout": {
        "bargap": 0.1,
        "height": 500,
        "legend": {
         "tracegroupgap": 0
        },
        "template": {
         "data": {
          "bar": [
           {
            "error_x": {
             "color": "#2a3f5f"
            },
            "error_y": {
             "color": "#2a3f5f"
            },
            "marker": {
             "line": {
              "color": "#E5ECF6",
              "width": 0.5
             },
             "pattern": {
              "fillmode": "overlay",
              "size": 10,
              "solidity": 0.2
             }
            },
            "type": "bar"
           }
          ],
          "barpolar": [
           {
            "marker": {
             "line": {
              "color": "#E5ECF6",
              "width": 0.5
             },
             "pattern": {
              "fillmode": "overlay",
              "size": 10,
              "solidity": 0.2
             }
            },
            "type": "barpolar"
           }
          ],
          "carpet": [
           {
            "aaxis": {
             "endlinecolor": "#2a3f5f",
             "gridcolor": "white",
             "linecolor": "white",
             "minorgridcolor": "white",
             "startlinecolor": "#2a3f5f"
            },
            "baxis": {
             "endlinecolor": "#2a3f5f",
             "gridcolor": "white",
             "linecolor": "white",
             "minorgridcolor": "white",
             "startlinecolor": "#2a3f5f"
            },
            "type": "carpet"
           }
          ],
          "choropleth": [
           {
            "colorbar": {
             "outlinewidth": 0,
             "ticks": ""
            },
            "type": "choropleth"
           }
          ],
          "contour": [
           {
            "colorbar": {
             "outlinewidth": 0,
             "ticks": ""
            },
            "colorscale": [
             [
              0,
              "#0d0887"
             ],
             [
              0.1111111111111111,
              "#46039f"
             ],
             [
              0.2222222222222222,
              "#7201a8"
             ],
             [
              0.3333333333333333,
              "#9c179e"
             ],
             [
              0.4444444444444444,
              "#bd3786"
             ],
             [
              0.5555555555555556,
              "#d8576b"
             ],
             [
              0.6666666666666666,
              "#ed7953"
             ],
             [
              0.7777777777777778,
              "#fb9f3a"
             ],
             [
              0.8888888888888888,
              "#fdca26"
             ],
             [
              1,
              "#f0f921"
             ]
            ],
            "type": "contour"
           }
          ],
          "contourcarpet": [
           {
            "colorbar": {
             "outlinewidth": 0,
             "ticks": ""
            },
            "type": "contourcarpet"
           }
          ],
          "heatmap": [
           {
            "colorbar": {
             "outlinewidth": 0,
             "ticks": ""
            },
            "colorscale": [
             [
              0,
              "#0d0887"
             ],
             [
              0.1111111111111111,
              "#46039f"
             ],
             [
              0.2222222222222222,
              "#7201a8"
             ],
             [
              0.3333333333333333,
              "#9c179e"
             ],
             [
              0.4444444444444444,
              "#bd3786"
             ],
             [
              0.5555555555555556,
              "#d8576b"
             ],
             [
              0.6666666666666666,
              "#ed7953"
             ],
             [
              0.7777777777777778,
              "#fb9f3a"
             ],
             [
              0.8888888888888888,
              "#fdca26"
             ],
             [
              1,
              "#f0f921"
             ]
            ],
            "type": "heatmap"
           }
          ],
          "heatmapgl": [
           {
            "colorbar": {
             "outlinewidth": 0,
             "ticks": ""
            },
            "colorscale": [
             [
              0,
              "#0d0887"
             ],
             [
              0.1111111111111111,
              "#46039f"
             ],
             [
              0.2222222222222222,
              "#7201a8"
             ],
             [
              0.3333333333333333,
              "#9c179e"
             ],
             [
              0.4444444444444444,
              "#bd3786"
             ],
             [
              0.5555555555555556,
              "#d8576b"
             ],
             [
              0.6666666666666666,
              "#ed7953"
             ],
             [
              0.7777777777777778,
              "#fb9f3a"
             ],
             [
              0.8888888888888888,
              "#fdca26"
             ],
             [
              1,
              "#f0f921"
             ]
            ],
            "type": "heatmapgl"
           }
          ],
          "histogram": [
           {
            "marker": {
             "pattern": {
              "fillmode": "overlay",
              "size": 10,
              "solidity": 0.2
             }
            },
            "type": "histogram"
           }
          ],
          "histogram2d": [
           {
            "colorbar": {
             "outlinewidth": 0,
             "ticks": ""
            },
            "colorscale": [
             [
              0,
              "#0d0887"
             ],
             [
              0.1111111111111111,
              "#46039f"
             ],
             [
              0.2222222222222222,
              "#7201a8"
             ],
             [
              0.3333333333333333,
              "#9c179e"
             ],
             [
              0.4444444444444444,
              "#bd3786"
             ],
             [
              0.5555555555555556,
              "#d8576b"
             ],
             [
              0.6666666666666666,
              "#ed7953"
             ],
             [
              0.7777777777777778,
              "#fb9f3a"
             ],
             [
              0.8888888888888888,
              "#fdca26"
             ],
             [
              1,
              "#f0f921"
             ]
            ],
            "type": "histogram2d"
           }
          ],
          "histogram2dcontour": [
           {
            "colorbar": {
             "outlinewidth": 0,
             "ticks": ""
            },
            "colorscale": [
             [
              0,
              "#0d0887"
             ],
             [
              0.1111111111111111,
              "#46039f"
             ],
             [
              0.2222222222222222,
              "#7201a8"
             ],
             [
              0.3333333333333333,
              "#9c179e"
             ],
             [
              0.4444444444444444,
              "#bd3786"
             ],
             [
              0.5555555555555556,
              "#d8576b"
             ],
             [
              0.6666666666666666,
              "#ed7953"
             ],
             [
              0.7777777777777778,
              "#fb9f3a"
             ],
             [
              0.8888888888888888,
              "#fdca26"
             ],
             [
              1,
              "#f0f921"
             ]
            ],
            "type": "histogram2dcontour"
           }
          ],
          "mesh3d": [
           {
            "colorbar": {
             "outlinewidth": 0,
             "ticks": ""
            },
            "type": "mesh3d"
           }
          ],
          "parcoords": [
           {
            "line": {
             "colorbar": {
              "outlinewidth": 0,
              "ticks": ""
             }
            },
            "type": "parcoords"
           }
          ],
          "pie": [
           {
            "automargin": true,
            "type": "pie"
           }
          ],
          "scatter": [
           {
            "fillpattern": {
             "fillmode": "overlay",
             "size": 10,
             "solidity": 0.2
            },
            "type": "scatter"
           }
          ],
          "scatter3d": [
           {
            "line": {
             "colorbar": {
              "outlinewidth": 0,
              "ticks": ""
             }
            },
            "marker": {
             "colorbar": {
              "outlinewidth": 0,
              "ticks": ""
             }
            },
            "type": "scatter3d"
           }
          ],
          "scattercarpet": [
           {
            "marker": {
             "colorbar": {
              "outlinewidth": 0,
              "ticks": ""
             }
            },
            "type": "scattercarpet"
           }
          ],
          "scattergeo": [
           {
            "marker": {
             "colorbar": {
              "outlinewidth": 0,
              "ticks": ""
             }
            },
            "type": "scattergeo"
           }
          ],
          "scattergl": [
           {
            "marker": {
             "colorbar": {
              "outlinewidth": 0,
              "ticks": ""
             }
            },
            "type": "scattergl"
           }
          ],
          "scattermapbox": [
           {
            "marker": {
             "colorbar": {
              "outlinewidth": 0,
              "ticks": ""
             }
            },
            "type": "scattermapbox"
           }
          ],
          "scatterpolar": [
           {
            "marker": {
             "colorbar": {
              "outlinewidth": 0,
              "ticks": ""
             }
            },
            "type": "scatterpolar"
           }
          ],
          "scatterpolargl": [
           {
            "marker": {
             "colorbar": {
              "outlinewidth": 0,
              "ticks": ""
             }
            },
            "type": "scatterpolargl"
           }
          ],
          "scatterternary": [
           {
            "marker": {
             "colorbar": {
              "outlinewidth": 0,
              "ticks": ""
             }
            },
            "type": "scatterternary"
           }
          ],
          "surface": [
           {
            "colorbar": {
             "outlinewidth": 0,
             "ticks": ""
            },
            "colorscale": [
             [
              0,
              "#0d0887"
             ],
             [
              0.1111111111111111,
              "#46039f"
             ],
             [
              0.2222222222222222,
              "#7201a8"
             ],
             [
              0.3333333333333333,
              "#9c179e"
             ],
             [
              0.4444444444444444,
              "#bd3786"
             ],
             [
              0.5555555555555556,
              "#d8576b"
             ],
             [
              0.6666666666666666,
              "#ed7953"
             ],
             [
              0.7777777777777778,
              "#fb9f3a"
             ],
             [
              0.8888888888888888,
              "#fdca26"
             ],
             [
              1,
              "#f0f921"
             ]
            ],
            "type": "surface"
           }
          ],
          "table": [
           {
            "cells": {
             "fill": {
              "color": "#EBF0F8"
             },
             "line": {
              "color": "white"
             }
            },
            "header": {
             "fill": {
              "color": "#C8D4E3"
             },
             "line": {
              "color": "white"
             }
            },
            "type": "table"
           }
          ]
         },
         "layout": {
          "annotationdefaults": {
           "arrowcolor": "#2a3f5f",
           "arrowhead": 0,
           "arrowwidth": 1
          },
          "autotypenumbers": "strict",
          "coloraxis": {
           "colorbar": {
            "outlinewidth": 0,
            "ticks": ""
           }
          },
          "colorscale": {
           "diverging": [
            [
             0,
             "#8e0152"
            ],
            [
             0.1,
             "#c51b7d"
            ],
            [
             0.2,
             "#de77ae"
            ],
            [
             0.3,
             "#f1b6da"
            ],
            [
             0.4,
             "#fde0ef"
            ],
            [
             0.5,
             "#f7f7f7"
            ],
            [
             0.6,
             "#e6f5d0"
            ],
            [
             0.7,
             "#b8e186"
            ],
            [
             0.8,
             "#7fbc41"
            ],
            [
             0.9,
             "#4d9221"
            ],
            [
             1,
             "#276419"
            ]
           ],
           "sequential": [
            [
             0,
             "#0d0887"
            ],
            [
             0.1111111111111111,
             "#46039f"
            ],
            [
             0.2222222222222222,
             "#7201a8"
            ],
            [
             0.3333333333333333,
             "#9c179e"
            ],
            [
             0.4444444444444444,
             "#bd3786"
            ],
            [
             0.5555555555555556,
             "#d8576b"
            ],
            [
             0.6666666666666666,
             "#ed7953"
            ],
            [
             0.7777777777777778,
             "#fb9f3a"
            ],
            [
             0.8888888888888888,
             "#fdca26"
            ],
            [
             1,
             "#f0f921"
            ]
           ],
           "sequentialminus": [
            [
             0,
             "#0d0887"
            ],
            [
             0.1111111111111111,
             "#46039f"
            ],
            [
             0.2222222222222222,
             "#7201a8"
            ],
            [
             0.3333333333333333,
             "#9c179e"
            ],
            [
             0.4444444444444444,
             "#bd3786"
            ],
            [
             0.5555555555555556,
             "#d8576b"
            ],
            [
             0.6666666666666666,
             "#ed7953"
            ],
            [
             0.7777777777777778,
             "#fb9f3a"
            ],
            [
             0.8888888888888888,
             "#fdca26"
            ],
            [
             1,
             "#f0f921"
            ]
           ]
          },
          "colorway": [
           "#636efa",
           "#EF553B",
           "#00cc96",
           "#ab63fa",
           "#FFA15A",
           "#19d3f3",
           "#FF6692",
           "#B6E880",
           "#FF97FF",
           "#FECB52"
          ],
          "font": {
           "color": "#2a3f5f"
          },
          "geo": {
           "bgcolor": "white",
           "lakecolor": "white",
           "landcolor": "#E5ECF6",
           "showlakes": true,
           "showland": true,
           "subunitcolor": "white"
          },
          "hoverlabel": {
           "align": "left"
          },
          "hovermode": "closest",
          "mapbox": {
           "style": "light"
          },
          "paper_bgcolor": "white",
          "plot_bgcolor": "#E5ECF6",
          "polar": {
           "angularaxis": {
            "gridcolor": "white",
            "linecolor": "white",
            "ticks": ""
           },
           "bgcolor": "#E5ECF6",
           "radialaxis": {
            "gridcolor": "white",
            "linecolor": "white",
            "ticks": ""
           }
          },
          "scene": {
           "xaxis": {
            "backgroundcolor": "#E5ECF6",
            "gridcolor": "white",
            "gridwidth": 2,
            "linecolor": "white",
            "showbackground": true,
            "ticks": "",
            "zerolinecolor": "white"
           },
           "yaxis": {
            "backgroundcolor": "#E5ECF6",
            "gridcolor": "white",
            "gridwidth": 2,
            "linecolor": "white",
            "showbackground": true,
            "ticks": "",
            "zerolinecolor": "white"
           },
           "zaxis": {
            "backgroundcolor": "#E5ECF6",
            "gridcolor": "white",
            "gridwidth": 2,
            "linecolor": "white",
            "showbackground": true,
            "ticks": "",
            "zerolinecolor": "white"
           }
          },
          "shapedefaults": {
           "line": {
            "color": "#2a3f5f"
           }
          },
          "ternary": {
           "aaxis": {
            "gridcolor": "white",
            "linecolor": "white",
            "ticks": ""
           },
           "baxis": {
            "gridcolor": "white",
            "linecolor": "white",
            "ticks": ""
           },
           "bgcolor": "#E5ECF6",
           "caxis": {
            "gridcolor": "white",
            "linecolor": "white",
            "ticks": ""
           }
          },
          "title": {
           "x": 0.05
          },
          "xaxis": {
           "automargin": true,
           "gridcolor": "white",
           "linecolor": "white",
           "ticks": "",
           "title": {
            "standoff": 15
           },
           "zerolinecolor": "white",
           "zerolinewidth": 2
          },
          "yaxis": {
           "automargin": true,
           "gridcolor": "white",
           "linecolor": "white",
           "ticks": "",
           "title": {
            "standoff": 15
           },
           "zerolinecolor": "white",
           "zerolinewidth": 2
          }
         }
        },
        "title": {
         "text": "Staff role and Outcome</b>"
        },
        "violinmode": "group",
        "width": 800,
        "xaxis": {
         "anchor": "y",
         "domain": [
          0,
          1
         ],
         "title": {
          "text": "Maternal_Outcome"
         }
        },
        "yaxis": {
         "anchor": "x",
         "domain": [
          0,
          1
         ],
         "title": {
          "text": "Staff_Role"
         }
        }
       }
      }
     },
     "metadata": {},
     "output_type": "display_data"
    }
   ],
   "source": [
    "fig = px.violin(data, y='Staff_Role',x='Maternal_Outcome', title=\"Staff role and Outcome</b>\")\n",
    "fig.update_layout(width=800, height=500, bargap=0.1)\n",
    "fig.show()"
   ]
  },
  {
   "cell_type": "markdown",
   "id": "c3a35bd8",
   "metadata": {
    "id": "c3a35bd8"
   },
   "source": [
    "# Data Preprocessing"
   ]
  },
  {
   "cell_type": "code",
   "execution_count": null,
   "id": "e6f365f4",
   "metadata": {},
   "outputs": [],
   "source": []
  },
  {
   "cell_type": "code",
   "execution_count": 17,
   "id": "2cdf56b2",
   "metadata": {},
   "outputs": [],
   "source": [
    "data=data.drop(['Admission_Date','Discharge_Date','Record_Date','Payment_Date'], axis=1)"
   ]
  },
  {
   "cell_type": "code",
   "execution_count": 18,
   "id": "d8e897f2",
   "metadata": {
    "colab": {
     "base_uri": "https://localhost:8080/",
     "height": 206
    },
    "id": "d8e897f2",
    "outputId": "c5e5ea42-6c6f-456d-b0ff-98905a6d310e"
   },
   "outputs": [
    {
     "name": "stdout",
     "output_type": "stream",
     "text": [
      "['Gender', 'Payment_Status', 'Staff_Role', 'Maternal_Outcome']\n"
     ]
    }
   ],
   "source": [
    "object_columns = data.select_dtypes(include='object').columns\n",
    "object_columns= list(object_columns)\n",
    "print(object_columns)"
   ]
  },
  {
   "cell_type": "code",
   "execution_count": null,
   "id": "2a25dd90",
   "metadata": {},
   "outputs": [],
   "source": []
  },
  {
   "cell_type": "code",
   "execution_count": 19,
   "id": "6d6e77f7",
   "metadata": {
    "id": "6d6e77f7"
   },
   "outputs": [
    {
     "data": {
      "text/html": [
       "<div>\n",
       "<style scoped>\n",
       "    .dataframe tbody tr th:only-of-type {\n",
       "        vertical-align: middle;\n",
       "    }\n",
       "\n",
       "    .dataframe tbody tr th {\n",
       "        vertical-align: top;\n",
       "    }\n",
       "\n",
       "    .dataframe thead th {\n",
       "        text-align: right;\n",
       "    }\n",
       "</style>\n",
       "<table border=\"1\" class=\"dataframe\">\n",
       "  <thead>\n",
       "    <tr style=\"text-align: right;\">\n",
       "      <th></th>\n",
       "      <th>Age</th>\n",
       "      <th>Gender</th>\n",
       "      <th>Blood_Pressure</th>\n",
       "      <th>Gestational_Diabetes</th>\n",
       "      <th>Total_Billing_Amount</th>\n",
       "      <th>Payment_Status</th>\n",
       "      <th>Staff_Role</th>\n",
       "      <th>Staff_Satisfaction</th>\n",
       "      <th>IV_Fluids_Stock</th>\n",
       "      <th>Medications_Stock</th>\n",
       "      <th>Bed_Availability</th>\n",
       "      <th>Patient_Satisfaction</th>\n",
       "      <th>Readmission_Within_30_Days</th>\n",
       "      <th>Maternal_Outcome</th>\n",
       "    </tr>\n",
       "  </thead>\n",
       "  <tbody>\n",
       "    <tr>\n",
       "      <th>0</th>\n",
       "      <td>29</td>\n",
       "      <td>1</td>\n",
       "      <td>126</td>\n",
       "      <td>1</td>\n",
       "      <td>87568</td>\n",
       "      <td>0</td>\n",
       "      <td>1</td>\n",
       "      <td>1</td>\n",
       "      <td>299</td>\n",
       "      <td>601</td>\n",
       "      <td>1</td>\n",
       "      <td>4</td>\n",
       "      <td>1</td>\n",
       "      <td>2</td>\n",
       "    </tr>\n",
       "    <tr>\n",
       "      <th>1</th>\n",
       "      <td>28</td>\n",
       "      <td>1</td>\n",
       "      <td>92</td>\n",
       "      <td>0</td>\n",
       "      <td>77041</td>\n",
       "      <td>1</td>\n",
       "      <td>2</td>\n",
       "      <td>2</td>\n",
       "      <td>107</td>\n",
       "      <td>476</td>\n",
       "      <td>7</td>\n",
       "      <td>5</td>\n",
       "      <td>1</td>\n",
       "      <td>2</td>\n",
       "    </tr>\n",
       "    <tr>\n",
       "      <th>2</th>\n",
       "      <td>21</td>\n",
       "      <td>0</td>\n",
       "      <td>148</td>\n",
       "      <td>1</td>\n",
       "      <td>19448</td>\n",
       "      <td>1</td>\n",
       "      <td>0</td>\n",
       "      <td>2</td>\n",
       "      <td>382</td>\n",
       "      <td>211</td>\n",
       "      <td>5</td>\n",
       "      <td>4</td>\n",
       "      <td>1</td>\n",
       "      <td>2</td>\n",
       "    </tr>\n",
       "    <tr>\n",
       "      <th>3</th>\n",
       "      <td>26</td>\n",
       "      <td>1</td>\n",
       "      <td>116</td>\n",
       "      <td>1</td>\n",
       "      <td>88776</td>\n",
       "      <td>1</td>\n",
       "      <td>0</td>\n",
       "      <td>1</td>\n",
       "      <td>212</td>\n",
       "      <td>677</td>\n",
       "      <td>1</td>\n",
       "      <td>5</td>\n",
       "      <td>1</td>\n",
       "      <td>2</td>\n",
       "    </tr>\n",
       "    <tr>\n",
       "      <th>4</th>\n",
       "      <td>78</td>\n",
       "      <td>1</td>\n",
       "      <td>121</td>\n",
       "      <td>1</td>\n",
       "      <td>69606</td>\n",
       "      <td>0</td>\n",
       "      <td>0</td>\n",
       "      <td>1</td>\n",
       "      <td>66</td>\n",
       "      <td>721</td>\n",
       "      <td>1</td>\n",
       "      <td>2</td>\n",
       "      <td>0</td>\n",
       "      <td>2</td>\n",
       "    </tr>\n",
       "  </tbody>\n",
       "</table>\n",
       "</div>"
      ],
      "text/plain": [
       "   Age  Gender  Blood_Pressure  Gestational_Diabetes  Total_Billing_Amount  \\\n",
       "0   29       1             126                     1                 87568   \n",
       "1   28       1              92                     0                 77041   \n",
       "2   21       0             148                     1                 19448   \n",
       "3   26       1             116                     1                 88776   \n",
       "4   78       1             121                     1                 69606   \n",
       "\n",
       "   Payment_Status  Staff_Role  Staff_Satisfaction  IV_Fluids_Stock  \\\n",
       "0               0           1                   1              299   \n",
       "1               1           2                   2              107   \n",
       "2               1           0                   2              382   \n",
       "3               1           0                   1              212   \n",
       "4               0           0                   1               66   \n",
       "\n",
       "   Medications_Stock  Bed_Availability  Patient_Satisfaction  \\\n",
       "0                601                 1                     4   \n",
       "1                476                 7                     5   \n",
       "2                211                 5                     4   \n",
       "3                677                 1                     5   \n",
       "4                721                 1                     2   \n",
       "\n",
       "   Readmission_Within_30_Days  Maternal_Outcome  \n",
       "0                           1                 2  \n",
       "1                           1                 2  \n",
       "2                           1                 2  \n",
       "3                           1                 2  \n",
       "4                           0                 2  "
      ]
     },
     "execution_count": 19,
     "metadata": {},
     "output_type": "execute_result"
    }
   ],
   "source": [
    "from sklearn.preprocessing import LabelEncoder\n",
    "le=LabelEncoder()\n",
    "for x in object_columns: \n",
    "    data[x]=le.fit_transform(data[x])\n",
    "data.head()"
   ]
  },
  {
   "cell_type": "code",
   "execution_count": 20,
   "id": "51cb6837",
   "metadata": {},
   "outputs": [
    {
     "data": {
      "text/plain": [
       "<AxesSubplot:>"
      ]
     },
     "execution_count": 20,
     "metadata": {},
     "output_type": "execute_result"
    },
    {
     "data": {
      "image/png": "[encoded data removed]",
      "text/plain": [
       "<Figure size 1500x1200 with 2 Axes>"
      ]
     },
     "metadata": {},
     "output_type": "display_data"
    }
   ],
   "source": [
    "plt.figure(figsize=(15,12))\n",
    "sns.heatmap(data.corr(),cmap='terrain')"
   ]
  },
  {
   "cell_type": "code",
   "execution_count": 21,
   "id": "c65d6f8c",
   "metadata": {
    "colab": {
     "base_uri": "https://localhost:8080/"
    },
    "id": "c65d6f8c",
    "outputId": "3798126e-5cc8-461f-9e15-ddffecb32227"
   },
   "outputs": [
    {
     "name": "stdout",
     "output_type": "stream",
     "text": [
      "<class 'pandas.core.frame.DataFrame'>\n",
      "RangeIndex: 1000 entries, 0 to 999\n",
      "Data columns (total 14 columns):\n",
      " #   Column                      Non-Null Count  Dtype\n",
      "---  ------                      --------------  -----\n",
      " 0   Age                         1000 non-null   int64\n",
      " 1   Gender                      1000 non-null   int64\n",
      " 2   Blood_Pressure              1000 non-null   int64\n",
      " 3   Gestational_Diabetes        1000 non-null   int64\n",
      " 4   Total_Billing_Amount        1000 non-null   int64\n",
      " 5   Payment_Status              1000 non-null   int64\n",
      " 6   Staff_Role                  1000 non-null   int64\n",
      " 7   Staff_Satisfaction          1000 non-null   int64\n",
      " 8   IV_Fluids_Stock             1000 non-null   int64\n",
      " 9   Medications_Stock           1000 non-null   int64\n",
      " 10  Bed_Availability            1000 non-null   int64\n",
      " 11  Patient_Satisfaction        1000 non-null   int64\n",
      " 12  Readmission_Within_30_Days  1000 non-null   int64\n",
      " 13  Maternal_Outcome            1000 non-null   int64\n",
      "dtypes: int64(14)\n",
      "memory usage: 109.5 KB\n"
     ]
    }
   ],
   "source": [
    "data.info()"
   ]
  },
  {
   "cell_type": "code",
   "execution_count": 22,
   "id": "46ad8b79",
   "metadata": {
    "id": "46ad8b79"
   },
   "outputs": [],
   "source": [
    "x=data.drop(['Maternal_Outcome'], axis=1)\n",
    "y=data[['Maternal_Outcome']]"
   ]
  },
  {
   "cell_type": "code",
   "execution_count": 23,
   "id": "b9bc559f",
   "metadata": {},
   "outputs": [
    {
     "data": {
      "text/html": [
       "<div>\n",
       "<style scoped>\n",
       "    .dataframe tbody tr th:only-of-type {\n",
       "        vertical-align: middle;\n",
       "    }\n",
       "\n",
       "    .dataframe tbody tr th {\n",
       "        vertical-align: top;\n",
       "    }\n",
       "\n",
       "    .dataframe thead th {\n",
       "        text-align: right;\n",
       "    }\n",
       "</style>\n",
       "<table border=\"1\" class=\"dataframe\">\n",
       "  <thead>\n",
       "    <tr style=\"text-align: right;\">\n",
       "      <th></th>\n",
       "      <th>Age</th>\n",
       "      <th>Gender</th>\n",
       "      <th>Blood_Pressure</th>\n",
       "      <th>Gestational_Diabetes</th>\n",
       "      <th>Total_Billing_Amount</th>\n",
       "      <th>Payment_Status</th>\n",
       "      <th>Staff_Role</th>\n",
       "      <th>Staff_Satisfaction</th>\n",
       "      <th>IV_Fluids_Stock</th>\n",
       "      <th>Medications_Stock</th>\n",
       "      <th>Bed_Availability</th>\n",
       "      <th>Patient_Satisfaction</th>\n",
       "      <th>Readmission_Within_30_Days</th>\n",
       "    </tr>\n",
       "  </thead>\n",
       "  <tbody>\n",
       "    <tr>\n",
       "      <th>0</th>\n",
       "      <td>29</td>\n",
       "      <td>1</td>\n",
       "      <td>126</td>\n",
       "      <td>1</td>\n",
       "      <td>87568</td>\n",
       "      <td>0</td>\n",
       "      <td>1</td>\n",
       "      <td>1</td>\n",
       "      <td>299</td>\n",
       "      <td>601</td>\n",
       "      <td>1</td>\n",
       "      <td>4</td>\n",
       "      <td>1</td>\n",
       "    </tr>\n",
       "    <tr>\n",
       "      <th>1</th>\n",
       "      <td>28</td>\n",
       "      <td>1</td>\n",
       "      <td>92</td>\n",
       "      <td>0</td>\n",
       "      <td>77041</td>\n",
       "      <td>1</td>\n",
       "      <td>2</td>\n",
       "      <td>2</td>\n",
       "      <td>107</td>\n",
       "      <td>476</td>\n",
       "      <td>7</td>\n",
       "      <td>5</td>\n",
       "      <td>1</td>\n",
       "    </tr>\n",
       "    <tr>\n",
       "      <th>2</th>\n",
       "      <td>21</td>\n",
       "      <td>0</td>\n",
       "      <td>148</td>\n",
       "      <td>1</td>\n",
       "      <td>19448</td>\n",
       "      <td>1</td>\n",
       "      <td>0</td>\n",
       "      <td>2</td>\n",
       "      <td>382</td>\n",
       "      <td>211</td>\n",
       "      <td>5</td>\n",
       "      <td>4</td>\n",
       "      <td>1</td>\n",
       "    </tr>\n",
       "    <tr>\n",
       "      <th>3</th>\n",
       "      <td>26</td>\n",
       "      <td>1</td>\n",
       "      <td>116</td>\n",
       "      <td>1</td>\n",
       "      <td>88776</td>\n",
       "      <td>1</td>\n",
       "      <td>0</td>\n",
       "      <td>1</td>\n",
       "      <td>212</td>\n",
       "      <td>677</td>\n",
       "      <td>1</td>\n",
       "      <td>5</td>\n",
       "      <td>1</td>\n",
       "    </tr>\n",
       "    <tr>\n",
       "      <th>4</th>\n",
       "      <td>78</td>\n",
       "      <td>1</td>\n",
       "      <td>121</td>\n",
       "      <td>1</td>\n",
       "      <td>69606</td>\n",
       "      <td>0</td>\n",
       "      <td>0</td>\n",
       "      <td>1</td>\n",
       "      <td>66</td>\n",
       "      <td>721</td>\n",
       "      <td>1</td>\n",
       "      <td>2</td>\n",
       "      <td>0</td>\n",
       "    </tr>\n",
       "    <tr>\n",
       "      <th>...</th>\n",
       "      <td>...</td>\n",
       "      <td>...</td>\n",
       "      <td>...</td>\n",
       "      <td>...</td>\n",
       "      <td>...</td>\n",
       "      <td>...</td>\n",
       "      <td>...</td>\n",
       "      <td>...</td>\n",
       "      <td>...</td>\n",
       "      <td>...</td>\n",
       "      <td>...</td>\n",
       "      <td>...</td>\n",
       "      <td>...</td>\n",
       "    </tr>\n",
       "    <tr>\n",
       "      <th>995</th>\n",
       "      <td>26</td>\n",
       "      <td>0</td>\n",
       "      <td>91</td>\n",
       "      <td>0</td>\n",
       "      <td>58505</td>\n",
       "      <td>1</td>\n",
       "      <td>1</td>\n",
       "      <td>1</td>\n",
       "      <td>316</td>\n",
       "      <td>734</td>\n",
       "      <td>6</td>\n",
       "      <td>4</td>\n",
       "      <td>1</td>\n",
       "    </tr>\n",
       "    <tr>\n",
       "      <th>996</th>\n",
       "      <td>34</td>\n",
       "      <td>0</td>\n",
       "      <td>105</td>\n",
       "      <td>1</td>\n",
       "      <td>15117</td>\n",
       "      <td>1</td>\n",
       "      <td>1</td>\n",
       "      <td>5</td>\n",
       "      <td>382</td>\n",
       "      <td>314</td>\n",
       "      <td>1</td>\n",
       "      <td>2</td>\n",
       "      <td>1</td>\n",
       "    </tr>\n",
       "    <tr>\n",
       "      <th>997</th>\n",
       "      <td>97</td>\n",
       "      <td>0</td>\n",
       "      <td>105</td>\n",
       "      <td>1</td>\n",
       "      <td>50706</td>\n",
       "      <td>0</td>\n",
       "      <td>2</td>\n",
       "      <td>3</td>\n",
       "      <td>425</td>\n",
       "      <td>361</td>\n",
       "      <td>3</td>\n",
       "      <td>2</td>\n",
       "      <td>1</td>\n",
       "    </tr>\n",
       "    <tr>\n",
       "      <th>998</th>\n",
       "      <td>86</td>\n",
       "      <td>0</td>\n",
       "      <td>140</td>\n",
       "      <td>1</td>\n",
       "      <td>20333</td>\n",
       "      <td>1</td>\n",
       "      <td>3</td>\n",
       "      <td>2</td>\n",
       "      <td>210</td>\n",
       "      <td>943</td>\n",
       "      <td>7</td>\n",
       "      <td>2</td>\n",
       "      <td>0</td>\n",
       "    </tr>\n",
       "    <tr>\n",
       "      <th>999</th>\n",
       "      <td>24</td>\n",
       "      <td>1</td>\n",
       "      <td>156</td>\n",
       "      <td>1</td>\n",
       "      <td>24922</td>\n",
       "      <td>1</td>\n",
       "      <td>2</td>\n",
       "      <td>3</td>\n",
       "      <td>151</td>\n",
       "      <td>445</td>\n",
       "      <td>9</td>\n",
       "      <td>4</td>\n",
       "      <td>0</td>\n",
       "    </tr>\n",
       "  </tbody>\n",
       "</table>\n",
       "<p>1000 rows × 13 columns</p>\n",
       "</div>"
      ],
      "text/plain": [
       "     Age  Gender  Blood_Pressure  Gestational_Diabetes  Total_Billing_Amount  \\\n",
       "0     29       1             126                     1                 87568   \n",
       "1     28       1              92                     0                 77041   \n",
       "2     21       0             148                     1                 19448   \n",
       "3     26       1             116                     1                 88776   \n",
       "4     78       1             121                     1                 69606   \n",
       "..   ...     ...             ...                   ...                   ...   \n",
       "995   26       0              91                     0                 58505   \n",
       "996   34       0             105                     1                 15117   \n",
       "997   97       0             105                     1                 50706   \n",
       "998   86       0             140                     1                 20333   \n",
       "999   24       1             156                     1                 24922   \n",
       "\n",
       "     Payment_Status  Staff_Role  Staff_Satisfaction  IV_Fluids_Stock  \\\n",
       "0                 0           1                   1              299   \n",
       "1                 1           2                   2              107   \n",
       "2                 1           0                   2              382   \n",
       "3                 1           0                   1              212   \n",
       "4                 0           0                   1               66   \n",
       "..              ...         ...                 ...              ...   \n",
       "995               1           1                   1              316   \n",
       "996               1           1                   5              382   \n",
       "997               0           2                   3              425   \n",
       "998               1           3                   2              210   \n",
       "999               1           2                   3              151   \n",
       "\n",
       "     Medications_Stock  Bed_Availability  Patient_Satisfaction  \\\n",
       "0                  601                 1                     4   \n",
       "1                  476                 7                     5   \n",
       "2                  211                 5                     4   \n",
       "3                  677                 1                     5   \n",
       "4                  721                 1                     2   \n",
       "..                 ...               ...                   ...   \n",
       "995                734                 6                     4   \n",
       "996                314                 1                     2   \n",
       "997                361                 3                     2   \n",
       "998                943                 7                     2   \n",
       "999                445                 9                     4   \n",
       "\n",
       "     Readmission_Within_30_Days  \n",
       "0                             1  \n",
       "1                             1  \n",
       "2                             1  \n",
       "3                             1  \n",
       "4                             0  \n",
       "..                          ...  \n",
       "995                           1  \n",
       "996                           1  \n",
       "997                           1  \n",
       "998                           0  \n",
       "999                           0  \n",
       "\n",
       "[1000 rows x 13 columns]"
      ]
     },
     "execution_count": 23,
     "metadata": {},
     "output_type": "execute_result"
    }
   ],
   "source": [
    "x"
   ]
  },
  {
   "cell_type": "code",
   "execution_count": 24,
   "id": "a6c4acb2",
   "metadata": {},
   "outputs": [
    {
     "name": "stdout",
     "output_type": "stream",
     "text": [
      "<class 'pandas.core.frame.DataFrame'>\n",
      "RangeIndex: 1000 entries, 0 to 999\n",
      "Data columns (total 13 columns):\n",
      " #   Column                      Non-Null Count  Dtype\n",
      "---  ------                      --------------  -----\n",
      " 0   Age                         1000 non-null   int64\n",
      " 1   Gender                      1000 non-null   int64\n",
      " 2   Blood_Pressure              1000 non-null   int64\n",
      " 3   Gestational_Diabetes        1000 non-null   int64\n",
      " 4   Total_Billing_Amount        1000 non-null   int64\n",
      " 5   Payment_Status              1000 non-null   int64\n",
      " 6   Staff_Role                  1000 non-null   int64\n",
      " 7   Staff_Satisfaction          1000 non-null   int64\n",
      " 8   IV_Fluids_Stock             1000 non-null   int64\n",
      " 9   Medications_Stock           1000 non-null   int64\n",
      " 10  Bed_Availability            1000 non-null   int64\n",
      " 11  Patient_Satisfaction        1000 non-null   int64\n",
      " 12  Readmission_Within_30_Days  1000 non-null   int64\n",
      "dtypes: int64(13)\n",
      "memory usage: 101.7 KB\n"
     ]
    }
   ],
   "source": [
    "x.info()"
   ]
  },
  {
   "cell_type": "code",
   "execution_count": 25,
   "id": "e9e66a83",
   "metadata": {},
   "outputs": [
    {
     "data": {
      "text/html": [
       "<div>\n",
       "<style scoped>\n",
       "    .dataframe tbody tr th:only-of-type {\n",
       "        vertical-align: middle;\n",
       "    }\n",
       "\n",
       "    .dataframe tbody tr th {\n",
       "        vertical-align: top;\n",
       "    }\n",
       "\n",
       "    .dataframe thead th {\n",
       "        text-align: right;\n",
       "    }\n",
       "</style>\n",
       "<table border=\"1\" class=\"dataframe\">\n",
       "  <thead>\n",
       "    <tr style=\"text-align: right;\">\n",
       "      <th></th>\n",
       "      <th>Maternal_Outcome</th>\n",
       "    </tr>\n",
       "  </thead>\n",
       "  <tbody>\n",
       "    <tr>\n",
       "      <th>0</th>\n",
       "      <td>2</td>\n",
       "    </tr>\n",
       "    <tr>\n",
       "      <th>1</th>\n",
       "      <td>2</td>\n",
       "    </tr>\n",
       "    <tr>\n",
       "      <th>2</th>\n",
       "      <td>2</td>\n",
       "    </tr>\n",
       "    <tr>\n",
       "      <th>3</th>\n",
       "      <td>2</td>\n",
       "    </tr>\n",
       "    <tr>\n",
       "      <th>4</th>\n",
       "      <td>2</td>\n",
       "    </tr>\n",
       "    <tr>\n",
       "      <th>...</th>\n",
       "      <td>...</td>\n",
       "    </tr>\n",
       "    <tr>\n",
       "      <th>995</th>\n",
       "      <td>0</td>\n",
       "    </tr>\n",
       "    <tr>\n",
       "      <th>996</th>\n",
       "      <td>2</td>\n",
       "    </tr>\n",
       "    <tr>\n",
       "      <th>997</th>\n",
       "      <td>1</td>\n",
       "    </tr>\n",
       "    <tr>\n",
       "      <th>998</th>\n",
       "      <td>0</td>\n",
       "    </tr>\n",
       "    <tr>\n",
       "      <th>999</th>\n",
       "      <td>2</td>\n",
       "    </tr>\n",
       "  </tbody>\n",
       "</table>\n",
       "<p>1000 rows × 1 columns</p>\n",
       "</div>"
      ],
      "text/plain": [
       "     Maternal_Outcome\n",
       "0                   2\n",
       "1                   2\n",
       "2                   2\n",
       "3                   2\n",
       "4                   2\n",
       "..                ...\n",
       "995                 0\n",
       "996                 2\n",
       "997                 1\n",
       "998                 0\n",
       "999                 2\n",
       "\n",
       "[1000 rows x 1 columns]"
      ]
     },
     "execution_count": 25,
     "metadata": {},
     "output_type": "execute_result"
    }
   ],
   "source": [
    "y"
   ]
  },
  {
   "cell_type": "markdown",
   "id": "33b07221",
   "metadata": {},
   "source": [
    "# Feature Selection"
   ]
  },
  {
   "cell_type": "code",
   "execution_count": 26,
   "id": "f86e7d6e",
   "metadata": {},
   "outputs": [
    {
     "name": "stdout",
     "output_type": "stream",
     "text": [
      "['Total_Billing_Amount', 'IV_Fluids_Stock', 'Medications_Stock', 'Blood_Pressure', 'Age']\n"
     ]
    },
    {
     "data": {
      "image/png": "[encoded data removed]",
      "text/plain": [
       "<Figure size 1300x700 with 1 Axes>"
      ]
     },
     "metadata": {},
     "output_type": "display_data"
    }
   ],
   "source": [
    "rf = RandomForestClassifier()\n",
    "rf.fit(x,y)\n",
    "feature_importances = rf.feature_importances_\n",
    "importance_df = pd.DataFrame({'Feature': x.columns, 'Importance': feature_importances})\n",
    "importance_df = importance_df.sort_values(by='Importance', ascending=False)\n",
    "ifs=importance_df['Feature'][:5]\n",
    "selected_columns = list(ifs)\n",
    "print(selected_columns)\n",
    "\n",
    "plt.figure(figsize=(13,7))\n",
    "plt.bar(ifs, importance_df['Importance'][:5], color='blue')\n",
    "plt.xlabel('Features')\n",
    "plt.ylabel('Importance')\n",
    "plt.title('Feature Importances')\n",
    "plt.xticks(rotation=90)\n",
    "plt.show()\n",
    "\n"
   ]
  },
  {
   "cell_type": "code",
   "execution_count": 27,
   "id": "b8aa31a2",
   "metadata": {},
   "outputs": [],
   "source": [
    "data2=data[['Total_Billing_Amount', 'IV_Fluids_Stock', 'Medications_Stock', 'Blood_Pressure', 'Age','Maternal_Outcome']]"
   ]
  },
  {
   "cell_type": "code",
   "execution_count": 28,
   "id": "cb1738b9",
   "metadata": {},
   "outputs": [],
   "source": [
    "x=data[['Total_Billing_Amount', 'IV_Fluids_Stock', 'Medications_Stock', 'Blood_Pressure', 'Age']]"
   ]
  },
  {
   "cell_type": "code",
   "execution_count": 29,
   "id": "725ad824",
   "metadata": {
    "colab": {
     "base_uri": "https://localhost:8080/",
     "height": 423
    },
    "id": "725ad824",
    "outputId": "18d9c01e-67c8-41f7-8e48-afe33e2f3cc6"
   },
   "outputs": [
    {
     "data": {
      "text/html": [
       "<div>\n",
       "<style scoped>\n",
       "    .dataframe tbody tr th:only-of-type {\n",
       "        vertical-align: middle;\n",
       "    }\n",
       "\n",
       "    .dataframe tbody tr th {\n",
       "        vertical-align: top;\n",
       "    }\n",
       "\n",
       "    .dataframe thead th {\n",
       "        text-align: right;\n",
       "    }\n",
       "</style>\n",
       "<table border=\"1\" class=\"dataframe\">\n",
       "  <thead>\n",
       "    <tr style=\"text-align: right;\">\n",
       "      <th></th>\n",
       "      <th>Total_Billing_Amount</th>\n",
       "      <th>IV_Fluids_Stock</th>\n",
       "      <th>Medications_Stock</th>\n",
       "      <th>Blood_Pressure</th>\n",
       "      <th>Age</th>\n",
       "    </tr>\n",
       "  </thead>\n",
       "  <tbody>\n",
       "    <tr>\n",
       "      <th>0</th>\n",
       "      <td>87568</td>\n",
       "      <td>299</td>\n",
       "      <td>601</td>\n",
       "      <td>126</td>\n",
       "      <td>29</td>\n",
       "    </tr>\n",
       "    <tr>\n",
       "      <th>1</th>\n",
       "      <td>77041</td>\n",
       "      <td>107</td>\n",
       "      <td>476</td>\n",
       "      <td>92</td>\n",
       "      <td>28</td>\n",
       "    </tr>\n",
       "    <tr>\n",
       "      <th>2</th>\n",
       "      <td>19448</td>\n",
       "      <td>382</td>\n",
       "      <td>211</td>\n",
       "      <td>148</td>\n",
       "      <td>21</td>\n",
       "    </tr>\n",
       "    <tr>\n",
       "      <th>3</th>\n",
       "      <td>88776</td>\n",
       "      <td>212</td>\n",
       "      <td>677</td>\n",
       "      <td>116</td>\n",
       "      <td>26</td>\n",
       "    </tr>\n",
       "    <tr>\n",
       "      <th>4</th>\n",
       "      <td>69606</td>\n",
       "      <td>66</td>\n",
       "      <td>721</td>\n",
       "      <td>121</td>\n",
       "      <td>78</td>\n",
       "    </tr>\n",
       "    <tr>\n",
       "      <th>...</th>\n",
       "      <td>...</td>\n",
       "      <td>...</td>\n",
       "      <td>...</td>\n",
       "      <td>...</td>\n",
       "      <td>...</td>\n",
       "    </tr>\n",
       "    <tr>\n",
       "      <th>995</th>\n",
       "      <td>58505</td>\n",
       "      <td>316</td>\n",
       "      <td>734</td>\n",
       "      <td>91</td>\n",
       "      <td>26</td>\n",
       "    </tr>\n",
       "    <tr>\n",
       "      <th>996</th>\n",
       "      <td>15117</td>\n",
       "      <td>382</td>\n",
       "      <td>314</td>\n",
       "      <td>105</td>\n",
       "      <td>34</td>\n",
       "    </tr>\n",
       "    <tr>\n",
       "      <th>997</th>\n",
       "      <td>50706</td>\n",
       "      <td>425</td>\n",
       "      <td>361</td>\n",
       "      <td>105</td>\n",
       "      <td>97</td>\n",
       "    </tr>\n",
       "    <tr>\n",
       "      <th>998</th>\n",
       "      <td>20333</td>\n",
       "      <td>210</td>\n",
       "      <td>943</td>\n",
       "      <td>140</td>\n",
       "      <td>86</td>\n",
       "    </tr>\n",
       "    <tr>\n",
       "      <th>999</th>\n",
       "      <td>24922</td>\n",
       "      <td>151</td>\n",
       "      <td>445</td>\n",
       "      <td>156</td>\n",
       "      <td>24</td>\n",
       "    </tr>\n",
       "  </tbody>\n",
       "</table>\n",
       "<p>1000 rows × 5 columns</p>\n",
       "</div>"
      ],
      "text/plain": [
       "     Total_Billing_Amount  IV_Fluids_Stock  Medications_Stock  Blood_Pressure  \\\n",
       "0                   87568              299                601             126   \n",
       "1                   77041              107                476              92   \n",
       "2                   19448              382                211             148   \n",
       "3                   88776              212                677             116   \n",
       "4                   69606               66                721             121   \n",
       "..                    ...              ...                ...             ...   \n",
       "995                 58505              316                734              91   \n",
       "996                 15117              382                314             105   \n",
       "997                 50706              425                361             105   \n",
       "998                 20333              210                943             140   \n",
       "999                 24922              151                445             156   \n",
       "\n",
       "     Age  \n",
       "0     29  \n",
       "1     28  \n",
       "2     21  \n",
       "3     26  \n",
       "4     78  \n",
       "..   ...  \n",
       "995   26  \n",
       "996   34  \n",
       "997   97  \n",
       "998   86  \n",
       "999   24  \n",
       "\n",
       "[1000 rows x 5 columns]"
      ]
     },
     "execution_count": 29,
     "metadata": {},
     "output_type": "execute_result"
    }
   ],
   "source": [
    "x"
   ]
  },
  {
   "cell_type": "code",
   "execution_count": 30,
   "id": "7b91b02a",
   "metadata": {
    "id": "7b91b02a"
   },
   "outputs": [],
   "source": [
    "\n",
    "from imblearn.over_sampling import SMOTE\n",
    "smote = SMOTE()\n",
    "x, y = smote.fit_resample(x, y)\n",
    "\n"
   ]
  },
  {
   "cell_type": "code",
   "execution_count": null,
   "id": "e208592a",
   "metadata": {
    "id": "e208592a"
   },
   "outputs": [],
   "source": []
  },
  {
   "cell_type": "code",
   "execution_count": 31,
   "id": "16f29018",
   "metadata": {
    "id": "16f29018"
   },
   "outputs": [],
   "source": [
    "x_train,x_test,y_train,y_test=train_test_split(x,y,test_size=0.20)"
   ]
  },
  {
   "cell_type": "code",
   "execution_count": 32,
   "id": "72da663c",
   "metadata": {},
   "outputs": [],
   "source": [
    "sc=StandardScaler()\n",
    "X_train = sc.fit_transform(x_train)\n",
    "X_test = sc.transform(x_test)"
   ]
  },
  {
   "cell_type": "code",
   "execution_count": 33,
   "id": "addaaaf5",
   "metadata": {
    "colab": {
     "base_uri": "https://localhost:8080/"
    },
    "id": "addaaaf5",
    "outputId": "dfef064f-59ce-414c-8adf-6688ccfd8028"
   },
   "outputs": [
    {
     "name": "stdout",
     "output_type": "stream",
     "text": [
      "Cross-validation scores: [0.6420765  0.65479452 0.63835616 0.68219178 0.66849315]\n",
      "Mean accuracy: 0.6571824238341193\n",
      "              precision    recall  f1-score   support\n",
      "\n",
      "           0       0.70      0.71      0.70       159\n",
      "           1       0.83      0.75      0.79       178\n",
      "           2       0.49      0.55      0.52       120\n",
      "\n",
      "    accuracy                           0.68       457\n",
      "   macro avg       0.67      0.67      0.67       457\n",
      "weighted avg       0.69      0.68      0.69       457\n",
      "\n"
     ]
    }
   ],
   "source": [
    "dt=DecisionTreeClassifier()\n",
    "kFold=StratifiedKFold(n_splits=5)\n",
    "cv_scores = cross_val_score(dt, x_train, y_train, cv=kFold, scoring='accuracy')\n",
    "print(f\"Cross-validation scores: {cv_scores}\")\n",
    "print(f\"Mean accuracy: {cv_scores.mean()}\")\n",
    "dt.fit(x_train,y_train)\n",
    "predictions = dt.predict(x_test)\n",
    "print(classification_report(predictions,y_test))\n"
   ]
  },
  {
   "cell_type": "code",
   "execution_count": 34,
   "id": "9b764177",
   "metadata": {
    "colab": {
     "base_uri": "https://localhost:8080/"
    },
    "id": "9b764177",
    "outputId": "62359b39-b5dd-4260-f889-11768414fb8c"
   },
   "outputs": [
    {
     "name": "stdout",
     "output_type": "stream",
     "text": [
      "Cross-validation scores: [0.75136612 0.80547945 0.7890411  0.7890411  0.81369863]\n",
      "Mean accuracy: 0.7897252788382363\n",
      "              precision    recall  f1-score   support\n",
      "\n",
      "           0       0.84      0.77      0.80       176\n",
      "           1       0.93      0.82      0.87       181\n",
      "           2       0.59      0.79      0.67       100\n",
      "\n",
      "    accuracy                           0.80       457\n",
      "   macro avg       0.79      0.80      0.78       457\n",
      "weighted avg       0.82      0.80      0.80       457\n",
      "\n"
     ]
    }
   ],
   "source": [
    "rf=RandomForestClassifier()\n",
    "kFold=StratifiedKFold(n_splits=5)\n",
    "cv_scores = cross_val_score(rf, x_train, y_train, cv=kFold, scoring='accuracy')\n",
    "print(f\"Cross-validation scores: {cv_scores}\")\n",
    "print(f\"Mean accuracy: {cv_scores.mean()}\")\n",
    "rf.fit(x_train,y_train)\n",
    "predictions = rf.predict(x_test)\n",
    "print(classification_report(predictions,y_test))\n"
   ]
  },
  {
   "cell_type": "code",
   "execution_count": null,
   "id": "9f71f864",
   "metadata": {},
   "outputs": [],
   "source": []
  },
  {
   "cell_type": "code",
   "execution_count": null,
   "id": "21b5e672",
   "metadata": {},
   "outputs": [],
   "source": []
  }
 ],
 "metadata": {
  "colab": {
   "provenance": []
  },
  "kernelspec": {
   "display_name": "Python 3",
   "language": "python",
   "name": "python3"
  },
  "language_info": {
   "codemirror_mode": {
    "name": "ipython",
    "version": 3
   },
   "file_extension": ".py",
   "mimetype": "text/x-python",
   "name": "python",
   "nbconvert_exporter": "python",
   "pygments_lexer": "ipython3",
   "version": "3.10.4"
  }
 },
 "nbformat": 4,
 "nbformat_minor": 5
}
